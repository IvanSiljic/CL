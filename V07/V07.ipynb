{
 "cells": [
  {
   "cell_type": "code",
   "execution_count": null,
   "id": "initial_id",
   "metadata": {
    "collapsed": true
   },
   "outputs": [],
   "source": [
    "import nltk\n",
    "import random\n",
    "\n",
    "from nltk.corpus import brown\n",
    "\n",
    "brownSents = brown.sents(categories = 'news')\n",
    "brownTaggedSents = [sentence for sentence in brown.tagged_sents(categories = 'news', tagset = 'universal')]\n",
    "\n",
    "# podijelimo oznacene recenice na skup za treniranje/testiranje\n",
    "size = int(0.9 * len(brownTaggedSents))\n",
    "random.shuffle(brownTaggedSents)\n",
    "\n"
   ]
  }
 ],
 "metadata": {
  "kernelspec": {
   "display_name": "Python 3",
   "language": "python",
   "name": "python3"
  },
  "language_info": {
   "codemirror_mode": {
    "name": "ipython",
    "version": 2
   },
   "file_extension": ".py",
   "mimetype": "text/x-python",
   "name": "python",
   "nbconvert_exporter": "python",
   "pygments_lexer": "ipython2",
   "version": "2.7.6"
  }
 },
 "nbformat": 4,
 "nbformat_minor": 5
}
