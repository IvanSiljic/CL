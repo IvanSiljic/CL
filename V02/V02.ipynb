{
 "cells": [
  {
   "cell_type": "markdown",
   "source": [
    "# Python regularni izrazi\n",
    "\n",
    "## `match()` i `search()` metode"
   ],
   "metadata": {
    "collapsed": false
   },
   "id": "768b924754a42bb9"
  },
  {
   "cell_type": "code",
   "execution_count": 1,
   "outputs": [
    {
     "name": "stdout",
     "output_type": "stream",
     "text": [
      "Uzorak kojeg smo pronašli:  mačke su pametnije od pasa. askdh\n"
     ]
    }
   ],
   "source": [
    "import re\n",
    "from regex import test_re\n",
    "\n",
    "text = \" mačke su pametnije od pasa. askdh\"\n",
    "\n",
    "mObj =re.search('ma[cč]ke su .*', text)\n",
    "\n",
    "if mObj:\n",
    "    print('Uzorak kojeg smo pronašli: ', mObj.group())\n",
    "else:\n",
    "    print('Nema podudaranja')"
   ],
   "metadata": {
    "collapsed": false,
    "ExecuteTime": {
     "end_time": "2023-10-24T11:11:46.801765892Z",
     "start_time": "2023-10-24T11:11:46.796870922Z"
    }
   },
   "id": "684fd5a9eb2dde7f"
  },
  {
   "cell_type": "markdown",
   "source": [
    "## Funkcija `findall()`"
   ],
   "metadata": {
    "collapsed": false
   },
   "id": "a387595a91491274"
  },
  {
   "cell_type": "code",
   "execution_count": 29,
   "outputs": [
    {
     "data": {
      "text/plain": "['ab', 'ab', 'ab']"
     },
     "execution_count": 29,
     "metadata": {},
     "output_type": "execute_result"
    }
   ],
   "source": [
    "# Pronađi sva nepreklapajuća podudaranja\n",
    "matches = re.findall('ab', 'abbabbab')\n",
    "matches"
   ],
   "metadata": {
    "collapsed": false,
    "ExecuteTime": {
     "end_time": "2023-10-23T10:59:00.329615909Z",
     "start_time": "2023-10-23T10:59:00.327401672Z"
    }
   },
   "id": "59b42e4e2b82f26e"
  },
  {
   "cell_type": "markdown",
   "source": [
    "# Alias regexi"
   ],
   "metadata": {
    "collapsed": false
   },
   "id": "c11273485aa89ce9"
  },
  {
   "cell_type": "code",
   "execution_count": 32,
   "outputs": [
    {
     "name": "stdout",
     "output_type": "stream",
     "text": [
      "--------------------\n",
      "=> Uzorak \\d? (niz znamenki)\n",
      "'Ovo je #1 primjer'\n",
      " ''\n",
      " .''\n",
      " ..''\n",
      " ...''\n",
      " ....''\n",
      " .....''\n",
      " ......''\n",
      " .......''\n",
      " ........'1'\n",
      " .........''\n",
      " ..........''\n",
      " ...........''\n",
      " ............''\n",
      " .............''\n",
      " ..............''\n",
      " ...............''\n",
      " ................''\n",
      " .................''\n",
      "--------------------\n",
      "=> Uzorak \\D+ (niz ne-znamenki)\n",
      "'Ovo je #1 primjer'\n",
      " 'Ovo je #'\n",
      " .........' primjer'\n",
      "--------------------\n",
      "=> Uzorak \\s+ (niz praznina)\n",
      "'Ovo je #1 primjer'\n",
      " ...' '\n",
      " ......' '\n",
      " .........' '\n",
      "--------------------\n",
      "=> Uzorak \\S+ (niz ne-praznina)\n",
      "'Ovo je #1 primjer'\n",
      " 'Ovo'\n",
      " ....'je'\n",
      " .......'#1'\n",
      " ..........'primjer'\n",
      "--------------------\n",
      "=> Uzorak \\w+ (niz alfanumerički znakova)\n",
      "'Ovo je #1 primjer'\n",
      " 'Ovo'\n",
      " ....'je'\n",
      " ........'1'\n",
      " ..........'primjer'\n",
      "--------------------\n",
      "=> Uzorak \\W+ (niz ne-alfanumerički znakova)\n",
      "'Ovo je #1 primjer'\n",
      " ...' '\n",
      " ......' #'\n",
      " .........' '\n"
     ]
    }
   ],
   "source": [
    "test_re('Ovo je #1 primjer',\n",
    "        [\n",
    "            ('\\d?', \"niz znamenki\"),\n",
    "            ('\\D+', 'niz ne-znamenki'),\n",
    "            ('\\s+', 'niz praznina'),\n",
    "            ('\\S+', 'niz ne-praznina'),\n",
    "            ('\\w+', 'niz alfanumerički znakova'),\n",
    "            ('\\W+', 'niz ne-alfanumerički znakova')\n",
    "        ]\n",
    ")"
   ],
   "metadata": {
    "collapsed": false,
    "ExecuteTime": {
     "end_time": "2023-10-23T11:02:01.897508113Z",
     "start_time": "2023-10-23T11:02:01.856265653Z"
    }
   },
   "id": "2b5c4c2d50982899"
  },
  {
   "cell_type": "markdown",
   "source": [
    "## Regex uzorci: klase"
   ],
   "metadata": {
    "collapsed": false
   },
   "id": "4f52e338a39c0f2d"
  },
  {
   "cell_type": "code",
   "execution_count": 37,
   "outputs": [
    {
     "name": "stdout",
     "output_type": "stream",
     "text": [
      "--------------------\n",
      "=> Uzorak [ab] (ili a ili b)\n",
      "'abbaabbba'\n",
      " 'a'\n",
      " .'b'\n",
      " ..'b'\n",
      " ...'a'\n",
      " ....'a'\n",
      " .....'b'\n",
      " ......'b'\n",
      " .......'b'\n",
      " ........'a'\n",
      "--------------------\n",
      "=> Uzorak a[ab]+ (iza a slijedi jedan ili više a ili b)\n",
      "'abbaabbba'\n",
      " 'abbaabbba'\n",
      "--------------------\n",
      "=> Uzorak a[ab]+? (iza a slijedi jedan ili više a ili b. ali ne pohlepno)\n",
      "'abbaabbba'\n",
      " 'ab'\n",
      " ...'aa'\n",
      "--------------------\n",
      "=> Uzorak [^-.]+ ()\n",
      "'Ovo je neki tekst -- s interpucijskim znakovima.'\n",
      " 'Ovo je neki tekst '\n",
      " ....................' s interpucijskim znakovima'\n"
     ]
    }
   ],
   "source": [
    "test_re(\n",
    "    'abbaabbba',\n",
    "    [\n",
    "        ('[ab]', 'ili a ili b'),\n",
    "        ('a[ab]+', 'iza a slijedi jedan ili više a ili b'),\n",
    "        ('a[ab]+?', 'iza a slijedi jedan ili više a ili b. ali ne pohlepno'),\n",
    "    ]\n",
    ")\n",
    "\n",
    "test_re(\n",
    "    'Ovo je neki tekst -- s interpucijskim znakovima.',\n",
    "    [\n",
    "        ('[^-.]+', 'niz bez - i .')\n",
    "    ]\n",
    ")"
   ],
   "metadata": {
    "collapsed": false,
    "ExecuteTime": {
     "end_time": "2023-10-23T11:11:43.472215192Z",
     "start_time": "2023-10-23T11:11:43.431262307Z"
    }
   },
   "id": "7228a1b412df4ffc"
  },
  {
   "cell_type": "code",
   "execution_count": 45,
   "outputs": [
    {
     "name": "stdout",
     "output_type": "stream",
     "text": [
      "--------------------\n",
      "=> Uzorak ab* (iza a slijedi 0 ili više b)\n",
      "'abbaabbba'\n",
      " 'abb'\n",
      " ...'a'\n",
      " ....'abbb'\n",
      " ........'a'\n",
      "--------------------\n",
      "=> Uzorak ab+ (iza a slijedi 1 ili više b)\n",
      "'abbaabbba'\n",
      " 'abb'\n",
      " ....'abbb'\n",
      "--------------------\n",
      "=> Uzorak ab? (iza a slijedi 0 ili 1 b)\n",
      "'abbaabbba'\n",
      " 'ab'\n",
      " ...'a'\n",
      " ....'ab'\n",
      " ........'a'\n",
      "--------------------\n",
      "=> Uzorak ab{2,3} (iza a slijedi 1 ili više b)\n",
      "'abbaabbba'\n",
      " 'abb'\n",
      " ....'abbb'\n"
     ]
    }
   ],
   "source": [
    "\n",
    "test_re(\n",
    "    'abbaabbba',\n",
    "    [\n",
    "        ('ab*', 'iza a slijedi 0 ili više b'),\n",
    "        ('ab+', 'iza a slijedi 1 ili više b'),\n",
    "        ('ab?', 'iza a slijedi 0 ili 1 b'),\n",
    "        ('ab{2,3}', 'iza a slijedi 1 ili više b')\n",
    "    ]\n",
    ")"
   ],
   "metadata": {
    "collapsed": false,
    "ExecuteTime": {
     "end_time": "2023-10-23T11:18:26.892281914Z",
     "start_time": "2023-10-23T11:18:26.850554662Z"
    }
   },
   "id": "2fcff4798c6da181"
  },
  {
   "cell_type": "code",
   "execution_count": 48,
   "outputs": [
    {
     "name": "stdout",
     "output_type": "stream",
     "text": [
      "--------------------\n",
      "=> Uzorak a(ab) (iza a slijedi ab)\n",
      "'abbaaabbbbaaaaa'\n",
      " ....'aab'\n",
      "--------------------\n",
      "=> Uzorak a(ab)* (iza a slijedi ab 0 ili više puta)\n",
      "'abbaaabbbbaaaaa'\n",
      " 'a'\n",
      " ...'a'\n",
      " ....'aab'\n",
      " ..........'a'\n",
      " ...........'a'\n",
      " ............'a'\n",
      " .............'a'\n",
      " ..............'a'\n",
      "--------------------\n",
      "=> Uzorak a(ab)+ (iza a slijedi ab 1 ili više puta)\n",
      "'abbaaabbbbaaaaa'\n",
      " ....'aab'\n"
     ]
    }
   ],
   "source": [
    "test_re(\n",
    "    'abbaaabbbbaaaaa',\n",
    "    [\n",
    "        ('a(ab)', 'iza a slijedi ab'),\n",
    "        ('a(ab)*', 'iza a slijedi ab 0 ili više puta'),\n",
    "        ('a(ab)+', 'iza a slijedi ab 1 ili više puta')\n",
    "    ]\n",
    ")"
   ],
   "metadata": {
    "collapsed": false,
    "ExecuteTime": {
     "end_time": "2023-10-23T11:22:54.394120103Z",
     "start_time": "2023-10-23T11:22:54.390598340Z"
    }
   },
   "id": "64f7c200dd59d526"
  },
  {
   "cell_type": "markdown",
   "source": [
    "## Zadatak\n",
    "Nadpunite sljedeći primjer s uzorcima kako bi odgovaralo opisu:\n"
   ],
   "metadata": {
    "collapsed": false
   },
   "id": "3ada71d3297f1481"
  },
  {
   "cell_type": "code",
   "execution_count": 65,
   "outputs": [
    {
     "name": "stdout",
     "output_type": "stream",
     "text": [
      "prva rijec: Ovo\n",
      "zadnja rijec s interpukcijom: znakovima.\n",
      "riječ koja počinje sa t i sljedeća riječ:  texst *$!\n",
      "riječ koja završava sa m: interpunkcijskim \n"
     ]
    }
   ],
   "source": [
    "text = \"Ovo je neki čudni texst *$! sa ---!?*$.% interpunkcijskim znakovima.\"\n",
    "\n",
    "uzorci = [\n",
    "        ('\\w+', 'prva rijec'),\n",
    "        ('\\S+$', 'zadnja rijec s interpukcijom'),\n",
    "        ('\\st\\w* \\S+', 'riječ koja počinje sa t i sljedeća riječ'),\n",
    "        ('\\w*m\\s', 'riječ koja završava sa m'),\n",
    "        \n",
    "]\n",
    "\n",
    "for uzorak, desc in uzorci:\n",
    "    nasli = re.search(uzorak, text)\n",
    "    print(f'{desc}: {nasli.group()}')"
   ],
   "metadata": {
    "collapsed": false,
    "ExecuteTime": {
     "end_time": "2023-10-23T11:38:29.736828247Z",
     "start_time": "2023-10-23T11:38:29.695347420Z"
    }
   },
   "id": "26f054527e268c72"
  },
  {
   "cell_type": "code",
   "execution_count": null,
   "outputs": [],
   "source": [],
   "metadata": {
    "collapsed": false
   },
   "id": "ba43723121e0887e"
  }
 ],
 "metadata": {
  "kernelspec": {
   "display_name": "Python 3",
   "language": "python",
   "name": "python3"
  },
  "language_info": {
   "codemirror_mode": {
    "name": "ipython",
    "version": 2
   },
   "file_extension": ".py",
   "mimetype": "text/x-python",
   "name": "python",
   "nbconvert_exporter": "python",
   "pygments_lexer": "ipython2",
   "version": "2.7.6"
  }
 },
 "nbformat": 4,
 "nbformat_minor": 5
}
