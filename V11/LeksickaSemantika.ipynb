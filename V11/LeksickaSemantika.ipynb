{
 "cells": [
  {
   "cell_type": "code",
   "execution_count": null,
   "metadata": {
    "slideshow": {
     "slide_type": "skip"
    }
   },
   "outputs": [],
   "source": [
    "from IPython.core.interactiveshell import InteractiveShell\n",
    "InteractiveShell.ast_node_interactivity = \"all\"\n",
    "# !python3 -m nltk.downloader framenet_v17"
   ]
  },
  {
   "cell_type": "markdown",
   "metadata": {
    "slideshow": {
     "slide_type": "slide"
    }
   },
   "source": [
    "# WordNet\n",
    "* semantički orijentirani riječnik engleskog jezika, sličan tezarusu\n",
    "* 155,287 riječi i 117,659 sinonimskih skupova"
   ]
  },
  {
   "cell_type": "markdown",
   "metadata": {
    "slideshow": {
     "slide_type": "fragment"
    }
   },
   "source": [
    "## Smisao i sinonimi\n",
    "* __sinonimi__ = riječi istog značenja, npr. hrv. ljekarna - apoteka, engl. motorcar - automobile\n",
    "* WordNet korpus u NLTK"
   ]
  },
  {
   "cell_type": "code",
   "execution_count": null,
   "metadata": {
    "slideshow": {
     "slide_type": "subslide"
    }
   },
   "outputs": [],
   "source": [
    "from nltk.corpus import wordnet\n",
    "wordnet.synsets('wolves')\n",
    "wordnet.synset('dog.n.01').lemma_names() # leme sinonima\n",
    "# definicija\n",
    "wordnet.synset('dog.n.01').definition() # defincija sinonimskog skupa \n",
    "# primjer\n",
    "wordnet.synset('dog.n.01').examples() # primjer koristenja\n",
    "# leme\n",
    "wordnet.synset('car.n.01').lemmas()   # leme pripadnih sinonima\n",
    "wordnet.lemma('car.n.01.automobile').synset() \n",
    "wordnet.lemma('car.n.01.automobile').name()  # naziv leme\n",
    "\n",
    "\n",
    "# sinonimski skupovi\n",
    "wordnet.synsets('car') # nekoliko ....\n",
    "wordnet.lemmas('car')"
   ]
  },
  {
   "cell_type": "markdown",
   "metadata": {
    "slideshow": {
     "slide_type": "slide"
    }
   },
   "source": [
    "## WordNet hijerarhija\n",
    "* Sinonimski skupovi WordNeta se povezuju s apstraktnim konceptima opći(`Entity`,`State`,`Event`) i specijalizirani koncepti (npr. hatchback tip vozila )\n",
    "\n",
    "<img src=\"wordnet.png\" width=\"650\">\n"
   ]
  },
  {
   "cell_type": "markdown",
   "metadata": {
    "slideshow": {
     "slide_type": "subslide"
    }
   },
   "source": [
    "## Leksičke relacije\n",
    "\n",
    "* preko takvih koncepata možemo doći do *leksičkih relacija*:\n",
    "    * __hiponimi/hipernimi__ = pojmovi koji predstavljaju jezični analogon podskupa/nadskupa nekog pojma, u hijerarhijskom smislu mogu se predstaviti u relaciji _roditelj-dijete_\n",
    "    *  __meronimi__ = pojmovi koji predstavljaju komponente od kojih je načinjen neki drugi pojam\n",
    "    * __holonimi__  = pojmovi unutar kojeg je sadržan neki pojam\n",
    "    * __antonimi__  = pojmovi suprotnog značenja\n",
    "    * __inherentni pojmovi (engl. entailment)__  = pojmovi koji su inherentno uključeni u dani pojam"
   ]
  },
  {
   "cell_type": "code",
   "execution_count": null,
   "metadata": {
    "slideshow": {
     "slide_type": "subslide"
    }
   },
   "outputs": [],
   "source": [
    "# hiponimi i hipernimi\n",
    "from nltk.corpus import wordnet\n",
    "motorcar = wordnet.synset('car.n.01')\n",
    "# hiponimi\n",
    "hypoMotorcar = motorcar.hyponyms() # synset hiponima\n",
    "print('\\nhiponimi:', hypoMotorcar)\n",
    "#sorted([lemma.name() for synset in hypoMotorcar for lemma in synset.lemmas()]) # ispisi nazive lema\n",
    "# hipernimi\n",
    "hyperMotorcar = motorcar.hypernyms()\n",
    "print('\\nhipernimi:', hyperMotorcar)\n",
    "# putanja car -> entity\n",
    "paths = motorcar.hypernym_paths()\n",
    "# popis sinonimskih skupova za prvi put\n",
    "\n",
    "print('\\nskupovi hipernima na putu 1:', [synset.name() for synset in paths[0]])\n",
    "# popis sinonimskih skupova za drugi put\n",
    "print('skupovi hipernima na putu 2:', [synset.name() for synset in paths[1]])\n",
    "\n",
    "# korijenski hipernim:\n",
    "motorcar.root_hypernyms()\n",
    "\n",
    "\n"
   ]
  },
  {
   "cell_type": "code",
   "execution_count": null,
   "metadata": {
    "slideshow": {
     "slide_type": "subslide"
    }
   },
   "outputs": [],
   "source": [
    "# meronimi i holonimi\n",
    "from nltk.corpus import wordnet\n",
    "tree = wordnet.synset('tree.n.01')\n",
    "# pojmovi kao dijelovi dreveta\n",
    "tree.part_meronyms()\n",
    "# pojmovi kao srz drveta\n",
    "tree.substance_meronyms()\n",
    "# holonim\n",
    "tree.member_holonyms()\n",
    "\n",
    "# inherentni pojmovi\n",
    "wordnet.synset('walk.v.01').entailments()\n",
    "\n",
    "# antonimi\n",
    "wordnet.synsets('supply')\n",
    "wordnet.synset('supply.n.02').lemmas()\n",
    "wordnet.lemma('supply.n.02.supply').antonyms()\n",
    "\n",
    "\n",
    "wordnet.lemma('horizontal.a.01.horizontal').antonyms()\n",
    "\n"
   ]
  },
  {
   "cell_type": "markdown",
   "metadata": {
    "slideshow": {
     "slide_type": "slide"
    }
   },
   "source": [
    "## Semantička sličnost\n",
    "* semantički skupovi kao vrhovi grafa u kojima bridovi čine leksičke relacije\n",
    "* za dani semantički skup, obilazak grafa predstavlja pronalaženje semantičkih skupova sličnog značenja\n",
    "* **primjena**: optimizacija indeksiranja kolekcije tekstova\n",
    "    \n",
    "__Ideja__: 2 semantička skupa $S_1,S_2$ su povezani zajedničkim semantičkim skupom $r$. Putovi od $S_1$ i $S_2$ mogu imati zajedničke vrhove: \n",
    "> __Problem najnižeg zajedničkog hipernima__: pronaći $r$ koji je nabliži $S_1$ u $S_2$ u smislu broja bridova.\n",
    "\n",
    "\n",
    "\n"
   ]
  },
  {
   "cell_type": "code",
   "execution_count": null,
   "metadata": {
    "slideshow": {
     "slide_type": "subslide"
    }
   },
   "outputs": [],
   "source": [
    "from nltk.corpus import wordnet\n",
    "# LCH od 'mother' 'kin'?\n",
    "wordnet.synset('kin.n.01').lowest_common_hypernyms(wordnet.synset('mother.n.01'))\n",
    "# LCH  od 'policeman' , 'chef'\n",
    "wordnet.synset('policeman.n.01').lowest_common_hypernyms(wordnet.synset('chef.n.01'))\n",
    "# mjera sličnosti pojmova\n",
    "wordnet.synset('kin.n.01').path_similarity(wordnet.synset('mother.n.01'))"
   ]
  },
  {
   "cell_type": "markdown",
   "metadata": {
    "slideshow": {
     "slide_type": "slide"
    }
   },
   "source": [
    "# FrameNet\n",
    "FrameNet korpus je leksička baza podataka engleskog teksta:\n",
    "* temeljeno na _teoriji značenja_ (MTT) tzv. Frame Semantics (Charles J. Fillmore et al.) \n",
    "* princip: značenje većine riječi se može shvatiti preko _semantičkog okvira_\n",
    "* *semantički okir:* opis događaja, odnosa, entiteta i sudionika koji sudjeluju u odnosu na dani pojam\n",
    "> primjer: cooking\n",
    "    * sudionik: cook\n",
    "    * entiteti: food, container, source of heat\n",
    "    * **Frame**: Apply_heat \n",
    "    * **Frame Elements (FE)** (uloge): `Cook, Food, Heating_instrument, Container`\n",
    "    * **Leksičke jedinice** ('pozivaju' okvire): `fry,bake,boil,broil` su pridružene okvir `Apply_heat`\n",
    "    \n",
    "**CILJ**: __FrameNet__ definira okvire i označava rečenice kako bi pokazao kako FE sintaktički odgovara riječima koji 'pozivaju' okvire. \n",
    "* U NLTK dohvaća se modulom `nltk.corpus.framenet`"
   ]
  },
  {
   "cell_type": "markdown",
   "metadata": {
    "slideshow": {
     "slide_type": "subslide"
    }
   },
   "source": [
    "## Okviri (engl. Frames)\n",
    "* konceptualna struktura koja opisuje događaj, odnos, entitet i sudionike koji sudjeluju u odnosu na dani pojam\n",
    "* Role (uloge) okvira: FE, leksičke jedinice: LU\n",
    "\n",
    "Relacije između okvira:\n",
    "* **inheritance**: dijete okvir nasljeđuje FE svojstva roditeljskog okvira \n",
    "    *  `Revenge` _nasljeđuje_ `Rewards_and_punishment`\n",
    "* **using**: dijete pretpostavlja roditeljski okvir u pozadini \n",
    "    * `Speed` _inherentno koristi_ `Motion`\n",
    "* **subframe**: dijete okvir je događaj unutar složenijeg događaja predstavljen kao roditelj okvir \n",
    "    * `Arrest`, `Trial` su _sadržani_ u okviru `Criminal Process`\n",
    "* **perspective_on**: dijete okvir daje posebnu perspektivu na roditeljski okvir s obzirom na neki drugi okvir\n",
    "    * `Hiring`, `Get_a_job` su perspektive od `Employment_start` s obzirom na `Employer` ili `Employee`"
   ]
  },
  {
   "cell_type": "markdown",
   "metadata": {
    "slideshow": {
     "slide_type": "fragment"
    }
   },
   "source": [
    "Dohvaćanje liste okvira iz FrameNet korištenjem `framenet.frames()` funkcije (regex ili ID okvira)"
   ]
  },
  {
   "cell_type": "code",
   "execution_count": null,
   "metadata": {
    "slideshow": {
     "slide_type": "subslide"
    }
   },
   "outputs": [],
   "source": [
    "from pprint import pprint\n",
    "from nltk.corpus import framenet\n",
    "len(framenet.frames())\n",
    "\n",
    "pprint(framenet.frames(r'(?i)medical')) # regex case insensitive\n",
    "f = framenet.frame(256)\n",
    "f\n",
    "f.ID, f.name,f.definition\n",
    "# role \n",
    "pprint(sorted([x for x in f.FE]))\n",
    "\n",
    "# realcije\n",
    "pprint(f.frameRelations)\n"
   ]
  },
  {
   "cell_type": "code",
   "execution_count": null,
   "metadata": {
    "slideshow": {
     "slide_type": "slide"
    }
   },
   "outputs": [],
   "source": [
    "\n",
    "# pretrazivanje s LU\n",
    "frames = framenet.frames_by_lemma(r'(?i)a little') # regex case insensitive\n",
    "pprint(frames)\n"
   ]
  },
  {
   "cell_type": "markdown",
   "metadata": {
    "slideshow": {
     "slide_type": "subslide"
    }
   },
   "source": [
    "## Leksičke jedinice\n",
    "* leksičke jedinice  = sparuju riječ sa značenjem\n",
    "\n",
    "**Primjer**: Lema `bake.v` je vezana s 3 značenja (kao okvira):\n",
    "    * `Apply_heat`\n",
    "    * `Cooking_creation`\n",
    "    * `Absorb_heat`\n",
    "    \n",
    "* pristup leksičkim jedinicima ostvarujemo korištenjem funkcije `framenet.lus()` (uz parametar koji je regex)\n",
    "* specifično, za pojedini LU idenitificiran s ID korisitimo funkciju `framenet.lu(ID)`"
   ]
  },
  {
   "cell_type": "code",
   "execution_count": null,
   "metadata": {
    "slideshow": {
     "slide_type": "subslide"
    }
   },
   "outputs": [],
   "source": [
    "from pprint import pprint\n",
    "from nltk.corpus import framenet\n",
    "# ukupni broj LU:\n",
    "len(framenet.lus())\n",
    "framenet.lus(r'(?i)a little')\n",
    "# dohvacanje LU preko ID\n",
    "framenet.lu(256).name,framenet.lu(256).definition\n",
    "# okvir kojeg enkapsulira\n",
    "framenet.lu(256).frame\n"
   ]
  },
  {
   "cell_type": "markdown",
   "metadata": {
    "slideshow": {
     "slide_type": "subslide"
    }
   },
   "source": [
    "## Označeni dokumenti\n",
    "FrameNet korpus sadrži manji skup označenih dokumenta.  Pristup preko `framenet.documents()`."
   ]
  },
  {
   "cell_type": "code",
   "execution_count": null,
   "metadata": {
    "slideshow": {
     "slide_type": "subslide"
    }
   },
   "outputs": [],
   "source": [
    "from pprint import pprint\n",
    "from nltk.corpus import framenet\n",
    "docs = framenet.docs()\n",
    "\n",
    "# popis tekstova iz korpusa\n",
    "docs\n",
    "# uzmimo drugi korpus\n",
    "history_greece = docs[2]\n",
    "history_greece\n",
    "\n"
   ]
  },
  {
   "cell_type": "code",
   "execution_count": null,
   "metadata": {},
   "outputs": [],
   "source": [
    "# dohvatimo jednu od recenica iz dokumenta\n",
    "annoted_sentence = history_greece['sentence'][1]\n",
    "print(annoted_sentence)\n",
    "# POS oznake u toj rečenici"
   ]
  },
  {
   "cell_type": "code",
   "execution_count": null,
   "metadata": {
    "tags": []
   },
   "outputs": [],
   "source": [
    "# zelimo dohvatiti rečenicu indeksa 1:\n",
    "docs[0]"
   ]
  },
  {
   "cell_type": "markdown",
   "metadata": {
    "slideshow": {
     "slide_type": "slide"
    }
   },
   "source": [
    "# Syntactic-Semantic Framework za HR jezik"
   ]
  },
  {
   "cell_type": "markdown",
   "metadata": {
    "slideshow": {
     "slide_type": "subslide"
    }
   },
   "source": [
    "Poveznica: [Sintaktičko-semantički okvir](https://ssf.mathos.hr)\n",
    "\n",
    "\n",
    "**Pristup**:\n",
    " * Web sučelje (javni pristup i autentifikacija)\n",
    " * API pristup (API ključ potreban)"
   ]
  },
  {
   "cell_type": "markdown",
   "metadata": {
    "slideshow": {
     "slide_type": "subslide"
    }
   },
   "source": [
    "SSF predstavlja računalni model HR jezika koji u sebi sadrži: \n",
    "  > 1. tezarij riječi (LEX),\n",
    "  > 2. tezarij morfema (MSY),\n",
    "  > 3. tezarij višerječnica (MWE)\n",
    "  > 4. **T-strukture**: sustav oznaka organizira oznake u obliku stabla\n",
    "  > 5. **O-strukture**: regex temeljeni sustav pretraživanja semantičko-sintaktičkih obilježja\n"
   ]
  },
  {
   "cell_type": "markdown",
   "metadata": {
    "slideshow": {
     "slide_type": "slide"
    }
   },
   "source": [
    "# API sučelje"
   ]
  },
  {
   "cell_type": "markdown",
   "metadata": {
    "slideshow": {
     "slide_type": "subslide"
    }
   },
   "source": [
    "SSF nudi mogućnost pristupa iz drugih alata koristeći SSF API. "
   ]
  },
  {
   "cell_type": "markdown",
   "metadata": {
    "slideshow": {
     "slide_type": "subslide"
    }
   },
   "source": [
    "## Kategorije API funkcija:\n",
    "Potpunu dokumentaciju možete pogledati na [funkcije.pdf](funkcije.pdf)\n",
    "\n",
    "  * semantičke funkcije\n",
    "  * statističke funkcije\n",
    "  * Morfološke funkcije\n",
    "  * WoS/SoW funkcije\n",
    "  * sintaktičke funkcije\n",
    "  * ..."
   ]
  },
  {
   "cell_type": "markdown",
   "metadata": {
    "slideshow": {
     "slide_type": "slide"
    }
   },
   "source": [
    "# Python SSF wrapper"
   ]
  },
  {
   "cell_type": "code",
   "execution_count": null,
   "metadata": {
    "slideshow": {
     "slide_type": "slide"
    }
   },
   "outputs": [],
   "source": [
    "# koristimo wrapper za ssf\n",
    "# nasi paketi\n",
    "from ssf import POSTagger,ssf"
   ]
  },
  {
   "cell_type": "code",
   "execution_count": null,
   "metadata": {
    "slideshow": {
     "slide_type": "subslide"
    }
   },
   "outputs": [],
   "source": [
    "sentence = 'Ovih dana ne pada snijeg.'"
   ]
  },
  {
   "cell_type": "code",
   "execution_count": null,
   "metadata": {
    "slideshow": {
     "slide_type": "subslide"
    }
   },
   "outputs": [],
   "source": [
    "print('SSF module: universal POS tags')\n",
    "nlp_ssf = POSTagger.load('hr')\n",
    "doc = nlp_ssf(sentence)\n",
    "#visualize\n",
    "doc.render()"
   ]
  },
  {
   "cell_type": "code",
   "execution_count": null,
   "metadata": {
    "slideshow": {
     "slide_type": "slide"
    }
   },
   "outputs": [],
   "source": [
    "# nasa implementacija SSF APIa.\n",
    "\n",
    "class my_ssf(ssf):\n",
    "    def __init__(self):\n",
    "        ssf.__init__(self)        \n",
    "    \n",
    "    \n",
    "    def plural(self,sentence,lemma=None):\n",
    "        return self._response(u\"=Plural({!r})\".format(sentence))\n",
    "       \n",
    "    def change_tense(self,sentence,time):\n",
    "        return self._response(u\"=ChangeTense({!r},{!r})\".format(sentence,time))\n",
    "    \n",
    "    # semantics\n",
    "    def synonym(self,word):\n",
    "        return self._response(u\"=Synonym({!r})\".format(word))\n",
    "        \n",
    "    \n",
    "   \n",
    "    # SPO triplet \n",
    "    def get_subj(self,sentence):\n",
    "        return self._response(u\"=DetectS({!r})\".format(sentence))\n",
    "    \n",
    "    def get_pred(self,sentence):\n",
    "        return self._response(u\"=DetectP({!r})\".format(sentence))\n",
    "    \n",
    "    def get_obj(self,sentence):\n",
    "        return self._response(u\"=DetectO({!r})\".format(sentence))\n",
    "        \n",
    "        \n",
    "    # kolokacije\n",
    "    def collocation(self,sentence):\n",
    "        \"\"\"\n",
    "        return triple (subjekt, predikat, objekt)\n",
    "        \"\"\"\n",
    "        return self._response(u\"=Collocation({!r})\".format(sentence))\n",
    "    \n",
    "    def subordinate(self,text):\n",
    "        \"\"\"\n",
    "           ordredjuje vrstu zavisne recenice i vraca O-strukturu \n",
    "        \"\"\"\n",
    "        return self._response(u\"=SplitSentences({!r})\".format(text))\n",
    "    \n",
    "    def tag_multext(self,word):\n",
    "        return self._response(u\"=Word2MULTEXT({!r})\".format(word))\n",
    "    \n",
    "    def Ngrams(self,sent,n,d):\n",
    "        return self._response(u\"=Ngrams({!r},{!r},{!r})\".format(sent,n,d))\n",
    "    \n",
    "    def DetectMetonymy(self,text):\n",
    "        return self._response(u\"=DetectMetonymy({!r})\".format(text))\n",
    "    \n",
    "    def lemmatizer(self,sent):\n",
    "        return self._response(u\"=sentence2lemma({!r})\".format(sent))\n",
    "    \n",
    "    def DetectColoc(self,sent):\n",
    "        return self._response(u\"=DetectColoc({!r})\".format(sent))\n",
    "\n",
    "# moji test podaci\n",
    "ssf_hr = my_ssf()\n"
   ]
  },
  {
   "cell_type": "markdown",
   "metadata": {
    "slideshow": {
     "slide_type": "slide"
    }
   },
   "source": [
    "## SSF: Sintaktička analiza"
   ]
  },
  {
   "cell_type": "code",
   "execution_count": null,
   "metadata": {
    "slideshow": {
     "slide_type": "subslide"
    }
   },
   "outputs": [],
   "source": [
    "# promjena glagolskog vremena\n",
    "print(ssf_hr.plural('vidim promjenu'))\n",
    "print(ssf_hr.change_tense('vidim plavu kuću','aorist'))\n"
   ]
  },
  {
   "cell_type": "code",
   "execution_count": null,
   "metadata": {
    "slideshow": {
     "slide_type": "subslide"
    }
   },
   "outputs": [],
   "source": [
    "# lematizacija\n",
    "tekst = 'Netko je rekao: budimo zahvalni'\n",
    "\n",
    "ssf_hr.lemmatizer(tekst)\n",
    "ssf_hr.Ngrams(\"Čitala je njegove pjesme kao da prvi put otkriva snagu pjesničke riječi\", 3, 4)"
   ]
  },
  {
   "cell_type": "code",
   "execution_count": null,
   "metadata": {
    "slideshow": {
     "slide_type": "subslide"
    }
   },
   "outputs": [],
   "source": [
    "print(ssf_hr.subordinate(\"Koji ne može sebi zapovijedati, ne može ni drugom.\"))\n",
    "# n-grami\n"
   ]
  },
  {
   "cell_type": "markdown",
   "metadata": {
    "slideshow": {
     "slide_type": "slide"
    }
   },
   "source": [
    "## SSF: Semantička analiza"
   ]
  },
  {
   "cell_type": "code",
   "execution_count": null,
   "metadata": {
    "slideshow": {
     "slide_type": "subslide"
    }
   },
   "outputs": [],
   "source": [
    "print(ssf_hr.synonym('raditi'))\n",
    "print(ssf_hr.DetectColoc('Prešli smo labavu carinsku uniju'))\n",
    "print(ssf_hr.get_subj('Automobil vozi cestom'))\n"
   ]
  },
  {
   "cell_type": "code",
   "execution_count": null,
   "metadata": {
    "slideshow": {
     "slide_type": "subslide"
    }
   },
   "outputs": [],
   "source": [
    "ssf_hr.DetectMetonymy('Kruna je dala proglas')"
   ]
  }
 ],
 "metadata": {
  "celltoolbar": "Slideshow",
  "kernelspec": {
   "display_name": "Python 3 (ipykernel)",
   "language": "python",
   "name": "python3"
  },
  "language_info": {
   "codemirror_mode": {
    "name": "ipython",
    "version": 3
   },
   "file_extension": ".py",
   "mimetype": "text/x-python",
   "name": "python",
   "nbconvert_exporter": "python",
   "pygments_lexer": "ipython3",
   "version": "3.8.16"
  },
  "livereveal": {
   "scroll": true,
   "start_slideshow_at": "selected",
   "theme": "white",
   "transition": "zoom"
  }
 },
 "nbformat": 4,
 "nbformat_minor": 4
}
