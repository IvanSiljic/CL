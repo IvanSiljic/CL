{
 "cells": [
  {
   "cell_type": "code",
   "execution_count": 3,
   "metadata": {
    "slideshow": {
     "slide_type": "skip"
    }
   },
   "outputs": [],
   "source": [
    "# preps: ispis bez print funkcije :-)\n",
    "from IPython.core.interactiveshell import InteractiveShell\n",
    "InteractiveShell.ast_node_interactivity = \"all\"\n",
    "\n",
    "import re  # regex\n",
    "from pprint import pprint # pretty print"
   ]
  },
  {
   "cell_type": "markdown",
   "metadata": {
    "slideshow": {
     "slide_type": "slide"
    }
   },
   "source": [
    "# RacJez | Python | Regex II\n",
    "\n",
    "## Promjene stringova\n",
    "\n",
    "Koristeći regex izraze i pripadne funkcije raditi promjene nad stringovima:\n",
    "* razdvajanje (`split()`)\n",
    "* zamjena (`sub,subn()`)\n",
    "\n",
    "Dodatne funkcionalnosti:\n",
    "* grupe dohvaćanja\n",
    "* povratnost\n",
    "* imenovanje grupa\n",
    "\n",
    "**Napomena**: Svi primjeri koji će biti predstavljeni mogu se prekompilirati radi efikasnosti. "
   ]
  },
  {
   "cell_type": "markdown",
   "metadata": {
    "slideshow": {
     "slide_type": "slide"
    }
   },
   "source": [
    "## Python | Regex | split\n",
    "\n",
    "```python\n",
    "re.split(pattern,string,maxsplit=0,flags=0)\n",
    "```\n",
    "\n",
    "* funkcija koja razdvaja `string` prema pojavi podudaranja s `pattern`\n",
    "* opcija `maxsplit` kaže koliko najviše želimo podjela\n",
    "* ukoliko koristimo regex grupe dohvaćanja `()`, tekst te grupe se isto pojavljuje u podjeli."
   ]
  },
  {
   "cell_type": "code",
   "execution_count": 4,
   "metadata": {
    "slideshow": {
     "slide_type": "subslide"
    }
   },
   "outputs": [
    {
     "data": {
      "text/plain": [
       "['Bolestan bijah i u tamnici i ne pohodiste me',\n",
       " ' Gospodine, a kada te to vidjesmo',\n",
       " ' A ovi u muku odoše',\n",
       " '']"
      ]
     },
     "execution_count": 4,
     "metadata": {},
     "output_type": "execute_result"
    },
    {
     "data": {
      "text/plain": [
       "['Bolestan bijah i u tamnici i ne pohodiste me',\n",
       " '!',\n",
       " ' Gospodine, a kada te to vidjesmo',\n",
       " '?',\n",
       " ' A ovi u muku odoše',\n",
       " '.',\n",
       " '']"
      ]
     },
     "execution_count": 4,
     "metadata": {},
     "output_type": "execute_result"
    },
    {
     "data": {
      "text/plain": [
       "['Pohvatajte', 'lisice male lisice što oštećuju vinograde']"
      ]
     },
     "execution_count": 4,
     "metadata": {},
     "output_type": "execute_result"
    },
    {
     "data": {
      "text/plain": [
       "['Pohvatajte', ' ', 'lisice male lisice što oštećuju vinograde']"
      ]
     },
     "execution_count": 4,
     "metadata": {},
     "output_type": "execute_result"
    }
   ],
   "source": [
    "# Python | Regex | split\n",
    "# tekst\n",
    "verse1 = \"Bolestan bijah i u tamnici i ne pohodiste me! Gospodine, a kada te to vidjesmo? A ovi u muku odoše.\"\n",
    "\n",
    "# razdvajanje v1\n",
    "re.split('\\.|!|\\?',verse1)\n",
    "# ukoliko zelimo imati uzorak u podijeli enkapsuliramo čitav izraz u grupu\n",
    "re.split('(\\.|!|\\?)',verse1)\n",
    "\n",
    "verse2 = \"Pohvatajte lisice male lisice što oštećuju vinograde\"\n",
    "re.split('\\W+',verse2,1)\n",
    "re.split('(\\W+)',verse2,1)\n",
    "\n"
   ]
  },
  {
   "cell_type": "markdown",
   "metadata": {
    "slideshow": {
     "slide_type": "slide"
    }
   },
   "source": [
    "## Python | Regex | sub, subn\n",
    "\n",
    " ```python\n",
    "re.sub(pattern,repl,string,count=0,flags=0)\n",
    "```\n",
    "\n",
    "* vrati string vraćen zamjenom prve (s lijeva na desno) nepreklapajuće podudarajuće pojave uzorka `pattern` u `string` s parametrom `repl` \n",
    "* ukoliko uzorak nije nađen vrati nepromijenjen string\n",
    "* parametar `repl` može biti string ili _funkcija_ \n",
    "* opcionalni parametar `count` predstavlja max. broj zamjena\n",
    "\n",
    "\n",
    "```python\n",
    "re.subn(pattern,repl,string,count=0,flags=0)\n",
    "```\n",
    "* ista funkcionalnost kao `sub()` osim što vraća dvojku izmjenjenog stringa i broj učinjenih zamjena "
   ]
  },
  {
   "cell_type": "code",
   "execution_count": 5,
   "metadata": {
    "slideshow": {
     "slide_type": "subslide"
    }
   },
   "outputs": [
    {
     "data": {
      "text/plain": [
       "'Marko & Matej & Luka & Ivan'"
      ]
     },
     "execution_count": 5,
     "metadata": {},
     "output_type": "execute_result"
    },
    {
     "data": {
      "text/plain": [
       "'Bond007'"
      ]
     },
     "execution_count": 5,
     "metadata": {},
     "output_type": "execute_result"
    },
    {
     "data": {
      "text/plain": [
       "('Marko & Matej & Luka & Ivan', 3)"
      ]
     },
     "execution_count": 5,
     "metadata": {},
     "output_type": "execute_result"
    }
   ],
   "source": [
    "# Python | regex | sub\n",
    "# zamjeni 1,2,3 sa znakom '&'\n",
    "verse3 = \"Marko1 Matej2 Luka3 Ivan\"\n",
    "re.sub('[0-9]+ ',' & ',verse3)\n",
    "\n",
    "# nepreklapajuce podudaranje s lijeva\n",
    "verse4 = \"Bond000007\"\n",
    "re.sub('000','',verse4)\n",
    "\n",
    "# 'subn()' primjer\n",
    "verse3 = \"Marko1 Matej2 Luka3 Ivan\"\n",
    "re.subn('[0-9]+ ',' & ',verse3)\n"
   ]
  },
  {
   "cell_type": "markdown",
   "metadata": {
    "slideshow": {
     "slide_type": "slide"
    }
   },
   "source": [
    "## Python | regex | grupe dohvaćanja\n",
    "\n",
    "Grupe dohvaćanja unutar regex uzorka, u oznaci `()`, služe kasnijem dohvaćanju preko:\n",
    "* `group(num=x)` metode iz objekta sparivanja `matchObj` gdje je `x` redni broj grupe\n",
    "* povratno referenciranje ili isključivanje iz dohvaćanja\n",
    "* mogu biti imenovane \n"
   ]
  },
  {
   "cell_type": "code",
   "execution_count": 6,
   "metadata": {
    "slideshow": {
     "slide_type": "subslide"
    }
   },
   "outputs": [
    {
     "name": "stdout",
     "output_type": "stream",
     "text": [
      "['Srpanj 24', 'Kolovoz 9', 'Prosinac 12']\n",
      "['Srpanj', 'Kolovoz', 'Prosinac']\n"
     ]
    },
    {
     "data": {
      "text/plain": [
       "'Srpanj 24'"
      ]
     },
     "execution_count": 6,
     "metadata": {},
     "output_type": "execute_result"
    },
    {
     "data": {
      "text/plain": [
       "'Srpanj'"
      ]
     },
     "execution_count": 6,
     "metadata": {},
     "output_type": "execute_result"
    },
    {
     "data": {
      "text/plain": [
       "'24'"
      ]
     },
     "execution_count": 6,
     "metadata": {},
     "output_type": "execute_result"
    }
   ],
   "source": [
    "# regex | grupe dohvaćanja\n",
    "import re\n",
    "# Razlika uzoraka do na zagrade?\n",
    "# 1. standardno podudaranje uzoraka bez grupa\n",
    "tekst = \"Srpanj 24, Kolovoz 9, Prosinac 12, Travanj D\"\n",
    "regex = r\"[a-zA-Z]+ \\d+\"\n",
    "matches = re.findall(regex, tekst)\n",
    "print(matches)\n",
    "# 2. dohvaćanje posebnog dijela podudarenog uzorka\n",
    "regex = r\"([a-zA-Z]+) \\d+\"\n",
    "matches = re.findall(regex, tekst)\n",
    "print(matches)\n",
    "\n",
    "# search\n",
    "matchObj = re.search(r'([a-zA-Z]+) (\\d+)',tekst)\n",
    "matchObj.group()   # dohvaćanje bez grupe\n",
    "matchObj.group(1) # dohvacanje 1. grupe \n",
    "matchObj.group(2) # dohvacanje 2. grupe"
   ]
  },
  {
   "cell_type": "markdown",
   "metadata": {
    "slideshow": {
     "slide_type": "slide"
    }
   },
   "source": [
    "### Python | regex | povratnost (engl. backreference)\n",
    "\n",
    "U funkciji zamjene `sub` od koristi je ponekad koristiti *povratnost*: \n",
    "* korištenje reference na prijašnju grupu iz regex uzorka  \n",
    "* oznaka: `\\i` gdje  `i` redni broj grupe u `pattern` ukoliko se dohvaća unutar uzorka, inače `\\g<i>`"
   ]
  },
  {
   "cell_type": "code",
   "execution_count": 9,
   "metadata": {
    "slideshow": {
     "slide_type": "subslide"
    }
   },
   "outputs": [
    {
     "data": {
      "text/plain": [
       "'Python&Pails'"
      ]
     },
     "execution_count": 9,
     "metadata": {},
     "output_type": "execute_result"
    },
    {
     "data": {
      "text/plain": [
       "'zamislite bolju <b>Hrvatsku</b>, <b>čarobnu</b> Hrvatsku'"
      ]
     },
     "execution_count": 9,
     "metadata": {},
     "output_type": "execute_result"
    }
   ],
   "source": [
    "# primjer 1: povratnost\n",
    "test = 'Python&Pails'\n",
    "pattern = r'([Pp])ython&\\1ails'\n",
    "re.match(pattern,test).group()\n",
    "\n",
    "# primjer 2: MarkDown 2 HTML konverzija\n",
    "tekst = 'zamislite bolju *Hrvatsku*, *čarobnu* Hrvatsku'\n",
    "pattern = r'\\*(.*?)\\*' # nepohlepni pristup pronalazenja *izraz*\n",
    "# \\g<1> predstavlja referencu na 1. grupu: (.*?)\n",
    "re.sub(pattern,r'<b>\\g<1></b>',tekst) # count predstavlja broj ostvarenih zamjena\n",
    "\n",
    "\n",
    "\n"
   ]
  },
  {
   "cell_type": "markdown",
   "metadata": {
    "slideshow": {
     "slide_type": "slide"
    }
   },
   "source": [
    "\n",
    "### izuzimajuće grupe dohvaćanja\n",
    "\n",
    "Grupe dohvaćanja možemo eksplicitno izuzeti u oznaci\n",
    "```python\n",
    "(?:pattern)\n",
    "```\n",
    "što znači: \n",
    "* potraga pronalazi `pattern` unutar stringa, ali ne vraća podudarajući podstring za tu grupu\n",
    "* grupa se ne može referencirati"
   ]
  },
  {
   "cell_type": "code",
   "execution_count": 113,
   "metadata": {
    "slideshow": {
     "slide_type": "subslide"
    }
   },
   "outputs": [
    {
     "data": {
      "text/plain": [
       "[('abb', 'bb', '', 'bb'), ('aa', 'a', 'a', '')]"
      ]
     },
     "execution_count": 113,
     "metadata": {},
     "output_type": "execute_result"
    },
    {
     "data": {
      "text/plain": [
       "[('abb', 'bb'), ('aa', 'a')]"
      ]
     },
     "execution_count": 113,
     "metadata": {},
     "output_type": "execute_result"
    },
    {
     "data": {
      "text/plain": [
       "[('aa', 'a')]"
      ]
     },
     "execution_count": 113,
     "metadata": {},
     "output_type": "execute_result"
    },
    {
     "data": {
      "text/plain": [
       "['aa']"
      ]
     },
     "execution_count": 113,
     "metadata": {},
     "output_type": "execute_result"
    }
   ],
   "source": [
    "# dohvacanje preko findall \n",
    "tekst = 'abbaabbba'\n",
    "re.findall(r'(a((a+)|(b+)))',tekst) # ukupno 3 grupe dohvaćanja\n",
    "\n",
    "# isključivanje grupe:\n",
    "# primjer 1\n",
    "re.findall(r'(a((?:a+)|(?:b+)))',tekst) # ukupno jedna grupa dohvaćanja\n",
    "# primjer 2\n",
    "re.findall(r'(a(a+))',tekst) \n",
    "re.findall(r'a(?:a+)',tekst) \n"
   ]
  },
  {
   "cell_type": "markdown",
   "metadata": {
    "slideshow": {
     "slide_type": "slide"
    }
   },
   "source": [
    "##  imenovanje grupa\n",
    "* grupe dohvaćanja mogu se imenovati s oznakom `(?P<name>)` gdje `name` predstavlja ime te grupe\n",
    "* grupa se dohvaća s `(?P=name)` i predstavlja novu grupu s uzorkom grupe `name`"
   ]
  },
  {
   "cell_type": "code",
   "execution_count": 10,
   "metadata": {
    "slideshow": {
     "slide_type": "subslide"
    }
   },
   "outputs": [
    {
     "name": "stdout",
     "output_type": "stream",
     "text": [
      "\n",
      "regex: \"^(?P<prva_rijec>\\w+)\": \n",
      "\tgrupe:\t\t  ('Ovo',)\n",
      "\trjecnici imena:\t  {'prva_rijec': 'Ovo'}\n",
      "\n",
      "regex: \"(?P<zadnja_rijec>\\w+)\\S*$\": \n",
      "\tgrupe:\t\t  ('interpunkcije',)\n",
      "\trjecnici imena:\t  {'zadnja_rijec': 'interpunkcije'}\n",
      "\n",
      "regex: \"(?P<t_rijec>\\bt\\w+)\\W+(?P<neka_rijec>\\w+)\": \n",
      "\tgrupe:\t\t  ('tekst', 'sa')\n",
      "\trjecnici imena:\t  {'t_rijec': 'tekst', 'neka_rijec': 'sa'}\n",
      "\n",
      "regex: \"(?P<zavrsava_t>\\w+t)\\b\": \n",
      "\tgrupe:\t\t  ('tekst',)\n",
      "\trjecnici imena:\t  {'zavrsava_t': 'tekst'}\n"
     ]
    }
   ],
   "source": [
    "#imenovane grupe\n",
    "import re\n",
    "\n",
    "tekst = 'Ovo je neki tekst !?. sa znakovima interpunkcije.'\n",
    "\n",
    "for pattern in [ r'^(?P<prva_rijec>\\w+)',\n",
    "                   r'(?P<zadnja_rijec>\\w+)\\S*$',\n",
    "                   r'(?P<t_rijec>\\bt\\w+)\\W+(?P<neka_rijec>\\w+)',\n",
    "                  r'(?P<zavrsava_t>\\w+t)\\b'\n",
    "                ]:\n",
    "    \n",
    "    match = re.search(pattern,tekst)\n",
    "    print('\\nregex: \"%s\": '.rjust(10) % pattern)\n",
    "    print('\\tgrupe:\\t\\t '.rjust(10),  match.groups())\n",
    "    print('\\trjecnici imena:\\t '.rjust(8),  match.groupdict())\n"
   ]
  },
  {
   "cell_type": "markdown",
   "metadata": {
    "slideshow": {
     "slide_type": "slide"
    }
   },
   "source": [
    "# Vježba: Markdown2HTML \n",
    "\n",
    "Predložite još neke regex izraze koji će napraviti konverziju `**` znakova u odgovarajući `<b>`,`</b>`\n",
    "\n"
   ]
  },
  {
   "cell_type": "code",
   "execution_count": 12,
   "metadata": {
    "slideshow": {
     "slide_type": "fragment"
    }
   },
   "outputs": [
    {
     "name": "stdout",
     "output_type": "stream",
     "text": [
      "\n",
      "** ZAMJENE **\n",
      "Tekst: Načini ovo **podebljano**. Ovo **takodjer**.\n",
      "podebljano: Načini ovo <b>podebljano</b>. Ovo <b>takodjer</b>.\n",
      "\n",
      "** ZAMJENE IMENOVANE GRUPE **\n",
      "Tekst: Načini ovo **podebljano**. Ovo **takodjer**.\n",
      "podebljano: Načini ovo <b>podebljano</b>. Ovo <b>takodjer</b>.\n",
      "\n",
      "** PREBROJAVANJE ZAMJENA **\n",
      "Tekst: Načini ovo **podebljano**. Ovo **takodjer**.\n",
      "podebljano: Načini ovo <b>podebljano</b>. Ovo **takodjer**.\n"
     ]
    }
   ],
   "source": [
    "#substitute\n",
    "print('\\n** ZAMJENE **')\n",
    "# regex izraz predkompajliran\n",
    "bold = re.compile(r'\\*{2}(.*?)\\*{2}')\n",
    "tekst = 'Načini ovo **podebljano**. Ovo **takodjer**.'\n",
    "\n",
    "print('Tekst:', tekst)\n",
    "print('podebljano:', bold.sub(r'<b>\\1</b>', tekst))\n",
    "\n",
    "#substitute named group\n",
    "print('\\n** ZAMJENE IMENOVANE GRUPE **')\n",
    "masno = re.compile(r'\\*{2}(?P<Podebljani_tekst>.*?)\\*{2}', re.UNICODE)\n",
    "tekst = 'Načini ovo **podebljano**. Ovo **takodjer**.'\n",
    "\n",
    "print('Tekst:', tekst)\n",
    "print('podebljano:', masno.sub(r'<b>\\g<Podebljani_tekst></b>', tekst))\n",
    "\n",
    "\n",
    "#substitute count\n",
    "print('\\n** PREBROJAVANJE ZAMJENA **')\n",
    "masno = re.compile(r'\\*{2}(.*?)\\*{2}', re.UNICODE)\n",
    "tekst = 'Načini ovo **podebljano**. Ovo **takodjer**.'\n",
    "\n",
    "print('Tekst:', tekst)\n",
    "print('podebljano:', masno.sub(r'<b>\\1</b>', tekst, count=1))\n",
    "\n",
    "\n"
   ]
  },
  {
   "cell_type": "markdown",
   "metadata": {
    "slideshow": {
     "slide_type": "slide"
    }
   },
   "source": [
    "# ZADATAK: Validne email adrese\n",
    "\n",
    "Za dani tekst `emails` napišite Python program koji će iz `emails` ispisati validna imena email adresa. Problem riješite tako da koristite regex."
   ]
  },
  {
   "cell_type": "code",
   "execution_count": 14,
   "metadata": {
    "slideshow": {
     "slide_type": "fragment"
    }
   },
   "outputs": [
    {
     "name": "stdout",
     "output_type": "stream",
     "text": [
      " : Not OK\n",
      "ime.prezime@abcd.edu : OK\n",
      "ime.prezime+category@gmail.com : Not OK\n",
      "ispravna@adresa@mail.primjer.com : Not OK\n",
      "pitagora.mathos.hr : Not OK\n"
     ]
    }
   ],
   "source": [
    "# gotova implementacija\n",
    "\n",
    "emails = \"\"\"\n",
    "ime.prezime@abcd.edu;\n",
    "ime.prezime+category@gmail.com;\n",
    "ispravna@adresa@mail.primjer.com;\n",
    "pitagora.mathos.hr\n",
    "\"\"\"\n",
    "\n",
    "\n",
    "# rjesenje \n",
    "regex = '^\\w+([\\.-]?\\w+)*@\\w+([\\.-]?\\w+)*(\\.\\w{2,3})+$'\n",
    "\n",
    "for e in emails.splitlines():\n",
    "    email = e.rstrip(';')\n",
    "    print(email,':',end=' ')\n",
    "    if re.search(regex,email): \n",
    "        print(\"OK\")  \n",
    "    else:  \n",
    "        print(\"Not OK\")  \n"
   ]
  }
 ],
 "metadata": {
  "celltoolbar": "Slideshow",
  "kernelspec": {
   "display_name": "Python 3",
   "language": "python",
   "name": "python3"
  },
  "language_info": {
   "codemirror_mode": {
    "name": "ipython",
    "version": 3
   },
   "file_extension": ".py",
   "mimetype": "text/x-python",
   "name": "python",
   "nbconvert_exporter": "python",
   "pygments_lexer": "ipython3",
   "version": "3.9.16"
  },
  "livereveal": {
   "scroll": true,
   "start_slideshow_at": "selected",
   "transition": "zoom"
  }
 },
 "nbformat": 4,
 "nbformat_minor": 4
}
