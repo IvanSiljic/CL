{
 "cells": [
  {
   "cell_type": "markdown",
   "metadata": {},
   "source": [
    "# Syntactic-Semantic Framework"
   ]
  },
  {
   "cell_type": "markdown",
   "metadata": {},
   "source": [
    "Poveznica: [Sintaktičko-semantički okvir](https://ssf.mathos.hr)\n",
    "\n",
    "\n",
    "**Pristup**:\n",
    " * Web sučelje (javni pristup i autentifikacija)\n",
    " * API pristup (API ključ potreban)"
   ]
  },
  {
   "cell_type": "markdown",
   "metadata": {},
   "source": [
    "SSF predstavlja računalni model HR jezika koji u sebi sadrži: \n",
    "  > 1. tražilicu riječi (Riječi),\n",
    "  > 2. tražilicu rečenica (Rečenice),\n",
    "  > 3. stablo gramatičkih i semantičkih obilježja riječi i uzoraka (T-strukture WoS i SoW)\n",
    "  > 4. rječnik/tezarij (MSY, LEX, MWE, O-strukture)."
   ]
  },
  {
   "cell_type": "markdown",
   "metadata": {},
   "source": [
    "# API sučelje"
   ]
  },
  {
   "cell_type": "markdown",
   "metadata": {},
   "source": [
    "SSF nudi mogućnost pristupa iz drugih alata koristeći SSF API. "
   ]
  },
  {
   "cell_type": "markdown",
   "metadata": {},
   "source": [
    "## Kategorije API funkcija:\n",
    "Potpunu dokumentaciju možete pogledati na [funkcije.pdf](funkcije.pdf)\n",
    "\n",
    "  * Semantičke funkcije\n",
    "  * statističke funkcije\n",
    "  * Morfološke funkcije\n",
    "  * WoS/SoW funkcije\n",
    "  * Sintaktičke funkcije\n",
    "  * ..."
   ]
  },
  {
   "cell_type": "markdown",
   "metadata": {},
   "source": [
    "# Python SSF wrapper"
   ]
  },
  {
   "cell_type": "code",
   "execution_count": 2,
   "metadata": {},
   "outputs": [],
   "source": [
    "# koristimo wrapper za ssf\n",
    "# nasi paketi\n",
    "from ssf import POSTagger,ssf"
   ]
  },
  {
   "cell_type": "code",
   "execution_count": 5,
   "metadata": {},
   "outputs": [],
   "source": [
    "sentence = 'Kupit ću lijepu kuću na kraju grada.'"
   ]
  },
  {
   "cell_type": "code",
   "execution_count": 6,
   "metadata": {},
   "outputs": [
    {
     "name": "stdout",
     "output_type": "stream",
     "text": [
      "SSF module: universal POS tags\n"
     ]
    },
    {
     "data": {
      "text/html": [
       "<span class=\"tex2jax_ignore\"><svg xmlns=\"http://www.w3.org/2000/svg\" xmlns:xlink=\"http://www.w3.org/1999/xlink\" xml:lang=\"en\" id=\"79e9e50781d6489fbf19bf0bf0f74bdb-0\" class=\"displacy\" width=\"1450\" height=\"137.0\" direction=\"ltr\" style=\"max-width: none; height: 137.0px; color: #000000; background: #ffffff; font-family: Arial; direction: ltr\">\n",
       "<text class=\"displacy-token\" fill=\"currentColor\" text-anchor=\"middle\" y=\"47.0\">\n",
       "    <tspan class=\"displacy-word\" fill=\"currentColor\" x=\"50\">Kupit</tspan>\n",
       "    <tspan class=\"displacy-tag\" dy=\"2em\" fill=\"currentColor\" x=\"50\">VERB</tspan>\n",
       "</text>\n",
       "\n",
       "<text class=\"displacy-token\" fill=\"currentColor\" text-anchor=\"middle\" y=\"47.0\">\n",
       "    <tspan class=\"displacy-word\" fill=\"currentColor\" x=\"225\">ću</tspan>\n",
       "    <tspan class=\"displacy-tag\" dy=\"2em\" fill=\"currentColor\" x=\"225\">x</tspan>\n",
       "</text>\n",
       "\n",
       "<text class=\"displacy-token\" fill=\"currentColor\" text-anchor=\"middle\" y=\"47.0\">\n",
       "    <tspan class=\"displacy-word\" fill=\"currentColor\" x=\"400\">lijepu</tspan>\n",
       "    <tspan class=\"displacy-tag\" dy=\"2em\" fill=\"currentColor\" x=\"400\">ADJ</tspan>\n",
       "</text>\n",
       "\n",
       "<text class=\"displacy-token\" fill=\"currentColor\" text-anchor=\"middle\" y=\"47.0\">\n",
       "    <tspan class=\"displacy-word\" fill=\"currentColor\" x=\"575\">kuću</tspan>\n",
       "    <tspan class=\"displacy-tag\" dy=\"2em\" fill=\"currentColor\" x=\"575\">NOUN</tspan>\n",
       "</text>\n",
       "\n",
       "<text class=\"displacy-token\" fill=\"currentColor\" text-anchor=\"middle\" y=\"47.0\">\n",
       "    <tspan class=\"displacy-word\" fill=\"currentColor\" x=\"750\">na</tspan>\n",
       "    <tspan class=\"displacy-tag\" dy=\"2em\" fill=\"currentColor\" x=\"750\">ADP</tspan>\n",
       "</text>\n",
       "\n",
       "<text class=\"displacy-token\" fill=\"currentColor\" text-anchor=\"middle\" y=\"47.0\">\n",
       "    <tspan class=\"displacy-word\" fill=\"currentColor\" x=\"925\">kraju</tspan>\n",
       "    <tspan class=\"displacy-tag\" dy=\"2em\" fill=\"currentColor\" x=\"925\">NOUN</tspan>\n",
       "</text>\n",
       "\n",
       "<text class=\"displacy-token\" fill=\"currentColor\" text-anchor=\"middle\" y=\"47.0\">\n",
       "    <tspan class=\"displacy-word\" fill=\"currentColor\" x=\"1100\">grada</tspan>\n",
       "    <tspan class=\"displacy-tag\" dy=\"2em\" fill=\"currentColor\" x=\"1100\">NOUN</tspan>\n",
       "</text>\n",
       "\n",
       "<text class=\"displacy-token\" fill=\"currentColor\" text-anchor=\"middle\" y=\"47.0\">\n",
       "    <tspan class=\"displacy-word\" fill=\"currentColor\" x=\"1275\">.</tspan>\n",
       "    <tspan class=\"displacy-tag\" dy=\"2em\" fill=\"currentColor\" x=\"1275\">x</tspan>\n",
       "</text>\n",
       "</svg></span>"
      ],
      "text/plain": [
       "<IPython.core.display.HTML object>"
      ]
     },
     "metadata": {},
     "output_type": "display_data"
    }
   ],
   "source": [
    "print('SSF module: universal POS tags')\n",
    "nlp_ssf = POSTagger.load('hr')\n",
    "doc = nlp_ssf(sentence)\n",
    "#visualize\n",
    "doc.render()"
   ]
  },
  {
   "cell_type": "code",
   "execution_count": 10,
   "metadata": {},
   "outputs": [
    {
     "name": "stdout",
     "output_type": "stream",
     "text": [
      "['izrađivati', 'uraditi', 'proizvoditi', 'stvoriti', 'proizvesti', 'tvoriti', 'praviti', 'činiti', 'učiniti', 'stvarati', 'izraditi', 'načiniti', 'napraviti', 'izgraditi', 'izgrađivati', 'konstruirati', 'graditi', 'sagraditi', 'biti uključen', 'biti upaljen', 'obraditi', 'obrađivati', 'fabricirati', 'upravljati', 'dvoriti', 'služiti', 'poslužiti', 'posluživati', 'obnašati dužnost', 'vršiti dužnost', 'funkcionirati', 'baviti se', 'vršiti', 'obavljati', 'izvršavati', 'provoditi', 'producirati', 'robijati', 'dirinčiti', 'mučiti se', 'crnčiti', 'kulučiti', 'rintati']\n",
      "[\"labava carinska unija\", \"labava federacija\", \"labava granica\", \"labava kompozicija\", \"labava konfederacija\", \"labava unija\", \"labave cijene\", \"labave uzde\", \"labave veze\", \"labav re\\u017eim\", \"labava politi\\u010dka suradnja\", \"labava veza me\\u0111u koalicijskim strankama\"]\n",
      "[[\"subjektna\", 0, \"(^\\\\S+\\\\[w:136\\\\].+\\\\[w:5\\\\].+),(.+\\\\[w:5\\\\].+)\", \"Koji[w:136] ne mo\\u017ee[w:5] sebi zapovijedati[w:5] , ne mo\\u017ee[w:5] ni drugom . \", [\"Koji ne mo\\u017ee sebi zapovijedati\", \"ne mo\\u017ee ni drugom .\"]]]\n"
     ]
    },
    {
     "data": {
      "text/plain": [
       "'ovaj su priča iz davnina .'"
      ]
     },
     "execution_count": 10,
     "metadata": {},
     "output_type": "execute_result"
    }
   ],
   "source": [
    "# nasa implementacija SSF APIa.\n",
    "\n",
    "class my_ssf(ssf):\n",
    "    def __init__(self):\n",
    "        ssf.__init__(self)        \n",
    "    \n",
    "    \n",
    "    def plural(self,sentence,lemma=None):\n",
    "        return self._response(u\"=Plural({!r})\".format(sentence))\n",
    "       \n",
    "    def change_tense(self,sentence,time):\n",
    "        return self._response(u\"=ChangeTense({!r},{!r})\".format(sentence,time))\n",
    "    \n",
    "    # semantics\n",
    "    def synonym(self,word):\n",
    "        return self._response(u\"=Synonym({!r})\".format(word))\n",
    "        \n",
    "    \n",
    "   \n",
    "    # SPO triplet \n",
    "    def get_subj(self,sentence):\n",
    "        return self._response(u\"=DetectS({!r})\".format(sentence))\n",
    "    \n",
    "    def get_pred(self,sentence):\n",
    "        return self._response(u\"=DetectP({!r})\".format(sentence))\n",
    "    \n",
    "    def get_obj(self,sentence):\n",
    "        return self._response(u\"=DetectO({!r})\".format(sentence))\n",
    "        \n",
    "        \n",
    "    # kolokacije\n",
    "    def collocation(self,sentence):\n",
    "        \"\"\"\n",
    "        return triple (subjekt, predikat, objekt)\n",
    "        \"\"\"\n",
    "        return self._response(u\"=Collocation({!r})\".format(sentence))\n",
    "    \n",
    "    def subordinate(self,text):\n",
    "        \"\"\"\n",
    "           ordredjuje vrstu zavisne recenice i vraca O-strukturu \n",
    "        \"\"\"\n",
    "        return self._response(u\"=SplitSentences({!r})\".format(text))\n",
    "    \n",
    "    def tag_multext(self,word):\n",
    "        return self._response(u\"=Word2MULTEXT({!r})\".format(word))\n",
    "    \n",
    "    def Ngrams(self,sent,n,d):\n",
    "        return self._response(u\"=Ngrams({!r},{!r},{!r})\".format(sent,n,d))\n",
    "    \n",
    "    def lemmatizer(self,sent):\n",
    "        return self._response(u\"=sentence2lemma({!r})\".format(sent))\n",
    "\n",
    "# moji test podaci\n",
    "ssf_hr = my_ssf()\n",
    "#print(ssf_hr.plural('vidim plavu kuću'))\n",
    "#print(ssf_hr.change_tense('vidim plavu kuću','aorist'))\n",
    "print(ssf_hr.synonym('raditi'))\n",
    "print(ssf_hr.collocation('labav'))\n",
    "print(ssf_hr.subordinate(\"Koji ne može sebi zapovijedati, ne može ni drugom.\"))\n",
    "#ssf_hr.get_subj('Zeljka kuha ručak.')\n",
    "#ssf_hr.tag_multext('stol')\n",
    "ssf_hr.Ngrams(\"Čitala je njegove pjesme kao da prvi put otkriva snagu pjesničke riječi\", 3, 3)\n",
    "\n",
    "tekst = 'ovo su priče iz davnine.'\n",
    "\n",
    "ssf_hr.lemmatizer(tekst)\n",
    "\n",
    "\n",
    "\n",
    "\n",
    "\n"
   ]
  },
  {
   "cell_type": "code",
   "execution_count": null,
   "metadata": {},
   "outputs": [],
   "source": []
  }
 ],
 "metadata": {
  "kernelspec": {
   "display_name": "Python 3",
   "language": "python",
   "name": "python3"
  },
  "language_info": {
   "codemirror_mode": {
    "name": "ipython",
    "version": 3
   },
   "file_extension": ".py",
   "mimetype": "text/x-python",
   "name": "python",
   "nbconvert_exporter": "python",
   "pygments_lexer": "ipython3",
   "version": "3.8.8"
  }
 },
 "nbformat": 4,
 "nbformat_minor": 4
}
