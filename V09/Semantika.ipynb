{
 "cells": [
  {
   "cell_type": "code",
   "execution_count": 13,
   "metadata": {
    "slideshow": {
     "slide_type": "skip"
    }
   },
   "outputs": [],
   "source": [
    "# NLTK and visualization\n",
    "import nltk\n",
    "\n",
    "import sys \n",
    "sys.path.append('..')\n",
    "#from nltk2tikz import show_parse\n",
    "\n",
    "# koristenje dokazatelja (prover)\n",
    "prover = nltk.Prover9()\n",
    "prover.config_prover9(r'C://Tools//Prover9-Mace4//bin-win32' )\n",
    "\n",
    "import os\n",
    "os.environ[\"Prover9\"] = \"C://Tools//Prover9-Mace4//bin-win32\"\n",
    "\n",
    "my_value = os.environ.get(\"Prover9\")\n"
   ]
  },
  {
   "cell_type": "code",
   "execution_count": 27,
   "metadata": {
    "slideshow": {
     "slide_type": "skip"
    }
   },
   "outputs": [],
   "source": [
    "from IPython.core.interactiveshell import InteractiveShell\n",
    "InteractiveShell.ast_node_interactivity = \"all\""
   ]
  },
  {
   "cell_type": "code",
   "execution_count": null,
   "metadata": {
    "slideshow": {
     "slide_type": "skip"
    }
   },
   "outputs": [],
   "source": [
    "#!jupyter nbconvert --to html Semantika.ipynb"
   ]
  },
  {
   "cell_type": "markdown",
   "metadata": {
    "slideshow": {
     "slide_type": "slide"
    }
   },
   "source": [
    "# Analiziranje značenja prirodnog jezika"
   ]
  },
  {
   "cell_type": "markdown",
   "metadata": {
    "slideshow": {
     "slide_type": "subslide"
    }
   },
   "source": [
    "## Motivacija: \"Brute force\" pristup analiziranja značenja prirodnog jezika\n",
    "\n",
    "> *Scenarij*: Želimo da računalo može odgovoriti na pitanje: *What cities are located in China?* \n",
    "\n",
    "> Brute-Force: prirodni jezik -> FBG -> SQL :-)\n",
    "> * Uska domena značenja: prijestolnica + država + populacija = SQL DB\n",
    "> * Formirati FBG koja upit prirodnog jezika pretvara u SQL upit ...  npr. `SELECT Country FROM city_table WHERE City = 'athens'`"
   ]
  },
  {
   "cell_type": "code",
   "execution_count": 2,
   "metadata": {
    "slideshow": {
     "slide_type": "subslide"
    }
   },
   "outputs": [
    {
     "name": "stdout",
     "output_type": "stream",
     "text": [
      "% start S\n",
      "S[SEM=(?np + WHERE + ?vp)] -> NP[SEM=?np] VP[SEM=?vp]\n",
      "VP[SEM=(?v + ?pp)] -> IV[SEM=?v] PP[SEM=?pp]\n",
      "VP[SEM=(?v + ?ap)] -> IV[SEM=?v] AP[SEM=?ap]\n",
      "NP[SEM=(?det + ?n)] -> Det[SEM=?det] N[SEM=?n]\n",
      "PP[SEM=(?p + ?np)] -> P[SEM=?p] NP[SEM=?np]\n",
      "AP[SEM=?pp] -> A[SEM=?a] PP[SEM=?pp]\n",
      "NP[SEM='Country=\"greece\"'] -> 'Greece'\n",
      "NP[SEM='Country=\"china\"'] -> 'China'\n",
      "Det[SEM='SELECT'] -> 'Which' | 'What'\n",
      "N[SEM='City FROM city_table'] -> 'cities'\n",
      "IV[SEM=''] -> 'are'\n",
      "A[SEM=''] -> 'located'\n",
      "P[SEM=''] -> 'in'\n"
     ]
    }
   ],
   "source": [
    "import nltk\n",
    "nltk.data.show_cfg('grammars/book_grammars/sql0.fcfg')"
   ]
  },
  {
   "cell_type": "code",
   "execution_count": 3,
   "metadata": {
    "slideshow": {
     "slide_type": "subslide"
    }
   },
   "outputs": [
    {
     "name": "stdout",
     "output_type": "stream",
     "text": [
      "(S[SEM=(SELECT, City FROM city_table, WHERE, , , Country=\"greece\")]\n",
      "  (NP[SEM=(SELECT, City FROM city_table)]\n",
      "    (Det[SEM='SELECT'] What)\n",
      "    (N[SEM='City FROM city_table'] cities))\n",
      "  (VP[SEM=(, , Country=\"greece\")]\n",
      "    (IV[SEM=''] are)\n",
      "    (AP[SEM=(, Country=\"greece\")]\n",
      "      (A[SEM=''] located)\n",
      "      (PP[SEM=(, Country=\"greece\")]\n",
      "        (P[SEM=''] in)\n",
      "        (NP[SEM='Country=\"greece\"'] Greece)))))\n",
      "SELECT City FROM city_table WHERE Country=\"greece\" :-)\n"
     ]
    }
   ],
   "source": [
    "from nltk import load_parser\n",
    "cp = load_parser('grammars/book_grammars/sql0.fcfg')\n",
    "query = 'What cities are located in Greece'\n",
    "trees = list(cp.parse(query.split()))\n",
    "\n",
    "print(trees[0])\n",
    "    \n",
    "answer = trees[0].label()['SEM']\n",
    "answer = [s for s in answer if s]\n",
    "q = ' '.join(answer)\n",
    "print(q,':-)')"
   ]
  },
  {
   "cell_type": "code",
   "execution_count": 4,
   "metadata": {},
   "outputs": [
    {
     "ename": "LookupError",
     "evalue": "\n**********************************************************************\n  Resource \u001b[93mcity_database\u001b[0m not found.\n  Please use the NLTK Downloader to obtain the resource:\n\n  \u001b[31m>>> import nltk\n  >>> nltk.download('city_database')\n  \u001b[0m\n  For more information see: https://www.nltk.org/data.html\n\n  Attempted to load \u001b[93mcorpora/city_database/city.db\u001b[0m\n\n  Searched in:\n    - 'C:\\\\Users\\\\Domagoj/nltk_data'\n    - 'C:\\\\Program Files\\\\WindowsApps\\\\PythonSoftwareFoundation.Python.3.11_3.11.2032.0_x64__qbz5n2kfra8p0\\\\nltk_data'\n    - 'C:\\\\Program Files\\\\WindowsApps\\\\PythonSoftwareFoundation.Python.3.11_3.11.2032.0_x64__qbz5n2kfra8p0\\\\share\\\\nltk_data'\n    - 'C:\\\\Program Files\\\\WindowsApps\\\\PythonSoftwareFoundation.Python.3.11_3.11.2032.0_x64__qbz5n2kfra8p0\\\\lib\\\\nltk_data'\n    - 'C:\\\\Users\\\\Domagoj\\\\AppData\\\\Roaming\\\\nltk_data'\n    - 'C:\\\\nltk_data'\n    - 'D:\\\\nltk_data'\n    - 'E:\\\\nltk_data'\n**********************************************************************\n",
     "output_type": "error",
     "traceback": [
      "\u001b[1;31m---------------------------------------------------------------------------\u001b[0m",
      "\u001b[1;31mLookupError\u001b[0m                               Traceback (most recent call last)",
      "Cell \u001b[1;32mIn[4], line 2\u001b[0m\n\u001b[0;32m      1\u001b[0m \u001b[38;5;28;01mfrom\u001b[39;00m \u001b[38;5;21;01mnltk\u001b[39;00m\u001b[38;5;21;01m.\u001b[39;00m\u001b[38;5;21;01msem\u001b[39;00m \u001b[38;5;28;01mimport\u001b[39;00m chat80\n\u001b[1;32m----> 2\u001b[0m rows \u001b[38;5;241m=\u001b[39m \u001b[43mchat80\u001b[49m\u001b[38;5;241;43m.\u001b[39;49m\u001b[43msql_query\u001b[49m\u001b[43m(\u001b[49m\u001b[38;5;124;43m'\u001b[39;49m\u001b[38;5;124;43mcorpora/city_database/city.db\u001b[39;49m\u001b[38;5;124;43m'\u001b[39;49m\u001b[43m,\u001b[49m\u001b[43m \u001b[49m\u001b[43mq\u001b[49m\u001b[43m)\u001b[49m\n\u001b[0;32m      3\u001b[0m \u001b[38;5;28;01mfor\u001b[39;00m r \u001b[38;5;129;01min\u001b[39;00m rows: \u001b[38;5;28mprint\u001b[39m(r[\u001b[38;5;241m0\u001b[39m])\n",
      "File \u001b[1;32m~\\AppData\\Local\\Packages\\PythonSoftwareFoundation.Python.3.11_qbz5n2kfra8p0\\LocalCache\\local-packages\\Python311\\site-packages\\nltk\\sem\\chat80.py:455\u001b[0m, in \u001b[0;36msql_query\u001b[1;34m(dbname, query)\u001b[0m\n\u001b[0;32m    452\u001b[0m \u001b[38;5;28;01mimport\u001b[39;00m \u001b[38;5;21;01msqlite3\u001b[39;00m\n\u001b[0;32m    454\u001b[0m \u001b[38;5;28;01mtry\u001b[39;00m:\n\u001b[1;32m--> 455\u001b[0m     path \u001b[38;5;241m=\u001b[39m \u001b[43mnltk\u001b[49m\u001b[38;5;241;43m.\u001b[39;49m\u001b[43mdata\u001b[49m\u001b[38;5;241;43m.\u001b[39;49m\u001b[43mfind\u001b[49m\u001b[43m(\u001b[49m\u001b[43mdbname\u001b[49m\u001b[43m)\u001b[49m\n\u001b[0;32m    456\u001b[0m     connection \u001b[38;5;241m=\u001b[39m sqlite3\u001b[38;5;241m.\u001b[39mconnect(\u001b[38;5;28mstr\u001b[39m(path))\n\u001b[0;32m    457\u001b[0m     cur \u001b[38;5;241m=\u001b[39m connection\u001b[38;5;241m.\u001b[39mcursor()\n",
      "File \u001b[1;32m~\\AppData\\Local\\Packages\\PythonSoftwareFoundation.Python.3.11_qbz5n2kfra8p0\\LocalCache\\local-packages\\Python311\\site-packages\\nltk\\data.py:583\u001b[0m, in \u001b[0;36mfind\u001b[1;34m(resource_name, paths)\u001b[0m\n\u001b[0;32m    581\u001b[0m sep \u001b[38;5;241m=\u001b[39m \u001b[38;5;124m\"\u001b[39m\u001b[38;5;124m*\u001b[39m\u001b[38;5;124m\"\u001b[39m \u001b[38;5;241m*\u001b[39m \u001b[38;5;241m70\u001b[39m\n\u001b[0;32m    582\u001b[0m resource_not_found \u001b[38;5;241m=\u001b[39m \u001b[38;5;124mf\u001b[39m\u001b[38;5;124m\"\u001b[39m\u001b[38;5;130;01m\\n\u001b[39;00m\u001b[38;5;132;01m{\u001b[39;00msep\u001b[38;5;132;01m}\u001b[39;00m\u001b[38;5;130;01m\\n\u001b[39;00m\u001b[38;5;132;01m{\u001b[39;00mmsg\u001b[38;5;132;01m}\u001b[39;00m\u001b[38;5;130;01m\\n\u001b[39;00m\u001b[38;5;132;01m{\u001b[39;00msep\u001b[38;5;132;01m}\u001b[39;00m\u001b[38;5;130;01m\\n\u001b[39;00m\u001b[38;5;124m\"\u001b[39m\n\u001b[1;32m--> 583\u001b[0m \u001b[38;5;28;01mraise\u001b[39;00m \u001b[38;5;167;01mLookupError\u001b[39;00m(resource_not_found)\n",
      "\u001b[1;31mLookupError\u001b[0m: \n**********************************************************************\n  Resource \u001b[93mcity_database\u001b[0m not found.\n  Please use the NLTK Downloader to obtain the resource:\n\n  \u001b[31m>>> import nltk\n  >>> nltk.download('city_database')\n  \u001b[0m\n  For more information see: https://www.nltk.org/data.html\n\n  Attempted to load \u001b[93mcorpora/city_database/city.db\u001b[0m\n\n  Searched in:\n    - 'C:\\\\Users\\\\Domagoj/nltk_data'\n    - 'C:\\\\Program Files\\\\WindowsApps\\\\PythonSoftwareFoundation.Python.3.11_3.11.2032.0_x64__qbz5n2kfra8p0\\\\nltk_data'\n    - 'C:\\\\Program Files\\\\WindowsApps\\\\PythonSoftwareFoundation.Python.3.11_3.11.2032.0_x64__qbz5n2kfra8p0\\\\share\\\\nltk_data'\n    - 'C:\\\\Program Files\\\\WindowsApps\\\\PythonSoftwareFoundation.Python.3.11_3.11.2032.0_x64__qbz5n2kfra8p0\\\\lib\\\\nltk_data'\n    - 'C:\\\\Users\\\\Domagoj\\\\AppData\\\\Roaming\\\\nltk_data'\n    - 'C:\\\\nltk_data'\n    - 'D:\\\\nltk_data'\n    - 'E:\\\\nltk_data'\n**********************************************************************\n"
     ]
    }
   ],
   "source": [
    "from nltk.sem import chat80\n",
    "rows = chat80.sql_query('corpora/city_database/city.db', q)\n",
    "for r in rows: print(r[0])"
   ]
  },
  {
   "cell_type": "markdown",
   "metadata": {
    "slideshow": {
     "slide_type": "slide"
    }
   },
   "source": [
    "## Logika u NLTK"
   ]
  },
  {
   "cell_type": "markdown",
   "metadata": {
    "slideshow": {
     "slide_type": "fragment"
    }
   },
   "source": [
    "**CILJ:** logičkim zaključivanjem (eksplicitnim formalnim pristupom) utvrditi je li skup rečenica logički konzistentan, tj. kao istinosni sudovi ne kontradiktiraju jedne drugima (neovisno o leksičkom značenju riječi)."
   ]
  },
  {
   "cell_type": "markdown",
   "metadata": {
    "slideshow": {
     "slide_type": "subslide"
    }
   },
   "source": [
    "### Propozicijska logika u NLTK"
   ]
  },
  {
   "cell_type": "markdown",
   "metadata": {
    "slideshow": {
     "slide_type": "fragment"
    }
   },
   "source": [
    "* propozicijski simboli ($P,Q,R,\\ldots$) s pridruženim valuacijama $\\{\\top, \\bot\\}$ + logički operatori ($ \\neg \\, \\land \\, \\lor \\, \\rightarrow \\, \\leftrightarrow  $)\n",
    "* utvrditi $(P_1,P_2\\ldots,P_n) \\vdash Q $ gdje su $P_i$ pretpostavke, a $Q$ zaključak (korištenjem rač. log. alata)"
   ]
  },
  {
   "cell_type": "markdown",
   "metadata": {
    "slideshow": {
     "slide_type": "subslide"
    }
   },
   "source": [
    "Mogu li sljedeće 2 rečenice biti konzistentne?\n",
    "\n",
    "scenarij 1:\n",
    "* $SnF$ = 'Sylvania is to the north of Freedonia'\n",
    "* $FnS$ = 'Freedonia is to the north of Sylvania'\n",
    "\n",
    "scenarij 2:\n",
    "* $SnF$ = 'Sylvania is to the north of Freedonia'\n",
    "* $nFnS$ = 'Freedonia is not to the north of Sylvania'"
   ]
  },
  {
   "cell_type": "code",
   "execution_count": 14,
   "metadata": {
    "slideshow": {
     "slide_type": "subslide"
    }
   },
   "outputs": [
    {
     "name": "stdout",
     "output_type": "stream",
     "text": [
      "False\n",
      "True\n"
     ]
    }
   ],
   "source": [
    "# ucitavanje simbola\n",
    "read_expr = nltk.sem.Expression.fromstring\n",
    "# logicke propozicije\n",
    "SnF = read_expr('SnF')\n",
    "FnS = read_expr('FnS')\n",
    "nFnS = read_expr('-FnS')\n",
    "R = read_expr('SnF -> -FnS')\n",
    "\n",
    "\n",
    "# zakljucak 1:\n",
    "print(prover.prove(FnS, [SnF, R]))\n",
    "#zakljucak 2: \n",
    "print(prover.prove(nFnS,[SnF,R]))"
   ]
  },
  {
   "cell_type": "markdown",
   "metadata": {
    "slideshow": {
     "slide_type": "subslide"
    }
   },
   "source": [
    "## Predikatna logika (logika prvog-reda)"
   ]
  },
  {
   "cell_type": "markdown",
   "metadata": {
    "slideshow": {
     "slide_type": "fragment"
    }
   },
   "source": [
    "Obuhvaća predikatnu logiku s dodatnim mehanizmima:\n",
    "* logičke konstante $c$ - sadrže uvijek iste vrijednosti \n",
    "* varijable $x_i,i=1,2,\\ldots,n$ - poprimaju vrijednosti ovisno o modelu\n",
    "* predikati $P(x_1,x_2,\\ldots,x_n)$\n",
    "* kvantifikatori $\\exists, \\forall$\n",
    "\n",
    "Interpretacija rečenice kao logika prvog reda:\n",
    " * \"He is a dog and he disappeared\".\n",
    " * $\\exists x. (dog(x)\\,\\wedge\\,disappear(x))$ = \"Postoji objekt koji je pas i on je nestao.\"\n"
   ]
  },
  {
   "cell_type": "markdown",
   "metadata": {
    "slideshow": {
     "slide_type": "subslide"
    }
   },
   "source": [
    "## SnF primjer kao dokazivanje teorema u FOL\n",
    "Isti problem iskazan u predikatnoj logici:\n",
    "\n",
    "scenarij 1: \n",
    "* argumenti $x,y$, predikat $P(x,y)$ predstavlja je li $x$ sjeverno od $y$, prema tome:\n",
    "  \n",
    "  $SnF := P(x,y)$\n",
    "  \n",
    "  $nFnS := \\neg P(y,x)$\n",
    "  \n",
    "  $R$ := $\\forall x, \\forall y \\, (P(x,y) \\rightarrow \\neg P(y,x))$: \n"
   ]
  },
  {
   "cell_type": "code",
   "execution_count": 6,
   "metadata": {
    "slideshow": {
     "slide_type": "subslide"
    }
   },
   "outputs": [
    {
     "data": {
      "text/plain": [
       "False"
      ]
     },
     "execution_count": 6,
     "metadata": {},
     "output_type": "execute_result"
    }
   ],
   "source": [
    "nFnS = read_expr('-north_of(f, s)')\n",
    "SnF = read_expr('north_of(s, f)')\n",
    "FnS = read_expr('north_of(f, s)')\n",
    "# scenarij 1\n",
    "R = read_expr('all x. all y. (north_of(x, y) -> -north_of(y, x))')\n",
    "prover.prove(nFnS, [SnF, R])\n",
    "# scanarij 2\n",
    "prover.prove(FnS, [SnF, R])"
   ]
  },
  {
   "cell_type": "markdown",
   "metadata": {
    "slideshow": {
     "slide_type": "subslide"
    }
   },
   "source": [
    "# Istinom uvjetovana semantika"
   ]
  },
  {
   "cell_type": "markdown",
   "metadata": {
    "slideshow": {
     "slide_type": "slide"
    }
   },
   "source": [
    "Jezik FOL-a (prema Montague gramatici): \n",
    "  1. Ako je $P$ predikat tipa $\\langle e^n,t\\rangle$ i $\\alpha_1,\\alpha_2,\\ldots,\\alpha_n$ izrazi tipa $e$, tada je $P(\\alpha_1,\\alpha_2,\\ldots,\\alpha_n)$ tipa $t$\n",
    "  2. Ako su $\\alpha$ i $\\beta$ tipa $e$, tada $\\alpha=\\beta$ i $\\alpha!=\\beta$ su tipa $t$\n",
    "  3. Ako je $\\varphi$ tipa $t$, onda je $\\neg\\varphi$ tipa $t$\n",
    "  4. Ako su $\\varphi$ i $\\psi$ tipa $t$, onda su $\\varphi \\wedge \\psi, \\varphi \\vee \\psi, \\varphi \\rightarrow \\psi, \\varphi \\leftrightarrow \\psi$ tipa $t$\n",
    "  5. Ako je $\\varphi$ tipa $t$ i $x$ varijabla tipa $e$, onda $\\exists x.\\varphi$ i $\\forall x.\\varphi$ su tipa $t$"
   ]
  },
  {
   "cell_type": "markdown",
   "metadata": {
    "slideshow": {
     "slide_type": "fragment"
    }
   },
   "source": [
    "Za dani FOL jezik $L$, model $M$ je par $(D,Val)$ gdje je $D$ neprazan skup (domena) i $Val$ valuacijska funkcija, vrijedi:\n",
    "* $ Val(c)\\in D$, $\\forall c\\in L$ konstanta\n",
    "* $ Val(P)\\colon D^n\\to \\{\\top,\\bot\\}$ za broj argumenata $n$ u predikatu $P$    \n",
    " \n"
   ]
  },
  {
   "cell_type": "markdown",
   "metadata": {
    "slideshow": {
     "slide_type": "slide"
    }
   },
   "source": [
    "### Primjer: model propozicijske logike"
   ]
  },
  {
   "cell_type": "code",
   "execution_count": 7,
   "metadata": {
    "slideshow": {
     "slide_type": "subslide"
    }
   },
   "outputs": [
    {
     "data": {
      "text/plain": [
       "False"
      ]
     },
     "execution_count": 7,
     "metadata": {},
     "output_type": "execute_result"
    }
   ],
   "source": [
    "# valuacija\n",
    "val = nltk.Valuation([('P',True),('Q',True),('R',False)])\n",
    "val['P']\n",
    "# domena\n",
    "dom = set([])\n",
    "g = nltk.Assignment(dom)\n",
    "# model\n",
    "m = nltk.Model(dom,val)\n",
    "# evaluacija\n",
    "m.evaluate('(P & Q)',g)\n",
    "m.evaluate('-(P | R)',g)"
   ]
  },
  {
   "cell_type": "markdown",
   "metadata": {
    "slideshow": {
     "slide_type": "slide"
    }
   },
   "source": [
    " ### Primjer: model za primjer predikatne logike\n",
    "FOL primjer **postavljanja modela** i **provjera modela**:\n",
    "> Bertie je dječak. \n",
    "> Olive je djevojčica.\n",
    "> Cyrill je pas.\n",
    "> Olive hoda. \n",
    "> Cyrill hoda.\n",
    "> Bertie vidi Olive.\n",
    "> Cyrill vidi Bertie.\n",
    "> Olive vidi Cyrill.\n"
   ]
  },
  {
   "cell_type": "code",
   "execution_count": 8,
   "metadata": {
    "slideshow": {
     "slide_type": "subslide"
    }
   },
   "outputs": [
    {
     "name": "stdout",
     "output_type": "stream",
     "text": [
      "{'bertie': 'b',\n",
      " 'boy': {('b',)},\n",
      " 'cyril': 'c',\n",
      " 'dog': {('c',)},\n",
      " 'girl': {('o',)},\n",
      " 'olive': 'o',\n",
      " 'see': {('b', 'o'), ('c', 'b'), ('o', 'c')},\n",
      " 'walk': {('o',), ('c',)}}\n",
      "g= g[b/z][c/y][o/x]\n"
     ]
    },
    {
     "data": {
      "text/plain": [
       "{'b', 'o'}"
      ]
     },
     "execution_count": 8,
     "metadata": {},
     "output_type": "execute_result"
    }
   ],
   "source": [
    "# model: \n",
    "dom = {'b', 'o', 'c'}\n",
    "\n",
    "# defincija Val():\n",
    "v = \"\"\"\n",
    "    bertie => b\n",
    "    olive => o\n",
    "    cyril => c\n",
    "    boy => {b}\n",
    "    girl => {o}\n",
    "    dog => {c}\n",
    "    walk => {o, c}\n",
    "    see => {(b, o), (c, b), (o, c)}\n",
    "    \"\"\"\n",
    "# bertie,olive,cyril ... konstante, b,o,c ... elementi domene\n",
    "# boy,girl,dog ... unarni predikati\n",
    "# walk, see  ... binarni predikati\n",
    "val = nltk.Valuation.fromstring(v)\n",
    "print(val)\n",
    "\n",
    "# valuacija predikata see(o,c)?\n",
    "('o','c') in val['see']\n",
    "\n",
    "# vezanje varijabli s elementima domene\n",
    "g = nltk.Assignment(dom, [('x', 'o'), ('y', 'c'),('z','b')]) # {'x':'o','y':'c','z':'b'}\n",
    "print('g=',g)\n",
    "\n",
    "# evaluacija FOL formule\n",
    "m = nltk.Model(dom,val)\n",
    "m.evaluate('see(olive,y)',g) # pridruzivanje g zadovoljava see(olive,y)\n",
    "g.purge() # ocisti g\n",
    "# scenarij 1: vidi li Bertie Olive i Bertie je dječak koji ne hoda.\n",
    "m.evaluate('see(bertie,olive) & boy(bertie) & -walk(bertie)',g)\n",
    "# scenarij 2: Postoji li djevojčica koja hoda?\n",
    "m.evaluate('exists x.(girl(x) & walk(x))',g)\n",
    "# isto kao i m.evaluate('girl(x) & walk(x)',g.add('x','o'))\n",
    "\n",
    "# scenarij 3: Tko je sve djevojčica ili dječak? \n",
    "read_expr = nltk.sem.Expression.fromstring\n",
    "expr = read_expr('girl(x) | boy(x)')\n",
    "m.satisfiers(expr, 'x', g)\n",
    "\n",
    "# scenarij 4: Ako je djevojčica, onda ona hoda. \n",
    "expr = read_expr('girl(x) -> walk(x)')\n",
    "m.satisfiers(expr, 'x', g)\n",
    "\n",
    "# scenarij 5: Ako netko hoda, onda je ono djevojčica. \n",
    "expr = read_expr('walk(x) -> girl(x)')\n",
    "m.satisfiers(expr, 'x', g)\n"
   ]
  },
  {
   "cell_type": "markdown",
   "metadata": {
    "slideshow": {
     "slide_type": "subslide"
    }
   },
   "source": [
    "**ZADATAK**: Provjerite istinitost rečenice:\n",
    "> Svatko se divi nekome.\n",
    "\n",
    "FOL interpretacija (višeznačno?):\n",
    "   1. $\\forall x.(person(x)\\rightarrow \\exists y. (person(y)\\, \\& \\, admire(x,y)))$\n",
    "   2. $\\exists y.(person(y) \\, \\& \\, \\forall x. (person(x)\\, \\rightarrow \\, admire(x,y)))$\n",
    "   \n",
    "ako:\n",
    "> Julia se divi Bruce. Bruce se divi Bruce. Matthew se divi Elsi. Elsa se divi Matthew.\n"
   ]
  },
  {
   "cell_type": "code",
   "execution_count": 15,
   "metadata": {
    "slideshow": {
     "slide_type": "subslide"
    }
   },
   "outputs": [
    {
     "data": {
      "text/plain": [
       "{'b', 'e', 'j', 'm'}"
      ]
     },
     "execution_count": 15,
     "metadata": {},
     "output_type": "execute_result"
    }
   ],
   "source": [
    "read_expr = nltk.sem.Expression.fromstring\n",
    "# valuacija\n",
    "v = \"\"\"\n",
    "    bruce => b\n",
    "    elsa => e\n",
    "    julia => j\n",
    "    matthew => m\n",
    "    person => {b, e, j, m}\n",
    "    admire => {(j, b), (b, b), (m, e), (e, m)}\n",
    "\"\"\"\n",
    "val = nltk.Valuation.fromstring(v)\n",
    "dom = val.domain\n",
    "#print(dom)\n",
    "m = nltk.Model(dom,val)\n",
    "g = nltk.Assignment(dom)\n",
    "# slucaj 1:\n",
    "expr = read_expr('(person(x) -> exists y.(person(y) & admire(x, y)))')\n",
    "m.satisfiers(expr,'x',g)\n",
    "# slucaj 2:\n",
    "#expr = read_expr('(person(y) & all x.(person(x) -> admire(x, y)))')\n",
    "# m.satisfiers(expr,'y',g)\n"
   ]
  },
  {
   "cell_type": "markdown",
   "metadata": {
    "slideshow": {
     "slide_type": "subslide"
    }
   },
   "source": [
    "## Izgradnja modela"
   ]
  },
  {
   "cell_type": "markdown",
   "metadata": {},
   "source": [
    "NLTK u suradnji s `Mace4` alatom u stanju je izgraditi model na temelju danih rečenica tako da pokuša izgraditi **kontramodel** za $[s_1,s_2,\\ldots,-g]$. Ako uspije, znamo da ne postoji model za $[s_1,s_2,\\ldots]\\vdash g$."
   ]
  },
  {
   "cell_type": "code",
   "execution_count": 16,
   "metadata": {
    "slideshow": {
     "slide_type": "skip"
    }
   },
   "outputs": [
    {
     "name": "stdout",
     "output_type": "stream",
     "text": [
      "True\n",
      "False\n"
     ]
    }
   ],
   "source": [
    "\n",
    "read_expr = nltk.sem.Expression.fromstring\n",
    "# primjer 1: je li model konzistentan?\n",
    "sent1 = read_expr('all x.(man(x) -> mortal(x))')\n",
    "sent2 = read_expr('man(socrates)') \n",
    "sent3 = read_expr('mortal(socrates)')\n",
    "sent4 = read_expr('-mortal(socrates)')\n",
    "mb = nltk.Mace(5)\n",
    "# provjeri jesu li rečenice u kontradikciji\n",
    "print(mb.build_model(None, [sent1, sent2,sent3])) \n",
    "print(mb.build_model(None, [sent1, sent3, sent4]))\n"
   ]
  },
  {
   "cell_type": "markdown",
   "metadata": {},
   "source": [
    "Primjeri rečenica:\n",
    "  * $s_1$ = There is a woman that every man loves. \n",
    "  * $s_2$ = Adam is a man. \n",
    "  * $s_3$ = Eve is a woman.\n",
    "  \n",
    "Možemo li zaključiti `g=Adam loves Eve` ?\n",
    "\n"
   ]
  },
  {
   "cell_type": "code",
   "execution_count": 17,
   "metadata": {},
   "outputs": [
    {
     "name": "stdout",
     "output_type": "stream",
     "text": [
      "valuation 1:\n",
      "  {'C1': 'b',\n",
      " 'adam': 'a',\n",
      " 'eve': 'a',\n",
      " 'love': {('a', 'b')},\n",
      " 'man': {('a',)},\n",
      " 'woman': {('a',), ('b',)}}\n"
     ]
    }
   ],
   "source": [
    "# primjer 2\n",
    "sent1 = read_expr('exists y. (woman(y) & all x. (man(x) -> love(x,y)))')\n",
    "sent2 = read_expr('man(adam)')\n",
    "sent3 = read_expr('woman(eve)')\n",
    "# zaključak\n",
    "g = read_expr('love(adam,eve)') \n",
    "\n",
    "# izgradimo model\n",
    "mc = nltk.MaceCommand(g, assumptions=[sent1,sent2,sent3])\n",
    "mc.build_model() # provjera izgraditi kontramodel[sent1,sent2,sent3,-g] \n",
    "print('valuation 1:\\n ',mc.valuation)\n",
    "\n",
    "\n",
    "# što nedostaje?\n",
    "sent4 = read_expr('all x. (man(x) -> -woman(x))')\n",
    "# jedinstvena Eva\n",
    "sent5 = read_expr('exists y. all x. (woman(x) -> (x=y))')\n"
   ]
  },
  {
   "cell_type": "code",
   "execution_count": 18,
   "metadata": {},
   "outputs": [
    {
     "name": "stdout",
     "output_type": "stream",
     "text": [
      "False\n",
      "valuation 2:\n",
      " {}\n"
     ]
    }
   ],
   "source": [
    "mc = nltk.MaceCommand(g, assumptions=[sent1,sent2,sent3,sent4,sent5])\n",
    "print(mc.build_model()) # provjera [sent1,sent2,sent3,sent4,sent5,-g] izgradnjom kontramodela\n",
    "print('valuation 2:\\n',mc.valuation)"
   ]
  },
  {
   "cell_type": "markdown",
   "metadata": {
    "slideshow": {
     "slide_type": "slide"
    }
   },
   "source": [
    "# Načelo semantičke kompozicije "
   ]
  },
  {
   "cell_type": "markdown",
   "metadata": {
    "slideshow": {
     "slide_type": "subslide"
    }
   },
   "source": [
    "Fregeovo **načelo kompozicije**: \n",
    "  > značenje cjeline je funkcija značenja dijelova i kako su oni sintaktički spajaju\n",
    "  \n",
    "**FBG + semantička kategorizacija + $\\lambda$-kalkulus**: Koristiti FBG i njegove parsere kako bi uz pomoć $\\lambda$ izraza kategorizirali rečenice u logiku prvog reda.\n",
    "\n",
    "**Primjer**: \"Cyril barks.\"\n",
    "\n",
    "![](FBG_sem.png)\n",
    "\n",
    "```\n",
    "S[SEM=<?vp(?np)>] -> NP[SEM=?np] VP[SEM=?vp]\n",
    "VP[SEM=?v] -> IV[SEM=?v]\n",
    "NP[SEM=<cyril>] -> 'Cyril'\n",
    "IV[SEM=<\\x.bark(x)>] -> 'barks'\n",
    "```\n",
    "\n"
   ]
  },
  {
   "cell_type": "code",
   "execution_count": 19,
   "metadata": {
    "slideshow": {
     "slide_type": "subslide"
    }
   },
   "outputs": [
    {
     "name": "stdout",
     "output_type": "stream",
     "text": [
      "Overwriting sem.fcfg\n"
     ]
    }
   ],
   "source": [
    "%%writefile sem.fcfg\n",
    "% start S\n",
    "# Grammar Rules\n",
    "S[SEM=<?vp(?np)>] -> NP[SEM=?np] VP[SEM=?vp]\n",
    "VP[SEM=?v] -> IV[SEM=?v]\n",
    "# Lexical Rules\n",
    "NP[SEM=<cyril>] -> 'Cyril'\n",
    "IV[SEM=<\\x.bark(x)>] -> 'barks'"
   ]
  },
  {
   "cell_type": "code",
   "execution_count": 20,
   "metadata": {
    "slideshow": {
     "slide_type": "subslide"
    }
   },
   "outputs": [
    {
     "name": "stdout",
     "output_type": "stream",
     "text": [
      "bark(cyril)\n",
      "\\Tree [.S[SEM=<bark(cyril)>]\n",
      "        [.NP[SEM=<cyril>] Cyril ]\n",
      "        [.VP[SEM=<\\x.bark(x)>] [.IV[SEM=<\\x.bark(x)>] barks ] ] ]\n"
     ]
    }
   ],
   "source": [
    "tokens = 'Cyril barks'.split()\n",
    "cp = nltk.load_parser('sem.fcfg')\n",
    "trees = cp.parse_all(tokens)\n",
    "\n",
    "\n",
    "for tree in trees:\n",
    "    print(tree.label()['SEM'])\n",
    "    \n",
    "\n",
    "tree = list(trees)[0]\n",
    "\n",
    "print(tree.pformat_latex_qtree())\n",
    "#show_parse(tree,width=500)"
   ]
  },
  {
   "cell_type": "markdown",
   "metadata": {
    "slideshow": {
     "slide_type": "subslide"
    }
   },
   "source": [
    "## $\\lambda$-kalkulus\n",
    "* **$\\lambda$-kalkulus** = formalni sustav u matematičkoj logici koje izražava *računanje* preko apstrakcije funkcije i primjene iste korištenjem vezivanje varijable i zamjenama.\n",
    "* $x$ ... varijabla\n",
    "* $\\lambda x.M$ ... funkcijska apstrakcija\n",
    "* $M ~ N$ ... primjena funkcije na argument\n",
    "* redukcije: \n",
    "    > $\\beta$-redukcija: $((\\lambda x.M)(\\beta)) \\to (M[\\beta/x])]$\n",
    "    \n",
    "    > $\\alpha$-konverzija: $(\\lambda x.M[x]) \\to (\\lambda y.M[y])$\n",
    "\n",
    "Primjer: \n",
    "* FO-logika: $(walk(x) \\, \\& \\,dog(x))$ \n",
    "* $\\lambda$-kalkulus: $\\lambda x.(walk(x) \\, \\& \\, dog(x))$ <br />\n",
    "  interpretacija: \"biti $x$ takav da $x$ hoda i $x$ je pas.\"\n",
    "\n"
   ]
  },
  {
   "cell_type": "code",
   "execution_count": 21,
   "metadata": {
    "slideshow": {
     "slide_type": "subslide"
    }
   },
   "outputs": [
    {
     "name": "stdout",
     "output_type": "stream",
     "text": [
      "\\x.(walk(x) & chew_gum(x))\n",
      "(walk(gerald) & chew_gum(gerald))\n",
      "\\y.(dog(cyril) & own(y,cyril))\n",
      "(dog(cyril) & own(angus,cyril))\n",
      "True\n",
      "exists z.P(z)\n",
      "exists z1.see(z1,x)\n"
     ]
    }
   ],
   "source": [
    "# NLTK primjeri za lambda kalkulus\n",
    "read_expr = nltk.sem.Expression.fromstring\n",
    "expr = read_expr(r'\\x.(walk(x) & chew_gum(x))')\n",
    "print(read_expr(r'\\x.(walk(x) & chew_gum(x))'))\n",
    "\n",
    "# beta-redukcija: zamjena vezane varijable s argumentom\n",
    "expr = read_expr(r'\\x.(walk(x) & chew_gum(x))(gerald)')\n",
    "print(expr.simplify()) # izvedba redukcije\n",
    "# vezivanje 2 varijable \n",
    "print(read_expr(r'\\x.\\y.(dog(x) & own(y, x))(cyril)').simplify())\n",
    "print(read_expr(r'\\x y.(dog(x) & own(y, x))(cyril, angus)').simplify())\n",
    "# alpha-konverzija\n",
    "expr = read_expr('exists x.P(x)')\n",
    "_expr = expr.alpha_convert(nltk.sem.Variable('z'))\n",
    "print(expr==_expr)\n",
    "print(_expr)\n",
    "# Funkcijske apstrakcije kao argumenti\n",
    "expr = read_expr(r'\\P.(exists x.P(x))(\\y.see(y,x))')\n",
    "print(expr.simplify())"
   ]
  },
  {
   "cell_type": "markdown",
   "metadata": {
    "slideshow": {
     "slide_type": "subslide"
    }
   },
   "source": [
    "## Leksičko-semantički izazovi za $\\lambda$-kalkulus\n",
    "\n"
   ]
  },
  {
   "cell_type": "markdown",
   "metadata": {
    "slideshow": {
     "slide_type": "subslide"
    }
   },
   "source": [
    "### Kvantificirani NP\n",
    "**Primjer**:\n",
    "1. NL: \"A dog barks\" \n",
    "2. FOL:$\\exists x.(dog(x)\\, \\& \\, bark(x))$\n",
    "3. $\\lambda$-kalkulus?\n",
    "\n",
    "\n",
    "Želimo `S[SEM=<exists x.(dog(x) & bark(x))>]` na korijenu FBG stabla!\n",
    "* $\\lambda$-izraz: `\\P.exists x.(dog(x) & P(x))`\n",
    "* $\\beta$-redukcija: `\\P.exists x.(dog(x) & P(x))(\\x.bark(x))`\n",
    "\n",
    "dakle `S[SEM=<?np(\\x.bark(x))>]` daje željeni rezultat!\n"
   ]
  },
  {
   "cell_type": "code",
   "execution_count": 22,
   "metadata": {
    "slideshow": {
     "slide_type": "subslide"
    }
   },
   "outputs": [
    {
     "name": "stdout",
     "output_type": "stream",
     "text": [
      "\\P.exists x.(dog(x) & P(x))\n",
      "exists x.(dog(x) & bark(x))\n"
     ]
    }
   ],
   "source": [
    "read_expr = nltk.sem.Expression.fromstring\n",
    "expr1 = read_expr(r'\\Q P.exists x.(Q(x) & P(x))')\n",
    "expr2 = read_expr(r'\\x.dog(x)')\n",
    "expr3 = read_expr(r'\\x.bark(x)')\n",
    "np = nltk.sem.ApplicationExpression(expr1, expr2)\n",
    "print(np.simplify())\n",
    "sem = nltk.sem.ApplicationExpression(np, expr3)\n",
    "print(sem.simplify())"
   ]
  },
  {
   "cell_type": "markdown",
   "metadata": {
    "slideshow": {
     "slide_type": "subslide"
    }
   },
   "source": [
    "### Tranzitivni glagoli\n",
    "**Primjer**:\n",
    "1. NL: \"Angus chases a dog.\" \n",
    "2. FOL:$\\exists x.(dog(x)\\, \\& \\, chases(angus,x))$\n",
    "3. $\\lambda$-kalkulus?\n",
    "\n",
    "želimo $\\lambda$-izraz: `\\y.exists x.(dog(x) & chase(y, x))`\n",
    "\n",
    "Kako parametrizirati ostale predikate u izrazu?\n"
   ]
  },
  {
   "cell_type": "code",
   "execution_count": 23,
   "metadata": {
    "slideshow": {
     "slide_type": "subslide"
    }
   },
   "outputs": [
    {
     "name": "stdout",
     "output_type": "stream",
     "text": [
      "(\\X x.X(\\y.chase(x,y)))(\\P.exists x.(dog(x) & P(x)))\n",
      "\\x.exists z2.(dog(z2) & chase(x,z2))\n",
      "\\x.exists z3.(dog(z3) & chase(x,z3))\n",
      "\\P.P(angus)((\\X x.X(\\y.chase(x,y)))(\\P.exists x.(dog(x) & P(x))))\n",
      "exists z4.(dog(z4) & chase(angus,z4))\n"
     ]
    }
   ],
   "source": [
    "read_expr = nltk.sem.Expression.fromstring\n",
    "\n",
    "\n",
    "tvp = read_expr(r'\\X x.X(\\y.chase(x,y))')\n",
    "np = read_expr(r'(\\P.exists x.(dog(x) & P(x)))')\n",
    "\n",
    "vp = nltk.sem.ApplicationExpression(tvp, np)\n",
    "print(vp)\n",
    "print(vp.simplify())\n",
    "PropN = read_expr(r'\\P.P(angus)') # interpretacija imena kao funkcije\n",
    "print(vp.simplify())\n",
    "sem = nltk.sem.ApplicationExpression(PropN,vp)\n",
    "print(sem)\n",
    "print(sem.simplify())\n"
   ]
  },
  {
   "cell_type": "code",
   "execution_count": 51,
   "metadata": {
    "slideshow": {
     "slide_type": "subslide"
    }
   },
   "outputs": [
    {
     "name": "stdout",
     "output_type": "stream",
     "text": [
      "% start S\n",
      "# Grammar Rules\n",
      "S[SEM = <?subj(?vp)>] -> NP[NUM=?n,SEM=?subj] VP[NUM=?n,SEM=?vp]\n",
      "NP[NUM=?n,SEM=<?det(?nom)> ] -> Det[NUM=?n,SEM=?det]  Nom[NUM=?n,SEM=?nom]\n",
      "NP[LOC=?l,NUM=?n,SEM=?np] -> PropN[LOC=?l,NUM=?n,SEM=?np]\n",
      "Nom[NUM=?n,SEM=?nom] -> N[NUM=?n,SEM=?nom]\n",
      "VP[NUM=?n,SEM=?v] -> IV[NUM=?n,SEM=?v]\n",
      "VP[NUM=?n,SEM=<?v(?obj)>] -> TV[NUM=?n,SEM=?v] NP[SEM=?obj]\n",
      "VP[NUM=?n,SEM=<?v(?obj,?pp)>] -> DTV[NUM=?n,SEM=?v] NP[SEM=?obj] PP[+TO,SEM=?pp]\n",
      "PP[+TO, SEM=?np] -> P[+TO] NP[SEM=?np]\n",
      "# Lexical Rules\n",
      "PropN[-LOC,NUM=sg,SEM=<\\P.P(angus)>] -> 'Angus'\n",
      "PropN[-LOC,NUM=sg,SEM=<\\P.P(cyril)>] -> 'Cyril'\n",
      "PropN[-LOC,NUM=sg,SEM=<\\P.P(irene)>] -> 'Irene'\n",
      "Det[NUM=sg,SEM=<\\P Q.all x.(P(x) -> Q(x))>] -> 'every'\n",
      "Det[NUM=pl,SEM=<\\P Q.all x.(P(x) -> Q(x))>] -> 'all'\n",
      "Det[SEM=<\\P Q.exists x.(P(x) & Q(x))>] -> 'some'\n",
      "Det[NUM=sg,SEM=<\\P Q.exists x.(P(x) & Q(x))>] -> 'a'\n",
      "Det[NUM=sg,SEM=<\\P Q.exists x.(P(x) & Q(x))>] -> 'an'\n",
      "N[NUM=sg,SEM=<\\x.man(x)>] -> 'man'\n",
      "N[NUM=sg,SEM=<\\x.girl(x)>] -> 'girl'\n",
      "N[NUM=sg,SEM=<\\x.boy(x)>] -> 'boy'\n",
      "N[NUM=sg,SEM=<\\x.bone(x)>] -> 'bone'\n",
      "N[NUM=sg,SEM=<\\x.ankle(x)>] -> 'ankle'\n",
      "N[NUM=sg,SEM=<\\x.dog(x)>] -> 'dog'\n",
      "N[NUM=pl,SEM=<\\x.dog(x)>] -> 'dogs'\n",
      "IV[NUM=sg,SEM=<\\x.bark(x)>,TNS=pres] -> 'barks'\n",
      "IV[NUM=pl,SEM=<\\x.bark(x)>,TNS=pres] -> 'bark'\n",
      "IV[NUM=sg,SEM=<\\x.walk(x)>,TNS=pres] -> 'walks'\n",
      "IV[NUM=pl,SEM=<\\x.walk(x)>,TNS=pres] -> 'walk'\n",
      "TV[NUM=sg,SEM=<\\X x.X(\\y.chase(x,y))>,TNS=pres] -> 'chases'\n",
      "TV[NUM=pl,SEM=<\\X x.X(\\y.chase(x,y))>,TNS=pres] -> 'chase'\n",
      "TV[NUM=sg,SEM=<\\X x.X(\\y.see(x,y))>,TNS=pres] -> 'sees'\n",
      "TV[NUM=pl,SEM=<\\X x.X(\\y.see(x,y))>,TNS=pres] -> 'see'\n",
      "TV[NUM=sg,SEM=<\\X x.X(\\y.bite(x,y))>,TNS=pres] -> 'bites'\n",
      "TV[NUM=pl,SEM=<\\X x.X(\\y.bite(x,y))>,TNS=pres] -> 'bite'\n",
      "DTV[NUM=sg,SEM=<\\Y X x.X(\\z.Y(\\y.give(x,y,z)))>,TNS=pres] -> 'gives'\n",
      "DTV[NUM=pl,SEM=<\\Y X x.X(\\z.Y(\\y.give(x,y,z)))>,TNS=pres] -> 'give'\n",
      "P[+to] -> 'to'\n"
     ]
    }
   ],
   "source": [
    "# ispisi FBG sa obilježjima (semantička kategorizacija)\n",
    "nltk.data.show_cfg('grammars/book_grammars/simple-sem.fcfg')"
   ]
  },
  {
   "cell_type": "markdown",
   "metadata": {},
   "source": [
    "Iskoristit ćemo `simple-sem.fcfg` kako bi ispitali istinost tvrdnji i ujedno ponuditi mogućnost vidjeti produkciju semantičkih obilježja i valuacije."
   ]
  },
  {
   "cell_type": "code",
   "execution_count": 24,
   "metadata": {
    "slideshow": {
     "slide_type": "subslide"
    }
   },
   "outputs": [
    {
     "name": "stdout",
     "output_type": "stream",
     "text": [
      "all z6.(dog(z6) -> exists z5.(bone(z5) & give(angus,z5,z6)))\n"
     ]
    }
   ],
   "source": [
    "from nltk import load_parser\n",
    "# FCFG grafika\n",
    "parser = load_parser('grammars/book_grammars/simple-sem.fcfg', trace=0)\n",
    "# test rečenica\n",
    "sentence = 'Angus gives a bone to every dog'\n",
    "# tokenizacija\n",
    "tokens = sentence.split()\n",
    "# obilježje semantike nakon produkcije FBG gramatike\n",
    "for tree in parser.parse(tokens):\n",
    "    print(tree.label()['SEM'])"
   ]
  },
  {
   "cell_type": "code",
   "execution_count": 25,
   "metadata": {
    "slideshow": {
     "slide_type": "subslide"
    }
   },
   "outputs": [
    {
     "name": "stdout",
     "output_type": "stream",
     "text": [
      "walk(irene)\n",
      "exists z7.(ankle(z7) & bite(cyril,z7))\n"
     ]
    }
   ],
   "source": [
    "sents = ['Irene walks', 'Cyril bites an ankle']\n",
    "grammar_file = 'grammars/book_grammars/simple-sem.fcfg'\n",
    "# primijeni FBG na dane rečenice i ispiši semnatičko obilježje\n",
    "for results in nltk.interpret_sents(sents, grammar_file):\n",
    "        for (synrep, semrep) in results:\n",
    "            print(semrep)"
   ]
  },
  {
   "cell_type": "code",
   "execution_count": 26,
   "metadata": {},
   "outputs": [
    {
     "name": "stdout",
     "output_type": "stream",
     "text": [
      "all z8.(boy(z8) -> see(cyril,z8))\n",
      "True\n"
     ]
    }
   ],
   "source": [
    "# valuacija modela \n",
    "# postavljamo model\n",
    "v = \"\"\"\n",
    "    bertie => b\n",
    "    olive => o\n",
    "    cyril => c\n",
    "    boy => {b}\n",
    "    girl => {o}\n",
    "    dog => {c}\n",
    "    walk => {o, c}\n",
    "    see => {(b, o), (c, b), (o, c)}\n",
    "\"\"\"\n",
    "val = nltk.Valuation.fromstring(v)\n",
    "\n",
    "g = nltk.Assignment(val.domain)\n",
    "m = nltk.Model(val.domain, val)\n",
    "sent = 'Cyril sees every boy'\n",
    "grammar_file = 'grammars/book_grammars/simple-sem.fcfg'\n",
    "results = nltk.evaluate_sents([sent], grammar_file, m, g)[0]\n",
    "# ispis semantičke reprezentacije i valuacije iste\n",
    "for (synrep, semrep, value) in results:\n",
    "    #print(synrep)\n",
    "    print(semrep)\n",
    "    print(value)"
   ]
  },
  {
   "cell_type": "markdown",
   "metadata": {
    "slideshow": {
     "slide_type": "slide"
    }
   },
   "source": [
    "# Zaključak\n",
    "\n",
    " * FOL logika u prezentiranju značenja prirodnog jezika, dokazivači teorema kao alati za rezoniranje o značenju\n",
    " * kompozitnost značenja ostvarena korištenjem FOL + $\\lambda$-kalkulus\n",
    " * redukcije u korištenju definiranja argumenata\n",
    " * konstrukcija modela temeljena na valuaciji: interpretacija nelogičkih konstanti\n",
    " * SEM kao kategorija u FBG stvara slože semantičke izraze"
   ]
  },
  {
   "cell_type": "code",
   "execution_count": null,
   "metadata": {},
   "outputs": [],
   "source": []
  }
 ],
 "metadata": {
  "celltoolbar": "Slideshow",
  "kernelspec": {
   "display_name": "Python 3 (ipykernel)",
   "language": "python",
   "name": "python3"
  },
  "language_info": {
   "codemirror_mode": {
    "name": "ipython",
    "version": 3
   },
   "file_extension": ".py",
   "mimetype": "text/x-python",
   "name": "python",
   "nbconvert_exporter": "python",
   "pygments_lexer": "ipython3",
   "version": "3.11.7"
  },
  "livereveal": {
   "scroll": true,
   "start_slideshow_at": "selected",
   "transition": "zoom"
  }
 },
 "nbformat": 4,
 "nbformat_minor": 4
}
