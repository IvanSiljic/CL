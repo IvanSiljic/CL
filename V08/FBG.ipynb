{
 "cells": [
  {
   "cell_type": "code",
   "execution_count": 15,
   "metadata": {
    "slideshow": {
     "slide_type": "skip"
    }
   },
   "outputs": [],
   "source": [
    "# NLTK paket\n",
    "import nltk\n"
   ]
  },
  {
   "cell_type": "markdown",
   "metadata": {
    "slideshow": {
     "slide_type": "slide"
    }
   },
   "source": [
    "# Gramatika s obilježjima\n",
    "engl. **Feature Based Grammers (FBG)** ... proširenje koncepta definiranja CFG-a! \n",
    "* obilježje strukture (engl. feature structures) kao skupovi parova (obilježje,vrijednost)\n",
    "* NLTK prikazuje u ispisu kao *AVM matrice* (engl. *attribute value matrices*)\n"
   ]
  },
  {
   "cell_type": "markdown",
   "metadata": {
    "slideshow": {
     "slide_type": "slide"
    }
   },
   "source": [
    "# Definiranje obilježja u NLTK"
   ]
  },
  {
   "cell_type": "markdown",
   "metadata": {},
   "source": [
    "Strukture značajki možemo oblikovati prema AVM matrici."
   ]
  },
  {
   "cell_type": "code",
   "execution_count": 2,
   "metadata": {
    "slideshow": {
     "slide_type": "subslide"
    }
   },
   "outputs": [
    {
     "name": "stdout",
     "output_type": "stream",
     "text": [
      "[ NUM   = 'sg'   ]\n",
      "[ TENSE = 'past' ]\n",
      "fem\n",
      "[ CASE = 'acc' ]\n",
      "[ GND  = 'fem' ]\n",
      "[ NUM  = 'pl'  ]\n",
      "[ PER  = 3     ]\n"
     ]
    }
   ],
   "source": [
    "# skup značajki\n",
    "# primjer 1\n",
    "fs1 = nltk.FeatStruct(TENSE='past', NUM='sg') # gl.vrijeme i broj\n",
    "print(fs1) # ispis prema AVM formatu\n",
    "# primjer 2\n",
    "fs1 = nltk.FeatStruct(PER=3, NUM='pl', GND='fem') # lice broj, rod\n",
    "print(fs1['GND'])\n",
    "fs1['CASE'] = 'acc' # dodavanje novih značajki\n",
    "print(fs1)"
   ]
  },
  {
   "cell_type": "code",
   "execution_count": 5,
   "metadata": {},
   "outputs": [
    {
     "name": "stdout",
     "output_type": "stream",
     "text": [
      "[       [ CASE = 'acc' ] ]\n",
      "[ AGR = [ GND  = 'fem' ] ]\n",
      "[       [ NUM  = 'pl'  ] ]\n",
      "[       [ PER  = 3     ] ]\n",
      "[                        ]\n",
      "[ POS = 'N'              ]\n",
      "[ CASE = 'acc' ]\n",
      "[ GND  = 'fem' ]\n",
      "[ NUM  = 'pl'  ]\n",
      "[ PER  = 3     ]\n",
      "3\n"
     ]
    }
   ],
   "source": [
    "# referenciranje\n",
    "fs2 = nltk.FeatStruct(POS='N', AGR=fs1) # agreement = podskup značajki\n",
    "print(fs2)\n",
    "# pristup kao višedimenzionalnom polju ...\n",
    "\n",
    "print(fs2['AGR'])\n",
    "print(fs2['AGR']['PER'])\n"
   ]
  },
  {
   "cell_type": "markdown",
   "metadata": {},
   "source": [
    "Značajke možemo definirati koristeći AVM sintaksu ili preko pozicijskih argumenata. "
   ]
  },
  {
   "cell_type": "code",
   "execution_count": 4,
   "metadata": {},
   "outputs": [
    {
     "name": "stdout",
     "output_type": "stream",
     "text": [
      "[       [ GND = 'fem' ] ]\n",
      "[ AGR = [ NUM = 'pl'  ] ]\n",
      "[       [ PER = 3     ] ]\n",
      "[                       ]\n",
      "[ POS = 'N'             ]\n",
      "[ AGE   = 33               ]\n",
      "[ NAME  = 'Lee'            ]\n",
      "[ TELNO = '01 27 86 42 96' ]\n"
     ]
    }
   ],
   "source": [
    "# definiranje znacajki kao AVM\n",
    "print(nltk.FeatStruct(\"[POS='N', AGR=[PER=3, NUM='pl', GND='fem']]\"))\n",
    "# definiranje preko pozicijskih argumenata\n",
    "fs3 = nltk.FeatStruct(NAME='Lee', TELNO='01 27 86 42 96', AGE=33)\n",
    "print(fs3)"
   ]
  },
  {
   "cell_type": "markdown",
   "metadata": {},
   "source": [
    "Kompleksnije strukture značajki koriste reference (naziv. *reentrance*)"
   ]
  },
  {
   "cell_type": "code",
   "execution_count": 15,
   "metadata": {},
   "outputs": [
    {
     "name": "stdout",
     "output_type": "stream",
     "text": [
      "[ ADDRESS = (1) [ NUMBER = 74           ] ]\n",
      "[               [ STREET = 'rue Pascal' ] ]\n",
      "[                                         ]\n",
      "[ NAME    = 'Lee'                         ]\n",
      "[                                         ]\n",
      "[ SPOUSE  = [ ADDRESS -> (1)  ]           ]\n",
      "[           [ NAME    = 'Kim' ]           ]\n"
     ]
    }
   ],
   "source": [
    "fs4 = nltk.FeatStruct(\"\"\"\n",
    "    [NAME='Lee', ADDRESS=(1)[NUMBER=74, STREET='rue Pascal'],\n",
    "                          SPOUSE=[NAME='Kim', ADDRESS->(1)]]\n",
    "\"\"\")\n",
    "print(fs4)"
   ]
  },
  {
   "cell_type": "markdown",
   "metadata": {},
   "source": [
    "Vizualizacija kao DAG: \n",
    "\n",
    "![](dag03.png)"
   ]
  },
  {
   "cell_type": "markdown",
   "metadata": {
    "slideshow": {
     "slide_type": "slide"
    }
   },
   "source": [
    "## OPERACIJE: Subsidijarnost i unifikacija\n",
    "\n",
    "Ideja povezivanja obilježja se može interpretirati u kontekstu putova u usmjerenom acikličkom grafu.\n",
    " * **subsidijarnost**: $F_1\\sqsubseteq F_2$ ako je informacija iz $F_1$ sadržana u $F_2$.\n",
    " * **unifikacija**: $F_1\\sqcup F_2=F$ tako da $F_1\\sqsubseteq F,F_2\\sqsubseteq F$"
   ]
  },
  {
   "cell_type": "code",
   "execution_count": 22,
   "metadata": {
    "slideshow": {
     "slide_type": "subslide"
    }
   },
   "outputs": [
    {
     "name": "stdout",
     "output_type": "stream",
     "text": [
      "[ CITY   = 'Paris'      ]\n",
      "[ NUMBER = 74           ]\n",
      "[ STREET = 'rue Pascal' ]\n"
     ]
    }
   ],
   "source": [
    "# unifikacija\n",
    "fs1 = nltk.FeatStruct(NUMBER=74, STREET='rue Pascal')\n",
    "fs2 = nltk.FeatStruct(CITY='Paris')\n",
    "fs1_2 = fs1.unify(fs2)\n",
    "\n",
    "print(fs1_2)"
   ]
  },
  {
   "cell_type": "markdown",
   "metadata": {
    "slideshow": {
     "slide_type": "slide"
    }
   },
   "source": [
    "Kako izbijeći redundaciju obilježja? "
   ]
  },
  {
   "cell_type": "code",
   "execution_count": 25,
   "metadata": {
    "slideshow": {
     "slide_type": "subslide"
    }
   },
   "outputs": [
    {
     "name": "stdout",
     "output_type": "stream",
     "text": [
      "[ ADDRESS = [ NUMBER = 74           ]               ]\n",
      "[           [ STREET = 'rue Pascal' ]               ]\n",
      "[                                                   ]\n",
      "[ NAME    = 'Lee'                                   ]\n",
      "[                                                   ]\n",
      "[           [ ADDRESS = [ NUMBER = 74           ] ] ]\n",
      "[ SPOUSE  = [           [ STREET = 'rue Pascal' ] ] ]\n",
      "[           [                                     ] ]\n",
      "[           [ NAME    = 'Kim'                     ] ]\n",
      "----------------------------------\n",
      "[ SPOUSE = [ ADDRESS = [ CITY = 'Paris' ] ] ]\n",
      "----------------------------------\n",
      "[ ADDRESS = [ NUMBER = 74           ]               ]\n",
      "[           [ STREET = 'rue Pascal' ]               ]\n",
      "[                                                   ]\n",
      "[ NAME    = 'Lee'                                   ]\n",
      "[                                                   ]\n",
      "[           [           [ CITY   = 'Paris'      ] ] ]\n",
      "[           [ ADDRESS = [ NUMBER = 74           ] ] ]\n",
      "[ SPOUSE  = [           [ STREET = 'rue Pascal' ] ] ]\n",
      "[           [                                     ] ]\n",
      "[           [ NAME    = 'Kim'                     ] ]\n",
      "----------------------------------\n",
      "[               [ CITY   = 'Paris'      ] ]\n",
      "[ ADDRESS = (1) [ NUMBER = 74           ] ]\n",
      "[               [ STREET = 'rue Pascal' ] ]\n",
      "[                                         ]\n",
      "[ NAME    = 'Lee'                         ]\n",
      "[                                         ]\n",
      "[ SPOUSE  = [ ADDRESS -> (1)  ]           ]\n",
      "[           [ NAME    = 'Kim' ]           ]\n"
     ]
    }
   ],
   "source": [
    "\n",
    "fs0 = nltk.FeatStruct(\"\"\"[NAME=Lee,\n",
    "                           ADDRESS=[NUMBER=74,\n",
    "                                    STREET='rue Pascal'],\n",
    "                           SPOUSE= [NAME=Kim,\n",
    "                                    ADDRESS=[NUMBER=74,\n",
    "                                             STREET='rue Pascal']]]\"\"\")\n",
    "print(fs0)\n",
    "print('----------------------------------')\n",
    "\n",
    "\n",
    "fs1 = nltk.FeatStruct(\"[SPOUSE = [ADDRESS = [CITY = Paris]]]\")\n",
    "print(fs1)\n",
    "print('----------------------------------')\n",
    "print(fs1.unify(fs0))\n",
    "print('----------------------------------')\n",
    "\n",
    "# Što ako želimo promijeniti po referenci?\n",
    "fs2 = nltk.FeatStruct(\n",
    "    \"\"\"[NAME=Lee, ADDRESS=(1)[NUMBER=74, STREET='rue Pascal'],\n",
    "       SPOUSE=[NAME=Kim, ADDRESS->(1)]]\"\"\"\n",
    ")\n",
    "print(fs1.unify(fs2))"
   ]
  },
  {
   "cell_type": "markdown",
   "metadata": {},
   "source": [
    "## Gramatika sa strukturama značajki"
   ]
  },
  {
   "cell_type": "code",
   "execution_count": 7,
   "metadata": {},
   "outputs": [
    {
     "name": "stderr",
     "output_type": "stream",
     "text": [
      "[nltk_data] Downloading package book_grammars to\n",
      "[nltk_data]     C:\\Users\\Domagoj\\AppData\\Roaming\\nltk_data...\n",
      "[nltk_data]   Unzipping grammars\\book_grammars.zip.\n"
     ]
    },
    {
     "data": {
      "text/plain": [
       "True"
      ]
     },
     "execution_count": 7,
     "metadata": {},
     "output_type": "execute_result"
    }
   ],
   "source": [
    "nltk.download('book_grammars')"
   ]
  },
  {
   "cell_type": "markdown",
   "metadata": {},
   "source": [
    "### Sročnost\n",
    "\n",
    "Primjeri gramatički ispravnih i neispravnih rečenica:\n",
    "```\n",
    "   the dog runs \n",
    "  *the dog run \n",
    "   the dogs run \n",
    "  *the dogs runs\n",
    "```\n",
    "\n",
    "U klasičnom CFG morali bi definirati kategorije za sročnost po rodu i broju:\n",
    "\n",
    "```\n",
    "S -> NP_SG VP_SG\n",
    "S -> NP_PL VP_PL\n",
    "NP_SG -> Det_SG N_SG\n",
    "NP_PL -> Det_PL N_PL\n",
    "VP_SG -> V_SG\n",
    "VP_PL -> V_PL\n",
    "\n",
    "Det_SG -> 'this'\n",
    "Det_PL -> 'these'\n",
    "N_SG -> 'dog'\n",
    "N_PL -> 'dogs'\n",
    "V_SG -> 'runs'\n",
    "V_PL -> 'run'\n",
    "```\n",
    "\n",
    "\n",
    "Značajke nam omogućuju da to učinimo na elegantniji način koristeći varijable `?x`.\n",
    "\n",
    "```\n",
    "S -> NP[NUM=?n] VP[NUM=?n]\n",
    "NP[NUM=?n] -> Det[NUM=?n] N[NUM=?n]\n",
    "VP[NUM=?n] -> V[NUM=?n]\n",
    "\n",
    "Det[NUM=sg] -> 'this'\n",
    "Det[NUM=pl] -> 'these'\n",
    "\n",
    "N[NUM=sg] -> 'dog'\n",
    "N[NUM=pl] -> 'dogs'\n",
    "V[NUM=sg] -> 'runs'\n",
    "V[NUM=pl] -> 'run'\n",
    "\n",
    "```\n",
    "\n",
    "koje za rečenicu `these dogs run` daje sljedeću stablo parsiranja:\n",
    "\n",
    "![](ch09-tree-9.png)\n"
   ]
  },
  {
   "cell_type": "code",
   "execution_count": 24,
   "metadata": {
    "slideshow": {
     "slide_type": "subslide"
    }
   },
   "outputs": [
    {
     "name": "stdout",
     "output_type": "stream",
     "text": [
      "% start S\n",
      "# ###################\n",
      "# Grammar Productions\n",
      "# ###################\n",
      "# S expansion productions\n",
      "S -> NP[NUM=?n] VP[NUM=?n]\n",
      "# NP expansion productions\n",
      "NP[NUM=?n] -> N[NUM=?n] \n",
      "NP[NUM=?n] -> PropN[NUM=?n] \n",
      "NP[NUM=?n] -> Det[NUM=?n] N[NUM=?n]\n",
      "NP[NUM=pl] -> N[NUM=pl] \n",
      "# VP expansion productions\n",
      "VP[TENSE=?t, NUM=?n] -> IV[TENSE=?t, NUM=?n]\n",
      "VP[TENSE=?t, NUM=?n] -> TV[TENSE=?t, NUM=?n] NP\n",
      "# ###################\n",
      "# Lexical Productions\n",
      "# ###################\n",
      "Det[NUM=sg] -> 'this' | 'every'\n",
      "Det[NUM=pl] -> 'these' | 'all'\n",
      "Det -> 'the' | 'some' | 'several'\n",
      "PropN[NUM=sg]-> 'Kim' | 'Jody'\n",
      "N[NUM=sg] -> 'dog' | 'girl' | 'car' | 'child'\n",
      "N[NUM=pl] -> 'dogs' | 'girls' | 'cars' | 'children' \n",
      "IV[TENSE=pres,  NUM=sg] -> 'disappears' | 'walks'\n",
      "TV[TENSE=pres, NUM=sg] -> 'sees' | 'likes'\n",
      "IV[TENSE=pres,  NUM=pl] -> 'disappear' | 'walk'\n",
      "TV[TENSE=pres, NUM=pl] -> 'see' | 'like'\n",
      "IV[TENSE=past] -> 'disappeared' | 'walked'\n",
      "TV[TENSE=past] -> 'saw' | 'liked'\n",
      "|.Kim .like.chil.|\n",
      "Leaf Init Rule:\n",
      "|[----]    .    .| [0:1] 'Kim'\n",
      "|.    [----]    .| [1:2] 'likes'\n",
      "|.    .    [----]| [2:3] 'children'\n",
      "Feature Bottom Up Predict Combine Rule:\n",
      "|[----]    .    .| [0:1] PropN[NUM='sg'] -> 'Kim' *\n",
      "Feature Bottom Up Predict Combine Rule:\n",
      "|[----]    .    .| [0:1] NP[NUM='sg'] -> PropN[NUM='sg'] *\n",
      "Feature Bottom Up Predict Combine Rule:\n",
      "|[---->    .    .| [0:1] S[] -> NP[NUM=?n] * VP[NUM=?n] {?n: 'sg'}\n",
      "Feature Bottom Up Predict Combine Rule:\n",
      "|.    [----]    .| [1:2] TV[NUM='sg', TENSE='pres'] -> 'likes' *\n",
      "Feature Bottom Up Predict Combine Rule:\n",
      "|.    [---->    .| [1:2] VP[NUM=?n, TENSE=?t] -> TV[NUM=?n, TENSE=?t] * NP[] {?n: 'sg', ?t: 'pres'}\n",
      "Feature Bottom Up Predict Combine Rule:\n",
      "|.    .    [----]| [2:3] N[NUM='pl'] -> 'children' *\n",
      "Feature Bottom Up Predict Combine Rule:\n",
      "|.    .    [----]| [2:3] NP[NUM='pl'] -> N[NUM='pl'] *\n",
      "Feature Bottom Up Predict Combine Rule:\n",
      "|.    .    [---->| [2:3] S[] -> NP[NUM=?n] * VP[NUM=?n] {?n: 'pl'}\n",
      "Feature Single Edge Fundamental Rule:\n",
      "|.    [---------]| [1:3] VP[NUM='sg', TENSE='pres'] -> TV[NUM='sg', TENSE='pres'] NP[] *\n",
      "Feature Single Edge Fundamental Rule:\n",
      "|[==============]| [0:3] S[] -> NP[NUM='sg'] VP[NUM='sg'] *\n"
     ]
    }
   ],
   "source": [
    "# DEMO\n",
    "# CFG obogaćena s dodatnim značajkama\n",
    "nltk.data.show_cfg('grammars/book_grammars/feat0.fcfg')\n",
    "\n",
    "tokens = 'Kim likes children'.split()\n",
    "# ispisi parser prema 'feat0.fcfg' za tokens \n",
    "# chart parser\n",
    "cp = nltk.load_parser('grammars/book_grammars/feat0.fcfg',trace=2)\n",
    "trees = list(cp.parse(tokens))\n",
    "\n",
    "tree = trees[0]\n",
    "tree.draw()\n",
    "\n"
   ]
  },
  {
   "cell_type": "markdown",
   "metadata": {
    "slideshow": {
     "slide_type": "slide"
    }
   },
   "source": [
    "# Subkategorizacija\n",
    "\n",
    "Mogućnost tipiziranja riječi. Leksičke kategorije nose obilježje `SUBCAT` kojem se označava kojoj subkategorizaciji pripadaju. Je li glagol tranzitivan ili ne (`SUBCAT=intran|tran`)? Otvara li riječ prostor za zavisnu rečenicu (`SUBCAT=clause`)?\n",
    "\n",
    "```\n",
    "VP[TENSE=?t, NUM=?n] -> V[SUBCAT=intrans, TENSE=?t, NUM=?n]\n",
    "VP[TENSE=?t, NUM=?n] -> V[SUBCAT=trans, TENSE=?t, NUM=?n] NP\n",
    "VP[TENSE=?t, NUM=?n] -> V[SUBCAT=clause, TENSE=?t, NUM=?n] SBar\n",
    "\n",
    "V[SUBCAT=intrans, TENSE=pres, NUM=sg] -> 'disappears' | 'walks'\n",
    "V[SUBCAT=trans, TENSE=pres, NUM=sg] -> 'sees' | 'likes'\n",
    "V[SUBCAT=clause, TENSE=pres, NUM=sg] -> 'says' | 'claims'\n",
    "\n",
    "V[SUBCAT=intrans, TENSE=pres, NUM=pl] -> 'disappear' | 'walk'\n",
    "V[SUBCAT=trans, TENSE=pres, NUM=pl] -> 'see' | 'like'\n",
    "V[SUBCAT=clause, TENSE=pres, NUM=pl] -> 'say' | 'claim'\n",
    "\n",
    "V[SUBCAT=intrans, TENSE=past, NUM=?n] -> 'disappeared' | 'walked'\n",
    "V[SUBCAT=trans, TENSE=past, NUM=?n] -> 'saw' | 'liked'\n",
    "V[SUBCAT=clause, TENSE=past, NUM=?n] -> 'said' | 'claimed'\n",
    "\n",
    "```\n",
    "\n",
    "U primjeru `You claim that you like children` koje je zavisna (objektna) rečenica, produkcijom \n",
    "\n",
    "```\n",
    "SBar -> Comp S\n",
    "Comp -> 'that' \n",
    "```\n",
    "\n",
    "možemo prepoznati komplement glagola, koja je zavisna rečenica. \n",
    "\n",
    "![](ch09-tree-10.png)\n"
   ]
  },
  {
   "cell_type": "markdown",
   "metadata": {},
   "source": [
    "### Pomoćni glagoli, inverzije i dopune\n",
    "\n",
    "Inverzije rečenica (obrati) pojavljuju se u EN i HR jeziku npr. upitnom obliku:\n",
    "```\n",
    "  Do you like children?\n",
    " *Like you children?\n",
    " \n",
    "  Never have I seen this dog.\n",
    "  *Never saw I this dog.\n",
    "```\n",
    "\n",
    "Pomoćni glagoli kao *do, can, have, ...* mogu se pojaviti u inverzijama.  Produkcija koje detektira inverziju\n",
    "\n",
    "```\n",
    "S[+INV] -> V[+AUX] NP VP\n",
    "```\n",
    "\n",
    "U određenim okolnostima riječi koje zahtjevaju komplement, uz određene dopune mogu anulirati to svojstvo.\n",
    "\n",
    "```\n",
    "  You like Jody.\n",
    " *You like.\n",
    "```\n",
    "\n",
    "ako u rečenici postoji riječ *who* onda komplement se može ispustiti.\n",
    "\n",
    "```\n",
    "  Kim know who you like.   \n",
    "```\n",
    " \n",
    "**Kategorija \"kose crte\" (engl. slash category)**: oblika `Y\\XP` je kategorija ili fraza `Y` kojoj nedostaje podkonstituent `XP` (npr. `S/NP` jest `S` bez `NP`).\n",
    "\n",
    "\n",
    "![](ch09-tree-17.png)\n",
    "\n"
   ]
  },
  {
   "cell_type": "code",
   "execution_count": 21,
   "metadata": {
    "slideshow": {
     "slide_type": "subslide"
    }
   },
   "outputs": [
    {
     "name": "stdout",
     "output_type": "stream",
     "text": [
      "% start S\n",
      "# ###################\n",
      "# Grammar Productions\n",
      "# ###################\n",
      "S[-INV] -> NP VP\n",
      "S[-INV]/?x -> NP VP/?x\n",
      "S[-INV] -> NP S/NP\n",
      "S[-INV] -> Adv[+NEG] S[+INV]\n",
      "S[+INV] -> V[+AUX] NP VP\n",
      "S[+INV]/?x -> V[+AUX] NP VP/?x\n",
      "SBar -> Comp S[-INV]\n",
      "SBar/?x -> Comp S[-INV]/?x\n",
      "VP -> V[SUBCAT=intrans, -AUX]\n",
      "VP -> V[SUBCAT=trans, -AUX] NP\n",
      "VP/?x -> V[SUBCAT=trans, -AUX] NP/?x\n",
      "VP -> V[SUBCAT=clause, -AUX] SBar\n",
      "VP/?x -> V[SUBCAT=clause, -AUX] SBar/?x\n",
      "VP -> V[+AUX] VP\n",
      "VP/?x -> V[+AUX] VP/?x\n",
      "# ###################\n",
      "# Lexical Productions\n",
      "# ###################\n",
      "V[SUBCAT=intrans, -AUX] -> 'walk' | 'sing'\n",
      "V[SUBCAT=trans, -AUX] -> 'see' | 'like'\n",
      "V[SUBCAT=clause, -AUX] -> 'say' | 'claim'\n",
      "V[+AUX] -> 'do' | 'can'\n",
      "NP[-WH] -> 'you' | 'cats'\n",
      "NP[+WH] -> 'who'\n",
      "Adv[+NEG] -> 'rarely' | 'never'\n",
      "NP/NP ->\n",
      "Comp -> 'that'\n"
     ]
    }
   ],
   "source": [
    "nltk.data.show_cfg('grammars/book_grammars/feat1.fcfg')"
   ]
  },
  {
   "cell_type": "code",
   "execution_count": 25,
   "metadata": {
    "slideshow": {
     "slide_type": "subslide"
    }
   },
   "outputs": [],
   "source": [
    "tokens = 'who do you claim that you like'.split()\n",
    "# 'you claim that you like cats'\n",
    "# 'rarely do you sing'\n",
    "cp = nltk.load_parser('grammars/book_grammars/feat1.fcfg')\n",
    "trees = list(cp.parse(tokens))\n",
    "\n",
    "tree = trees[0]\n",
    "tree.draw()\n"
   ]
  },
  {
   "cell_type": "code",
   "execution_count": null,
   "metadata": {},
   "outputs": [],
   "source": []
  }
 ],
 "metadata": {
  "celltoolbar": "Slideshow",
  "kernelspec": {
   "display_name": "Python 3",
   "language": "python",
   "name": "python3"
  },
  "language_info": {
   "codemirror_mode": {
    "name": "ipython",
    "version": 3
   },
   "file_extension": ".py",
   "mimetype": "text/x-python",
   "name": "python",
   "nbconvert_exporter": "python",
   "pygments_lexer": "ipython3",
   "version": "3.11.7"
  },
  "livereveal": {
   "scroll": true,
   "start_slideshow_at": "selected",
   "theme": "sky",
   "transition": "zoom"
  }
 },
 "nbformat": 4,
 "nbformat_minor": 4
}
