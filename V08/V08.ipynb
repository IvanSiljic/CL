{
 "cells": [
  {
   "cell_type": "markdown",
   "source": [
    "# Unifikacijske gramatike"
   ],
   "metadata": {
    "collapsed": false
   },
   "id": "98c06df0425c6f2"
  },
  {
   "cell_type": "code",
   "execution_count": 1,
   "outputs": [],
   "source": [
    "import nltk"
   ],
   "metadata": {
    "collapsed": false,
    "ExecuteTime": {
     "end_time": "2023-12-12T12:21:27.392608127Z",
     "start_time": "2023-12-12T12:21:27.000739481Z"
    }
   },
   "id": "2ac8687d16bc243f"
  },
  {
   "cell_type": "code",
   "execution_count": 5,
   "outputs": [],
   "source": [
    "fs1 = nltk.FeatStruct(\n",
    "    TENSE = 'past',\n",
    "    NUM = 'sg'\n",
    ")\n",
    "\n",
    "fs2 = nltk.FeatStruct(\n",
    "    PER = 3,\n",
    "    NUM = 'pl',\n",
    "    GND = 'fem'\n",
    ")\n",
    "\n",
    "fs2['CASE'] = 'acc'"
   ],
   "metadata": {
    "collapsed": false,
    "ExecuteTime": {
     "end_time": "2023-12-12T12:24:38.684455094Z",
     "start_time": "2023-12-12T12:24:38.681030353Z"
    }
   },
   "id": "7d1b25d574277205"
  },
  {
   "cell_type": "code",
   "execution_count": 7,
   "outputs": [
    {
     "name": "stdout",
     "output_type": "stream",
     "text": [
      "[       [ CASE = 'acc' ] ]\n",
      "[ AGR = [ GND  = 'fem' ] ]\n",
      "[       [ NUM  = 'pl'  ] ]\n",
      "[       [ PER  = 3     ] ]\n",
      "[                        ]\n",
      "[ POS = 'N'              ]\n"
     ]
    }
   ],
   "source": [
    "fs3 = nltk.FeatStruct(\n",
    "    POS = 'N',\n",
    "    AGR = fs2,\n",
    ")\n",
    "\n",
    "print(fs3)"
   ],
   "metadata": {
    "collapsed": false,
    "ExecuteTime": {
     "end_time": "2023-12-12T12:25:32.015120595Z",
     "start_time": "2023-12-12T12:25:31.974324675Z"
    }
   },
   "id": "8ef8069a4dcdccf3"
  },
  {
   "cell_type": "code",
   "execution_count": 11,
   "outputs": [
    {
     "name": "stdout",
     "output_type": "stream",
     "text": [
      "[ CITY   = 'Paris'      ]\n",
      "[ NUMBER = 74           ]\n",
      "[ STREET = 'rue Pascal' ]\n"
     ]
    }
   ],
   "source": [
    "# Unifikacija\n",
    "fs1 = nltk.FeatStruct(\n",
    "    NUMBER = 74,\n",
    "    STREET = 'rue Pascal',\n",
    ")\n",
    "\n",
    "fs2 = nltk.FeatStruct(\n",
    "    CITY = 'Paris'\n",
    ")\n",
    "\n",
    "fs_1_2 = fs1.unify(fs2)\n",
    "\n",
    "print(fs_1_2)"
   ],
   "metadata": {
    "collapsed": false,
    "ExecuteTime": {
     "end_time": "2023-12-12T12:29:39.942171513Z",
     "start_time": "2023-12-12T12:29:39.937914722Z"
    }
   },
   "id": "689b1c935b30e244"
  },
  {
   "cell_type": "markdown",
   "source": [
    "## Dodavanje značajki u CFG"
   ],
   "metadata": {
    "collapsed": false
   },
   "id": "a41760fbeda32f54"
  },
  {
   "cell_type": "markdown",
   "source": [
    "### Modeliranje Sročnosti"
   ],
   "metadata": {
    "collapsed": false
   },
   "id": "c5cd75b48e5317a2"
  },
  {
   "cell_type": "code",
   "execution_count": 20,
   "outputs": [
    {
     "name": "stdout",
     "output_type": "stream",
     "text": [
      "% start S\n",
      "# ###################\n",
      "# Grammar Productions\n",
      "# ###################\n",
      "# S expansion productions\n",
      "S -> NP[NUM=?n] VP[NUM=?n]\n",
      "# NP expansion productions\n",
      "NP[NUM=?n] -> N[NUM=?n] \n",
      "NP[NUM=?n] -> PropN[NUM=?n] \n",
      "NP[NUM=?n] -> Det[NUM=?n] N[NUM=?n]\n",
      "NP[NUM=pl] -> N[NUM=pl] \n",
      "# VP expansion productions\n",
      "VP[TENSE=?t, NUM=?n] -> IV[TENSE=?t, NUM=?n]\n",
      "VP[TENSE=?t, NUM=?n] -> TV[TENSE=?t, NUM=?n] NP\n",
      "# ###################\n",
      "# Lexical Productions\n",
      "# ###################\n",
      "Det[NUM=sg] -> 'this' | 'every'\n",
      "Det[NUM=pl] -> 'these' | 'all'\n",
      "Det -> 'the' | 'some' | 'several'\n",
      "PropN[NUM=sg]-> 'Kim' | 'Jody'\n",
      "N[NUM=sg] -> 'dog' | 'girl' | 'car' | 'child'\n",
      "N[NUM=pl] -> 'dogs' | 'girls' | 'cars' | 'children' \n",
      "IV[TENSE=pres,  NUM=sg] -> 'disappears' | 'walks'\n",
      "TV[TENSE=pres, NUM=sg] -> 'sees' | 'likes'\n",
      "IV[TENSE=pres,  NUM=pl] -> 'disappear' | 'walk'\n",
      "TV[TENSE=pres, NUM=pl] -> 'see' | 'like'\n",
      "IV[TENSE=past] -> 'disappeared' | 'walked'\n",
      "TV[TENSE=past] -> 'saw' | 'liked'\n",
      "|.Kim .like.chil.|\n",
      "Leaf Init Rule:\n",
      "|[----]    .    .| [0:1] 'Kim'\n",
      "|.    [----]    .| [1:2] 'likes'\n",
      "|.    .    [----]| [2:3] 'children'\n",
      "Feature Bottom Up Predict Combine Rule:\n",
      "|[----]    .    .| [0:1] PropN[NUM='sg'] -> 'Kim' *\n",
      "Feature Bottom Up Predict Combine Rule:\n",
      "|[----]    .    .| [0:1] NP[NUM='sg'] -> PropN[NUM='sg'] *\n",
      "Feature Bottom Up Predict Combine Rule:\n",
      "|[---->    .    .| [0:1] S[] -> NP[NUM=?n] * VP[NUM=?n] {?n: 'sg'}\n",
      "Feature Bottom Up Predict Combine Rule:\n",
      "|.    [----]    .| [1:2] TV[NUM='sg', TENSE='pres'] -> 'likes' *\n",
      "Feature Bottom Up Predict Combine Rule:\n",
      "|.    [---->    .| [1:2] VP[NUM=?n, TENSE=?t] -> TV[NUM=?n, TENSE=?t] * NP[] {?n: 'sg', ?t: 'pres'}\n",
      "Feature Bottom Up Predict Combine Rule:\n",
      "|.    .    [----]| [2:3] N[NUM='pl'] -> 'children' *\n",
      "Feature Bottom Up Predict Combine Rule:\n",
      "|.    .    [----]| [2:3] NP[NUM='pl'] -> N[NUM='pl'] *\n",
      "Feature Bottom Up Predict Combine Rule:\n",
      "|.    .    [---->| [2:3] S[] -> NP[NUM=?n] * VP[NUM=?n] {?n: 'pl'}\n",
      "Feature Single Edge Fundamental Rule:\n",
      "|.    [---------]| [1:3] VP[NUM='sg', TENSE='pres'] -> TV[NUM='sg', TENSE='pres'] NP[] *\n",
      "Feature Single Edge Fundamental Rule:\n",
      "|[==============]| [0:3] S[] -> NP[NUM='sg'] VP[NUM='sg'] *\n"
     ]
    }
   ],
   "source": [
    "# Učitajmo primjere gramatika\n",
    "\n",
    "nltk.data.show_cfg('grammars/book_grammars/feat0.fcfg')\n",
    "\n",
    "tokens = \"Kim likes children\".split()\n",
    "\n",
    "cp = nltk.load_parser('grammars/book_grammars/feat0.fcfg', trace = 2)\n",
    "\n",
    "trees = list(cp.parse(tokens))\n",
    "\n",
    "tree = trees[0]\n",
    "\n",
    "tree.draw()"
   ],
   "metadata": {
    "collapsed": false,
    "ExecuteTime": {
     "end_time": "2023-12-12T12:48:34.984481230Z",
     "start_time": "2023-12-12T12:48:32.788202075Z"
    }
   },
   "id": "32db9a81ad3374db"
  },
  {
   "cell_type": "code",
   "execution_count": 22,
   "outputs": [
    {
     "name": "stdout",
     "output_type": "stream",
     "text": [
      "% start S\n",
      "# ###################\n",
      "# Grammar Productions\n",
      "# ###################\n",
      "S[-INV] -> NP VP\n",
      "S[-INV]/?x -> NP VP/?x\n",
      "S[-INV] -> NP S/NP\n",
      "S[-INV] -> Adv[+NEG] S[+INV]\n",
      "S[+INV] -> V[+AUX] NP VP\n",
      "S[+INV]/?x -> V[+AUX] NP VP/?x\n",
      "SBar -> Comp S[-INV]\n",
      "SBar/?x -> Comp S[-INV]/?x\n",
      "VP -> V[SUBCAT=intrans, -AUX]\n",
      "VP -> V[SUBCAT=trans, -AUX] NP\n",
      "VP/?x -> V[SUBCAT=trans, -AUX] NP/?x\n",
      "VP -> V[SUBCAT=clause, -AUX] SBar\n",
      "VP/?x -> V[SUBCAT=clause, -AUX] SBar/?x\n",
      "VP -> V[+AUX] VP\n",
      "VP/?x -> V[+AUX] VP/?x\n",
      "# ###################\n",
      "# Lexical Productions\n",
      "# ###################\n",
      "V[SUBCAT=intrans, -AUX] -> 'walk' | 'sing'\n",
      "V[SUBCAT=trans, -AUX] -> 'see' | 'like'\n",
      "V[SUBCAT=clause, -AUX] -> 'say' | 'claim'\n",
      "V[+AUX] -> 'do' | 'can'\n",
      "NP[-WH] -> 'you' | 'cats'\n",
      "NP[+WH] -> 'who'\n",
      "Adv[+NEG] -> 'rarely' | 'never'\n",
      "NP/NP ->\n",
      "Comp -> 'that'\n"
     ]
    }
   ],
   "source": [
    "nltk.data.show_cfg('grammars/book_grammars/feat1.fcfg')\n",
    "\n",
    "tokens = 'who do you claim that you like'.split()\n",
    "\n",
    "cp = nltk.load_parser('grammars/book_grammars/feat1.fcfg')\n",
    "\n",
    "trees = list(cp.parse(tokens))\n",
    "tree = trees[0]\n",
    "tree.draw()"
   ],
   "metadata": {
    "collapsed": false,
    "ExecuteTime": {
     "end_time": "2023-12-12T13:03:49.614651669Z",
     "start_time": "2023-12-12T12:59:15.580809059Z"
    }
   },
   "id": "e32cf635f87eef1e"
  },
  {
   "cell_type": "code",
   "execution_count": 24,
   "outputs": [],
   "source": [
    "tokens = 'you claim that you like cats'.split()\n",
    "\n",
    "cp = nltk.load_parser('grammars/book_grammars/feat1.fcfg')\n",
    "\n",
    "trees = list(cp.parse(tokens))\n",
    "tree = trees[0]\n",
    "tree.draw()"
   ],
   "metadata": {
    "collapsed": false,
    "ExecuteTime": {
     "end_time": "2023-12-12T13:06:24.248700811Z",
     "start_time": "2023-12-12T13:05:07.859886664Z"
    }
   },
   "id": "9735004548280a02"
  },
  {
   "cell_type": "code",
   "execution_count": 25,
   "outputs": [],
   "source": [
    "tokens = 'rarely do you sing'.split()\n",
    "\n",
    "cp = nltk.load_parser('grammars/book_grammars/feat1.fcfg')\n",
    "\n",
    "trees = list(cp.parse(tokens))\n",
    "tree = trees[0]\n",
    "tree.draw()"
   ],
   "metadata": {
    "collapsed": false,
    "ExecuteTime": {
     "end_time": "2023-12-12T13:08:55.588416827Z",
     "start_time": "2023-12-12T13:06:58.802120217Z"
    }
   },
   "id": "cdf38953fee9884b"
  }
 ],
 "metadata": {
  "kernelspec": {
   "display_name": "Python 3",
   "language": "python",
   "name": "python3"
  },
  "language_info": {
   "codemirror_mode": {
    "name": "ipython",
    "version": 2
   },
   "file_extension": ".py",
   "mimetype": "text/x-python",
   "name": "python",
   "nbconvert_exporter": "python",
   "pygments_lexer": "ipython2",
   "version": "2.7.6"
  }
 },
 "nbformat": 4,
 "nbformat_minor": 5
}
