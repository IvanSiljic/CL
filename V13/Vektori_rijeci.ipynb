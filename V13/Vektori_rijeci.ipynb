{
 "cells": [
  {
   "cell_type": "code",
   "execution_count": 1,
   "metadata": {
    "slideshow": {
     "slide_type": "skip"
    }
   },
   "outputs": [],
   "source": [
    "from IPython.core.interactiveshell import InteractiveShell\n",
    "InteractiveShell.ast_node_interactivity = \"all\""
   ]
  },
  {
   "cell_type": "markdown",
   "metadata": {},
   "source": [
    "# Vektori riječi\n"
   ]
  },
  {
   "cell_type": "markdown",
   "metadata": {
    "jp-MarkdownHeadingCollapsed": true,
    "slideshow": {
     "slide_type": "slide"
    },
    "tags": []
   },
   "source": [
    "## Logistička regresija: analiza sentimenta"
   ]
  },
  {
   "cell_type": "markdown",
   "metadata": {
    "slideshow": {
     "slide_type": "subslide"
    }
   },
   "source": [
    "Analiza sentimenta uz pomoć logističke regresije"
   ]
  },
  {
   "cell_type": "code",
   "execution_count": 3,
   "metadata": {},
   "outputs": [],
   "source": [
    "import nltk\n",
    "import numpy as np\n",
    "import pandas as pd\n",
    "import os\n",
    "import matplotlib.pyplot as plt\n",
    "# tvitovi\n",
    "from nltk.corpus import twitter_samples\n",
    "# pomocne funkcije za obradu tvitova\n",
    "from utils import process_tweet, build_freqs"
   ]
  },
  {
   "cell_type": "code",
   "execution_count": 4,
   "metadata": {
    "slideshow": {
     "slide_type": "fragment"
    }
   },
   "outputs": [
    {
     "name": "stdout",
     "output_type": "stream",
     "text": [
      "train_y.shape = (8000, 1)\n",
      "test_y.shape = (2000, 1)\n",
      "brjo tvitova u trening skupu:  8000\n",
      "broj tvitova u test skupu:  2000\n"
     ]
    }
   ],
   "source": [
    "# ucitaj skup pozitivnih i negativnih tvitova\n",
    "all_positive_tweets = twitter_samples.strings('positive_tweets.json')\n",
    "all_negative_tweets = twitter_samples.strings('negative_tweets.json')\n",
    "\n",
    "tweets = all_positive_tweets + all_negative_tweets # spoji liste\n",
    "positive_labels = np.ones((len(all_positive_tweets),1)) # poz. oznake kao polje 1-ica\n",
    "negative_labels = np.zeros((len(all_negative_tweets),1)) # neg. oznake kao polje 0\n",
    "labels = np.append(positive_labels, negative_labels, axis = 0) # sve oznake\n",
    "\n",
    "# podjela skupa na trening i test\n",
    "train_pos  = all_positive_tweets[:4000]\n",
    "test_pos = all_positive_tweets[4000:]\n",
    "train_neg  = all_negative_tweets[:4000]\n",
    "test_neg = all_negative_tweets[4000:]\n",
    "\n",
    "train_x = train_pos + train_neg\n",
    "train_y = np.append(positive_labels[:4000], negative_labels[:4000], axis=0)\n",
    "\n",
    "# demo podjele\n",
    "print(f\"train_y.shape = {train_y.shape}\")\n",
    "test_x = test_pos + test_neg\n",
    "test_y = np.append(positive_labels[4000:], negative_labels[4000:], axis=0)\n",
    "print(f\"test_y.shape = {test_y.shape}\")\n",
    "\n",
    "print(\"brjo tvitova u trening skupu: \", len(train_x))\n",
    "print(\"broj tvitova u test skupu: \", len(test_x))"
   ]
  },
  {
   "cell_type": "code",
   "execution_count": 5,
   "metadata": {
    "slideshow": {
     "slide_type": "fragment"
    }
   },
   "outputs": [
    {
     "name": "stdout",
     "output_type": "stream",
     "text": [
      "type(freqs) = <class 'dict'>\n",
      "len(freqs) = 11337\n"
     ]
    }
   ],
   "source": [
    "# izracunaj frekvencije pojedinih rijeci u + ili - sentimentu\n",
    "freqs = build_freqs(train_x, train_y)\n",
    "\n",
    "# check the output\n",
    "print(\"type(freqs) = \" + str(type(freqs)))\n",
    "print(\"len(freqs) = \" + str(len(freqs.keys())))\n"
   ]
  },
  {
   "cell_type": "code",
   "execution_count": 6,
   "metadata": {},
   "outputs": [
    {
     "name": "stdout",
     "output_type": "stream",
     "text": [
      "+ tvit: \n",
      " #FollowFriday @France_Inte @PKuchly57 @Milipol_Paris for being top engaged members in my community this week :)\n",
      "\n",
      "obradjeni + tvit: \n",
      " ['followfriday', 'top', 'engag', 'member', 'commun', 'week', ':)']\n"
     ]
    }
   ],
   "source": [
    "# testiranje skupa podataka\n",
    "print('+ tvit: \\n', train_x[0])\n",
    "# potrebno je ocistiti rijeci od suvisnih simobola i tokenzirati, koristiti `utils.process_tweet`\n",
    "print('\\nobradjeni + tvit: \\n', process_tweet(train_x[0]))"
   ]
  },
  {
   "cell_type": "code",
   "execution_count": 7,
   "metadata": {},
   "outputs": [],
   "source": [
    "\n",
    "# definirajmo znacajke\n",
    "def extract_features(tweet, freqs):\n",
    "    tweet_words = process_tweet(tweet)\n",
    "    # prvi stupac je pristranost, drugi je +broj rijeci, a treci -broj rijeci    \n",
    "    feature_vector = np.zeros((1, 3))\n",
    "    feature_vector[0, 0] = 1\n",
    "    for word in tweet_words:\n",
    "        feature_vector[0, 1] += freqs.get((word, 1.0), 0)\n",
    "        feature_vector[0, 2] += freqs.get((word, 0.0), 0)\n",
    "    return feature_vector"
   ]
  },
  {
   "cell_type": "code",
   "execution_count": 8,
   "metadata": {},
   "outputs": [
    {
     "data": {
      "text/plain": [
       "array([[1.00e+00, 3.02e+03, 6.10e+01]])"
      ]
     },
     "execution_count": 8,
     "metadata": {},
     "output_type": "execute_result"
    }
   ],
   "source": [
    "# provjeri kako smo izvukli znacajke iz primjera\n",
    "test_features = extract_features(train_x[0], freqs)\n",
    "test_features"
   ]
  },
  {
   "cell_type": "code",
   "execution_count": 9,
   "metadata": {},
   "outputs": [
    {
     "name": "stdout",
     "output_type": "stream",
     "text": [
      "(8000, 3)\n",
      "(2000, 3)\n"
     ]
    }
   ],
   "source": [
    "# izvlacenje znacajki za trening i test\n",
    "train_X = np.zeros((len(train_x), 3))\n",
    "test_X = np.zeros((len(test_x), 3))\n",
    "\n",
    "for i, tweet in enumerate(train_x):\n",
    "    train_X[i, :] = extract_features(tweet, freqs)\n",
    "for i, tweet in enumerate(test_x):\n",
    "    test_X[i, :] = extract_features(tweet, freqs)\n",
    "\n",
    "print(train_X.shape)\n",
    "print(test_X.shape)"
   ]
  },
  {
   "cell_type": "code",
   "execution_count": 10,
   "metadata": {},
   "outputs": [
    {
     "data": {
      "text/html": [
       "<style>#sk-container-id-1 {color: black;background-color: white;}#sk-container-id-1 pre{padding: 0;}#sk-container-id-1 div.sk-toggleable {background-color: white;}#sk-container-id-1 label.sk-toggleable__label {cursor: pointer;display: block;width: 100%;margin-bottom: 0;padding: 0.3em;box-sizing: border-box;text-align: center;}#sk-container-id-1 label.sk-toggleable__label-arrow:before {content: \"▸\";float: left;margin-right: 0.25em;color: #696969;}#sk-container-id-1 label.sk-toggleable__label-arrow:hover:before {color: black;}#sk-container-id-1 div.sk-estimator:hover label.sk-toggleable__label-arrow:before {color: black;}#sk-container-id-1 div.sk-toggleable__content {max-height: 0;max-width: 0;overflow: hidden;text-align: left;background-color: #f0f8ff;}#sk-container-id-1 div.sk-toggleable__content pre {margin: 0.2em;color: black;border-radius: 0.25em;background-color: #f0f8ff;}#sk-container-id-1 input.sk-toggleable__control:checked~div.sk-toggleable__content {max-height: 200px;max-width: 100%;overflow: auto;}#sk-container-id-1 input.sk-toggleable__control:checked~label.sk-toggleable__label-arrow:before {content: \"▾\";}#sk-container-id-1 div.sk-estimator input.sk-toggleable__control:checked~label.sk-toggleable__label {background-color: #d4ebff;}#sk-container-id-1 div.sk-label input.sk-toggleable__control:checked~label.sk-toggleable__label {background-color: #d4ebff;}#sk-container-id-1 input.sk-hidden--visually {border: 0;clip: rect(1px 1px 1px 1px);clip: rect(1px, 1px, 1px, 1px);height: 1px;margin: -1px;overflow: hidden;padding: 0;position: absolute;width: 1px;}#sk-container-id-1 div.sk-estimator {font-family: monospace;background-color: #f0f8ff;border: 1px dotted black;border-radius: 0.25em;box-sizing: border-box;margin-bottom: 0.5em;}#sk-container-id-1 div.sk-estimator:hover {background-color: #d4ebff;}#sk-container-id-1 div.sk-parallel-item::after {content: \"\";width: 100%;border-bottom: 1px solid gray;flex-grow: 1;}#sk-container-id-1 div.sk-label:hover label.sk-toggleable__label {background-color: #d4ebff;}#sk-container-id-1 div.sk-serial::before {content: \"\";position: absolute;border-left: 1px solid gray;box-sizing: border-box;top: 0;bottom: 0;left: 50%;z-index: 0;}#sk-container-id-1 div.sk-serial {display: flex;flex-direction: column;align-items: center;background-color: white;padding-right: 0.2em;padding-left: 0.2em;position: relative;}#sk-container-id-1 div.sk-item {position: relative;z-index: 1;}#sk-container-id-1 div.sk-parallel {display: flex;align-items: stretch;justify-content: center;background-color: white;position: relative;}#sk-container-id-1 div.sk-item::before, #sk-container-id-1 div.sk-parallel-item::before {content: \"\";position: absolute;border-left: 1px solid gray;box-sizing: border-box;top: 0;bottom: 0;left: 50%;z-index: -1;}#sk-container-id-1 div.sk-parallel-item {display: flex;flex-direction: column;z-index: 1;position: relative;background-color: white;}#sk-container-id-1 div.sk-parallel-item:first-child::after {align-self: flex-end;width: 50%;}#sk-container-id-1 div.sk-parallel-item:last-child::after {align-self: flex-start;width: 50%;}#sk-container-id-1 div.sk-parallel-item:only-child::after {width: 0;}#sk-container-id-1 div.sk-dashed-wrapped {border: 1px dashed gray;margin: 0 0.4em 0.5em 0.4em;box-sizing: border-box;padding-bottom: 0.4em;background-color: white;}#sk-container-id-1 div.sk-label label {font-family: monospace;font-weight: bold;display: inline-block;line-height: 1.2em;}#sk-container-id-1 div.sk-label-container {text-align: center;}#sk-container-id-1 div.sk-container {/* jupyter's `normalize.less` sets `[hidden] { display: none; }` but bootstrap.min.css set `[hidden] { display: none !important; }` so we also need the `!important` here to be able to override the default hidden behavior on the sphinx rendered scikit-learn.org. See: https://github.com/scikit-learn/scikit-learn/issues/21755 */display: inline-block !important;position: relative;}#sk-container-id-1 div.sk-text-repr-fallback {display: none;}</style><div id=\"sk-container-id-1\" class=\"sk-top-container\"><div class=\"sk-text-repr-fallback\"><pre>LogisticRegression()</pre><b>In a Jupyter environment, please rerun this cell to show the HTML representation or trust the notebook. <br />On GitHub, the HTML representation is unable to render, please try loading this page with nbviewer.org.</b></div><div class=\"sk-container\" hidden><div class=\"sk-item\"><div class=\"sk-estimator sk-toggleable\"><input class=\"sk-toggleable__control sk-hidden--visually\" id=\"sk-estimator-id-1\" type=\"checkbox\" checked><label for=\"sk-estimator-id-1\" class=\"sk-toggleable__label sk-toggleable__label-arrow\">LogisticRegression</label><div class=\"sk-toggleable__content\"><pre>LogisticRegression()</pre></div></div></div></div></div>"
      ],
      "text/plain": [
       "LogisticRegression()"
      ]
     },
     "execution_count": 10,
     "metadata": {},
     "output_type": "execute_result"
    },
    {
     "data": {
      "text/plain": [
       "array([ 0.49631596,  0.00903952, -0.01025998])"
      ]
     },
     "execution_count": 10,
     "metadata": {},
     "output_type": "execute_result"
    }
   ],
   "source": [
    "# iskoristi logisticku regresiju iz scikit-learn paketa\n",
    "from sklearn.linear_model import LogisticRegression\n",
    "sentiment_model = LogisticRegression()\n",
    "# treniraj model\n",
    "sentiment_model.fit(train_X, train_y.ravel())\n",
    "# iscitaj koeficijente\n",
    "theta = sentiment_model.coef_[0]\n",
    "theta"
   ]
  },
  {
   "cell_type": "code",
   "execution_count": 11,
   "metadata": {},
   "outputs": [
    {
     "name": "stdout",
     "output_type": "stream",
     "text": [
      "\n",
      "Tweet = #FollowFriday @France_Inte @PKuchly57 @Milipol_Paris for being top engaged members in my community this week :)\n",
      "z = 27.666186593222264\n",
      "predvidjeni sentiment = 1.0\n",
      "predvidjena vjerojatnost = 0.9999999999990346\n",
      "+ sentiment. Stvarno = 1.0\n",
      "\n",
      "Tweet = Saturday Classes! :(\n",
      "z = -36.71102038810298\n",
      "predvidjeni sentiment = 0.0\n",
      "predvidjena vjerojatnost = 1.1392169037187492e-16\n",
      "- sentiment. Stvarno = 0.0\n",
      "\n",
      "Tweet = It's really hot :-(\n",
      "z = -3.257307236273272\n",
      "predvidjeni sentiment = 0.0\n",
      "predvidjena vjerojatnost = 0.037065198005719495\n",
      "- sentiment. Stvarno = 0.0\n"
     ]
    }
   ],
   "source": [
    "# testiraj trenirani model na testnom primjeru\n",
    "sample_pos_tweet = train_x[0]\n",
    "sample_neg_tweet = train_x[5001]\n",
    "test_tweet1 = test_x[1005]\n",
    "\n",
    "def predict_tweet_sentiment(tweet, label):\n",
    "    print(f\"\\nTweet = {tweet}\")    \n",
    "    tweet_input_features = extract_features(tweet, freqs)\n",
    "    scores = sentiment_model.decision_function(tweet_input_features)\n",
    "    print(f\"z = {scores[0]}\")\n",
    "    predicted_sentiment = sentiment_model.predict(tweet_input_features)\n",
    "    predicted_sentiment = predicted_sentiment[0]\n",
    "    print(f\"predvidjeni sentiment = {predicted_sentiment}\")\n",
    "    predict_probab = sentiment_model.predict_proba(tweet_input_features)\n",
    "    print(f\"predvidjena vjerojatnost = {predict_probab[:, 1][0]}\")\n",
    "    if predicted_sentiment == 1:\n",
    "        print(f'+ sentiment. Stvarno = {label[0]}')\n",
    "    elif predicted_sentiment == 0 :\n",
    "        print(f'- sentiment. Stvarno = {label[0]}')\n",
    "\n",
    "predict_tweet_sentiment(sample_pos_tweet, train_y[0])\n",
    "predict_tweet_sentiment(sample_neg_tweet, train_y[5001])\n",
    "predict_tweet_sentiment(test_tweet1, test_y[1005])\n"
   ]
  },
  {
   "cell_type": "code",
   "execution_count": 12,
   "metadata": {},
   "outputs": [
    {
     "name": "stdout",
     "output_type": "stream",
     "text": [
      "Tocnost predikcije log. regresije za sentiment = 0.99\n",
      "Tocnost predikcije log. regresije za sentiment (sklearn mjera) = 0.9915\n"
     ]
    }
   ],
   "source": [
    "# izracunaj tocnost predikcije\n",
    "def get_prediction_accuracy(predicted_labels, true_labels):    \n",
    "    # izracun tocno predvidjenih testnih primjera\n",
    "    is_correct = predicted_labels == true_labels    \n",
    "    #  izracun tocnosti\n",
    "    accuracy = len(predicted_labels[is_correct]) / len(is_correct)    \n",
    "    return round(accuracy, 2), is_correct\n",
    "\n",
    "test_predicted_labels = sentiment_model.predict(test_X)\n",
    "accuracy, is_correct = get_prediction_accuracy(test_predicted_labels, test_y.ravel())\n",
    "sklearn_accuracy = sentiment_model.score(test_X, test_y)\n",
    "print(f\"Tocnost predikcije log. regresije za sentiment = {accuracy}\") \n",
    "print(f\"Tocnost predikcije log. regresije za sentiment (sklearn mjera) = {sklearn_accuracy}\")"
   ]
  },
  {
   "cell_type": "code",
   "execution_count": null,
   "metadata": {
    "jupyter": {
     "source_hidden": true
    },
    "tags": []
   },
   "outputs": [],
   "source": [
    "# Error analysis\n",
    "test_x = np.array(test_x)\n",
    "mispredicted_tweets = test_x[~is_correct]\n",
    "print(f\"Number of misclassified tweets = {len(mispredicted_tweets)}\")\n",
    "test_tweets = np.concatenate((test_x.reshape(-1, 1), test_predicted_labels.reshape(-1, 1), test_y.reshape(-1, 1)), \n",
    "                            axis=1)\n",
    "df_test_tweets = pd.DataFrame({'Tweet': pd.Series(test_x, dtype='str'),\n",
    "                               'Predicted_Label': pd.Series(test_predicted_labels, dtype='float'),\n",
    "                               'True_Label': pd.Series(test_y.ravel(), dtype='float')})                            \n",
    "print(test_tweets.shape)\n",
    "df_test_tweets.head()   "
   ]
  },
  {
   "cell_type": "code",
   "execution_count": 72,
   "metadata": {},
   "outputs": [
    {
     "data": {
      "text/html": [
       "<div>\n",
       "<style scoped>\n",
       "    .dataframe tbody tr th:only-of-type {\n",
       "        vertical-align: middle;\n",
       "    }\n",
       "\n",
       "    .dataframe tbody tr th {\n",
       "        vertical-align: top;\n",
       "    }\n",
       "\n",
       "    .dataframe thead th {\n",
       "        text-align: right;\n",
       "    }\n",
       "</style>\n",
       "<table border=\"1\" class=\"dataframe\">\n",
       "  <thead>\n",
       "    <tr style=\"text-align: right;\">\n",
       "      <th></th>\n",
       "      <th>Tweet</th>\n",
       "      <th>Predicted_Label</th>\n",
       "      <th>True_Label</th>\n",
       "    </tr>\n",
       "  </thead>\n",
       "  <tbody>\n",
       "    <tr>\n",
       "      <th>84</th>\n",
       "      <td>@MarkBreech Not sure it would be good thing 4 ...</td>\n",
       "      <td>0.0</td>\n",
       "      <td>1.0</td>\n",
       "    </tr>\n",
       "    <tr>\n",
       "      <th>129</th>\n",
       "      <td>I'm playing Brain Dots : ) #BrainDots\\nhttp://...</td>\n",
       "      <td>0.0</td>\n",
       "      <td>1.0</td>\n",
       "    </tr>\n",
       "    <tr>\n",
       "      <th>136</th>\n",
       "      <td>I'm playing Brain Dots : ) #BrainDots http://t...</td>\n",
       "      <td>0.0</td>\n",
       "      <td>1.0</td>\n",
       "    </tr>\n",
       "    <tr>\n",
       "      <th>530</th>\n",
       "      <td>I'm playing Brain Dots : ) #BrainDots http://t...</td>\n",
       "      <td>0.0</td>\n",
       "      <td>1.0</td>\n",
       "    </tr>\n",
       "    <tr>\n",
       "      <th>822</th>\n",
       "      <td>@msarosh Uff Itna Miss karhy thy ap :p</td>\n",
       "      <td>0.0</td>\n",
       "      <td>1.0</td>\n",
       "    </tr>\n",
       "  </tbody>\n",
       "</table>\n",
       "</div>"
      ],
      "text/plain": [
       "                                                 Tweet  Predicted_Label  \\\n",
       "84   @MarkBreech Not sure it would be good thing 4 ...              0.0   \n",
       "129  I'm playing Brain Dots : ) #BrainDots\\nhttp://...              0.0   \n",
       "136  I'm playing Brain Dots : ) #BrainDots http://t...              0.0   \n",
       "530  I'm playing Brain Dots : ) #BrainDots http://t...              0.0   \n",
       "822             @msarosh Uff Itna Miss karhy thy ap :p              0.0   \n",
       "\n",
       "     True_Label  \n",
       "84          1.0  \n",
       "129         1.0  \n",
       "136         1.0  \n",
       "530         1.0  \n",
       "822         1.0  "
      ]
     },
     "execution_count": 72,
     "metadata": {},
     "output_type": "execute_result"
    }
   ],
   "source": [
    "# krivo prediktiran tvitovi\n",
    "df_misclassified_tweets = df_test_tweets[~is_correct]\n",
    "df_misclassified_tweets.head()"
   ]
  },
  {
   "cell_type": "markdown",
   "metadata": {},
   "source": [
    "# Vektori riječi: Word2Vec "
   ]
  },
  {
   "cell_type": "code",
   "execution_count": 2,
   "metadata": {},
   "outputs": [
    {
     "name": "stdout",
     "output_type": "stream",
     "text": [
      "Collecting gensimNote: you may need to restart the kernel to use updated packages.\n"
     ]
    },
    {
     "name": "stderr",
     "output_type": "stream",
     "text": [
      "\n",
      "[notice] A new release of pip is available: 23.3.1 -> 23.3.2\n",
      "[notice] To update, run: C:\\Users\\Domagoj\\AppData\\Local\\Microsoft\\WindowsApps\\PythonSoftwareFoundation.Python.3.11_qbz5n2kfra8p0\\python.exe -m pip install --upgrade pip\n"
     ]
    },
    {
     "name": "stdout",
     "output_type": "stream",
     "text": [
      "\n",
      "  Downloading gensim-4.3.2-cp311-cp311-win_amd64.whl.metadata (8.5 kB)\n",
      "Requirement already satisfied: numpy>=1.18.5 in c:\\users\\domagoj\\appdata\\local\\packages\\pythonsoftwarefoundation.python.3.11_qbz5n2kfra8p0\\localcache\\local-packages\\python311\\site-packages (from gensim) (1.26.2)\n",
      "Requirement already satisfied: scipy>=1.7.0 in c:\\users\\domagoj\\appdata\\local\\packages\\pythonsoftwarefoundation.python.3.11_qbz5n2kfra8p0\\localcache\\local-packages\\python311\\site-packages (from gensim) (1.11.3)\n",
      "Collecting smart-open>=1.8.1 (from gensim)\n",
      "  Downloading smart_open-6.4.0-py3-none-any.whl.metadata (21 kB)\n",
      "Downloading gensim-4.3.2-cp311-cp311-win_amd64.whl (24.0 MB)\n",
      "   ---------------------------------------- 0.0/24.0 MB ? eta -:--:--\n",
      "   ---------------------------------------- 0.0/24.0 MB 2.0 MB/s eta 0:00:12\n",
      "   ---------------------------------------- 0.3/24.0 MB 4.5 MB/s eta 0:00:06\n",
      "   - -------------------------------------- 0.7/24.0 MB 6.1 MB/s eta 0:00:04\n",
      "   - -------------------------------------- 1.0/24.0 MB 7.4 MB/s eta 0:00:04\n",
      "   - -------------------------------------- 1.0/24.0 MB 7.4 MB/s eta 0:00:04\n",
      "   - -------------------------------------- 1.1/24.0 MB 4.6 MB/s eta 0:00:06\n",
      "   -- ------------------------------------- 1.6/24.0 MB 5.6 MB/s eta 0:00:04\n",
      "   --- ------------------------------------ 2.1/24.0 MB 6.3 MB/s eta 0:00:04\n",
      "   ---- ----------------------------------- 2.6/24.0 MB 7.1 MB/s eta 0:00:04\n",
      "   ---- ----------------------------------- 3.0/24.0 MB 7.3 MB/s eta 0:00:03\n",
      "   ------ --------------------------------- 3.6/24.0 MB 8.0 MB/s eta 0:00:03\n",
      "   ------- -------------------------------- 4.2/24.0 MB 8.4 MB/s eta 0:00:03\n",
      "   ------- -------------------------------- 4.6/24.0 MB 8.7 MB/s eta 0:00:03\n",
      "   -------- ------------------------------- 5.0/24.0 MB 8.9 MB/s eta 0:00:03\n",
      "   -------- ------------------------------- 5.2/24.0 MB 8.4 MB/s eta 0:00:03\n",
      "   -------- ------------------------------- 5.2/24.0 MB 8.4 MB/s eta 0:00:03\n",
      "   -------- ------------------------------- 5.2/24.0 MB 8.4 MB/s eta 0:00:03\n",
      "   -------- ------------------------------- 5.2/24.0 MB 8.4 MB/s eta 0:00:03\n",
      "   -------- ------------------------------- 5.2/24.0 MB 8.4 MB/s eta 0:00:03\n",
      "   -------- ------------------------------- 5.2/24.0 MB 8.4 MB/s eta 0:00:03\n",
      "   -------- ------------------------------- 5.2/24.0 MB 8.4 MB/s eta 0:00:03\n",
      "   -------- ------------------------------- 5.2/24.0 MB 8.4 MB/s eta 0:00:03\n",
      "   -------- ------------------------------- 5.2/24.0 MB 8.4 MB/s eta 0:00:03\n",
      "   -------- ------------------------------- 5.2/24.0 MB 8.4 MB/s eta 0:00:03\n",
      "   --------- ------------------------------ 5.4/24.0 MB 5.2 MB/s eta 0:00:04\n",
      "   --------- ------------------------------ 5.6/24.0 MB 5.1 MB/s eta 0:00:04\n",
      "   ---------- ----------------------------- 6.4/24.0 MB 5.6 MB/s eta 0:00:04\n",
      "   ----------- ---------------------------- 7.1/24.0 MB 6.0 MB/s eta 0:00:03\n",
      "   ------------ --------------------------- 7.6/24.0 MB 6.1 MB/s eta 0:00:03\n",
      "   ------------- -------------------------- 7.9/24.0 MB 6.2 MB/s eta 0:00:03\n",
      "   -------------- ------------------------- 8.5/24.0 MB 6.4 MB/s eta 0:00:03\n",
      "   --------------- ------------------------ 9.2/24.0 MB 6.7 MB/s eta 0:00:03\n",
      "   ---------------- ----------------------- 9.8/24.0 MB 7.0 MB/s eta 0:00:03\n",
      "   ----------------- ---------------------- 10.3/24.0 MB 7.2 MB/s eta 0:00:02\n",
      "   ------------------ --------------------- 11.0/24.0 MB 7.3 MB/s eta 0:00:02\n",
      "   ------------------ --------------------- 11.3/24.0 MB 7.8 MB/s eta 0:00:02\n",
      "   ------------------- -------------------- 11.9/24.0 MB 8.0 MB/s eta 0:00:02\n",
      "   -------------------- ------------------- 12.2/24.0 MB 7.8 MB/s eta 0:00:02\n",
      "   --------------------- ------------------ 12.7/24.0 MB 7.8 MB/s eta 0:00:02\n",
      "   ---------------------- ----------------- 13.2/24.0 MB 7.9 MB/s eta 0:00:02\n",
      "   ----------------------- ---------------- 13.9/24.0 MB 7.9 MB/s eta 0:00:02\n",
      "   ----------------------- ---------------- 14.4/24.0 MB 7.8 MB/s eta 0:00:02\n",
      "   ------------------------ --------------- 14.9/24.0 MB 8.0 MB/s eta 0:00:02\n",
      "   ------------------------- -------------- 15.5/24.0 MB 12.1 MB/s eta 0:00:01\n",
      "   -------------------------- ------------- 15.9/24.0 MB 12.6 MB/s eta 0:00:01\n",
      "   -------------------------- ------------- 16.2/24.0 MB 11.9 MB/s eta 0:00:01\n",
      "   --------------------------- ------------ 16.7/24.0 MB 11.7 MB/s eta 0:00:01\n",
      "   ---------------------------- ----------- 17.4/24.0 MB 11.9 MB/s eta 0:00:01\n",
      "   ----------------------------- ---------- 17.8/24.0 MB 12.1 MB/s eta 0:00:01\n",
      "   ----------------------------- ---------- 17.8/24.0 MB 12.1 MB/s eta 0:00:01\n",
      "   ----------------------------- ---------- 17.8/24.0 MB 12.1 MB/s eta 0:00:01\n",
      "   ----------------------------- ---------- 17.8/24.0 MB 12.1 MB/s eta 0:00:01\n",
      "   ----------------------------- ---------- 17.8/24.0 MB 12.1 MB/s eta 0:00:01\n",
      "   ----------------------------- ---------- 17.8/24.0 MB 12.1 MB/s eta 0:00:01\n",
      "   ----------------------------- ---------- 17.8/24.0 MB 12.1 MB/s eta 0:00:01\n",
      "   ----------------------------- ---------- 17.8/24.0 MB 12.1 MB/s eta 0:00:01\n",
      "   ----------------------------- ---------- 17.8/24.0 MB 12.1 MB/s eta 0:00:01\n",
      "   ------------------------------ --------- 18.2/24.0 MB 8.6 MB/s eta 0:00:01\n",
      "   ------------------------------ --------- 18.5/24.0 MB 8.3 MB/s eta 0:00:01\n",
      "   ------------------------------- -------- 19.0/24.0 MB 8.4 MB/s eta 0:00:01\n",
      "   -------------------------------- ------- 19.5/24.0 MB 8.2 MB/s eta 0:00:01\n",
      "   -------------------------------- ------- 19.8/24.0 MB 8.2 MB/s eta 0:00:01\n",
      "   ---------------------------------- ----- 20.5/24.0 MB 8.2 MB/s eta 0:00:01\n",
      "   ---------------------------------- ----- 20.9/24.0 MB 8.1 MB/s eta 0:00:01\n",
      "   ----------------------------------- ---- 21.5/24.0 MB 8.2 MB/s eta 0:00:01\n",
      "   ------------------------------------ --- 21.9/24.0 MB 8.2 MB/s eta 0:00:01\n",
      "   ------------------------------------- -- 22.5/24.0 MB 8.3 MB/s eta 0:00:01\n",
      "   -------------------------------------- - 22.8/24.0 MB 8.2 MB/s eta 0:00:01\n",
      "   -------------------------------------- - 23.3/24.0 MB 8.1 MB/s eta 0:00:01\n",
      "   ---------------------------------------  23.9/24.0 MB 8.0 MB/s eta 0:00:01\n",
      "   ---------------------------------------  24.0/24.0 MB 8.0 MB/s eta 0:00:01\n",
      "   ---------------------------------------- 24.0/24.0 MB 7.5 MB/s eta 0:00:00\n",
      "Downloading smart_open-6.4.0-py3-none-any.whl (57 kB)\n",
      "   ---------------------------------------- 0.0/57.0 kB ? eta -:--:--\n",
      "   ---------------------------------------- 57.0/57.0 kB 3.1 MB/s eta 0:00:00\n",
      "Installing collected packages: smart-open, gensim\n",
      "Successfully installed gensim-4.3.2 smart-open-6.4.0\n"
     ]
    }
   ],
   "source": [
    "%pip install gensim"
   ]
  },
  {
   "cell_type": "markdown",
   "metadata": {},
   "source": [
    "U ovoj dijelu demonstrirat ćemo funkcionalnost vektora riječi."
   ]
  },
  {
   "cell_type": "code",
   "execution_count": 3,
   "metadata": {},
   "outputs": [],
   "source": [
    "# Get the interactive Tools for Matplotlib\n",
    "import numpy as np\n",
    "%matplotlib inline\n",
    "import matplotlib.pyplot as plt\n",
    "plt.style.use('ggplot')\n",
    "\n",
    "#!pip install gensim==3.8.3\n",
    "import gensim\n",
    "\n",
    "from sklearn.decomposition import PCA"
   ]
  },
  {
   "cell_type": "markdown",
   "metadata": {},
   "source": [
    "## 1. Gutenberg korpus"
   ]
  },
  {
   "cell_type": "code",
   "execution_count": 7,
   "metadata": {},
   "outputs": [
    {
     "name": "stderr",
     "output_type": "stream",
     "text": [
      "[nltk_data] Downloading package gutenberg to\n",
      "[nltk_data]     C:\\Users\\Domagoj\\AppData\\Roaming\\nltk_data...\n",
      "[nltk_data]   Unzipping corpora\\gutenberg.zip.\n"
     ]
    },
    {
     "data": {
      "text/plain": [
       "True"
      ]
     },
     "execution_count": 7,
     "metadata": {},
     "output_type": "execute_result"
    }
   ],
   "source": [
    "import nltk\n",
    "nltk.download('gutenberg')"
   ]
  },
  {
   "cell_type": "markdown",
   "metadata": {},
   "source": [
    "Projekt Gutenberg je volonterski trud digitalizacije i arhiviranja kulturnih dobara . Većina tekstova u kolekciji su puni tekstovi iz javno dostupnih knjiga.\n"
   ]
  },
  {
   "cell_type": "code",
   "execution_count": 8,
   "metadata": {},
   "outputs": [],
   "source": [
    "from nltk.corpus import gutenberg\n"
   ]
  },
  {
   "cell_type": "code",
   "execution_count": 9,
   "metadata": {},
   "outputs": [
    {
     "data": {
      "text/plain": [
       "['austen-emma.txt',\n",
       " 'austen-persuasion.txt',\n",
       " 'austen-sense.txt',\n",
       " 'bible-kjv.txt',\n",
       " 'blake-poems.txt',\n",
       " 'bryant-stories.txt',\n",
       " 'burgess-busterbrown.txt',\n",
       " 'carroll-alice.txt',\n",
       " 'chesterton-ball.txt',\n",
       " 'chesterton-brown.txt',\n",
       " 'chesterton-thursday.txt',\n",
       " 'edgeworth-parents.txt',\n",
       " 'melville-moby_dick.txt',\n",
       " 'milton-paradise.txt',\n",
       " 'shakespeare-caesar.txt',\n",
       " 'shakespeare-hamlet.txt',\n",
       " 'shakespeare-macbeth.txt',\n",
       " 'whitman-leaves.txt']"
      ]
     },
     "execution_count": 9,
     "metadata": {},
     "output_type": "execute_result"
    }
   ],
   "source": [
    "gutenberg.fileids()"
   ]
  },
  {
   "cell_type": "markdown",
   "metadata": {},
   "source": [
    "Odaberimo King James Bible kao tekst."
   ]
  },
  {
   "cell_type": "code",
   "execution_count": 10,
   "metadata": {},
   "outputs": [
    {
     "data": {
      "text/plain": [
       "30103"
      ]
     },
     "execution_count": 10,
     "metadata": {},
     "output_type": "execute_result"
    }
   ],
   "source": [
    "bible_kjv_sents = gutenberg.sents('bible-kjv.txt')\n",
    "len(bible_kjv_sents)"
   ]
  },
  {
   "cell_type": "markdown",
   "metadata": {},
   "source": [
    "## 2. Primjena Word2Vec"
   ]
  },
  {
   "cell_type": "markdown",
   "metadata": {},
   "source": [
    "Normalizacija i čišćenje teksta."
   ]
  },
  {
   "cell_type": "code",
   "execution_count": 11,
   "metadata": {},
   "outputs": [
    {
     "data": {
      "text/plain": [
       "['in',\n",
       " 'the',\n",
       " 'beginning',\n",
       " 'god',\n",
       " 'created',\n",
       " 'the',\n",
       " 'heaven',\n",
       " 'and',\n",
       " 'the',\n",
       " 'earth']"
      ]
     },
     "execution_count": 11,
     "metadata": {},
     "output_type": "execute_result"
    }
   ],
   "source": [
    "from string import punctuation\n",
    "\n",
    "dataset = [[word.lower() for word in sent if word not in punctuation and word.isalpha()] \n",
    "                                            for sent in bible_kjv_sents]\n",
    "# primjer nekih\n",
    "dataset[3]"
   ]
  },
  {
   "cell_type": "markdown",
   "metadata": {},
   "source": [
    "Word2Vec arhitekturu ćemo iskoristiti iz GenSim paketa."
   ]
  },
  {
   "cell_type": "code",
   "execution_count": 26,
   "metadata": {},
   "outputs": [
    {
     "data": {
      "text/plain": [
       "4472"
      ]
     },
     "execution_count": 26,
     "metadata": {},
     "output_type": "execute_result"
    }
   ],
   "source": [
    "from gensim.models import Word2Vec\n",
    "\n",
    "# Define the model\n",
    "model = Word2Vec(dataset, min_count=2, vector_size=300)\n",
    "\n",
    "# Get the vocabulary dictionary\n",
    "vocab_dict = model.wv.key_to_index\n",
    "\n",
    "# word vectors\n",
    "word_vectors = model.wv\n",
    "\n",
    "word = \"god\"\n",
    "# vektor riječi za \"god\"\n",
    "word_vectors[word]\n",
    "\n",
    "# koliko puta se pojavila rijec \"god\"\n",
    "model.wv.get_vecattr(word, \"count\")\n",
    "\n",
    "\n"
   ]
  },
  {
   "cell_type": "code",
   "execution_count": 30,
   "metadata": {},
   "outputs": [
    {
     "data": {
      "text/plain": [
       "[('lord', 0.8022905588150024),\n",
       " ('truth', 0.7770713567733765),\n",
       " ('spirit', 0.7379916310310364),\n",
       " ('salvation', 0.7183221578598022),\n",
       " ('hosts', 0.7078943252563477),\n",
       " ('christ', 0.6971784234046936),\n",
       " ('glory', 0.6962580680847168),\n",
       " ('faith', 0.6762832999229431),\n",
       " ('gospel', 0.6596940159797668),\n",
       " ('mercy', 0.659238338470459)]"
      ]
     },
     "execution_count": 30,
     "metadata": {},
     "output_type": "execute_result"
    }
   ],
   "source": [
    "# Get the most similar words to \"god\"\n",
    "most_similar_words = model.wv.most_similar(\"god\")\n",
    "\n",
    "most_similar_words"
   ]
  },
  {
   "cell_type": "code",
   "execution_count": 38,
   "metadata": {},
   "outputs": [
    {
     "data": {
      "text/plain": [
       "[('heavens', 0.7321428060531616),\n",
       " ('earth', 0.7169708013534546),\n",
       " ('palestina', 0.6708223819732666)]"
      ]
     },
     "execution_count": 38,
     "metadata": {},
     "output_type": "execute_result"
    }
   ],
   "source": [
    "word_vectors.most_similar(['heaven'], topn=3)"
   ]
  },
  {
   "cell_type": "code",
   "execution_count": 31,
   "metadata": {},
   "outputs": [
    {
     "data": {
      "text/plain": [
       "[('queen', 0.676397442817688)]"
      ]
     },
     "execution_count": 31,
     "metadata": {},
     "output_type": "execute_result"
    }
   ],
   "source": [
    "word_vectors.most_similar(positive=['woman', 'king'], negative=['man'], topn=1)"
   ]
  },
  {
   "cell_type": "code",
   "execution_count": 32,
   "metadata": {},
   "outputs": [
    {
     "data": {
      "text/plain": [
       "[('queen', 1.0101133584976196)]"
      ]
     },
     "execution_count": 32,
     "metadata": {},
     "output_type": "execute_result"
    }
   ],
   "source": [
    "# ponderirana cos slicnost\n",
    "word_vectors.most_similar_cosmul(positive=['woman', 'king'], negative=['man'], topn=1)"
   ]
  },
  {
   "cell_type": "code",
   "execution_count": 33,
   "metadata": {},
   "outputs": [
    {
     "data": {
      "text/plain": [
       "0.8022905"
      ]
     },
     "execution_count": 33,
     "metadata": {},
     "output_type": "execute_result"
    }
   ],
   "source": [
    "word_vectors.similarity('lord', 'god')"
   ]
  },
  {
   "cell_type": "code",
   "execution_count": 34,
   "metadata": {},
   "outputs": [
    {
     "data": {
      "text/plain": [
       "'food'"
      ]
     },
     "execution_count": 34,
     "metadata": {},
     "output_type": "execute_result"
    }
   ],
   "source": [
    "word_vectors.doesnt_match(\"lord god salvation food spirit\".split())"
   ]
  },
  {
   "cell_type": "code",
   "execution_count": 54,
   "metadata": {},
   "outputs": [],
   "source": [
    "import numpy as np\n",
    "from sklearn.decomposition import PCA\n",
    "import matplotlib.pyplot as plt\n",
    "\n",
    "def display_pca_scatterplot(model, words=None, sample=0):\n",
    "    if isinstance(words, int):\n",
    "        words = np.random.choice(list(model.key_to_index), words) if words > 0 else list(model.key_to_index)\n",
    "    elif words is None:\n",
    "        words = list(model.key_to_index)\n",
    "    word_vectors = np.array([model[word] for word in words])\n",
    "    points = PCA().fit_transform(word_vectors)[:, :2]\n",
    "    plt.figure(figsize=(12, 12))\n",
    "    plt.scatter(points[:, 0], points[:, 1], edgecolors='k', c='r')\n",
    "    for word, (x, y) in zip(words, points):\n",
    "        plt.text(x + 0.05, y + 0.05, word)\n"
   ]
  },
  {
   "cell_type": "code",
   "execution_count": 55,
   "metadata": {},
   "outputs": [
    {
     "data": {
      "image/png": "[encoded data removed]",
      "text/plain": [
       "<Figure size 1200x1200 with 1 Axes>"
      ]
     },
     "metadata": {},
     "output_type": "display_data"
    }
   ],
   "source": [
    "display_pca_scatterplot(word_vectors, words = ['queen', 'king','man'])"
   ]
  },
  {
   "cell_type": "code",
   "execution_count": 57,
   "metadata": {},
   "outputs": [
    {
     "data": {
      "image/png": "[encoded data removed]",
      "text/plain": [
       "<Figure size 1200x1200 with 1 Axes>"
      ]
     },
     "metadata": {},
     "output_type": "display_data"
    }
   ],
   "source": [
    "display_pca_scatterplot(word_vectors, words = 100)"
   ]
  },
  {
   "cell_type": "code",
   "execution_count": null,
   "metadata": {},
   "outputs": [],
   "source": []
  }
 ],
 "metadata": {
  "celltoolbar": "Slideshow",
  "kernelspec": {
   "display_name": "Python 3 (ipykernel)",
   "language": "python",
   "name": "python3"
  },
  "language_info": {
   "codemirror_mode": {
    "name": "ipython",
    "version": 3
   },
   "file_extension": ".py",
   "mimetype": "text/x-python",
   "name": "python",
   "nbconvert_exporter": "python",
   "pygments_lexer": "ipython3",
   "version": "3.11.7"
  },
  "livereveal": {
   "scroll": true,
   "start_slideshow_at": "selected",
   "theme": "white",
   "transition": "zoom"
  }
 },
 "nbformat": 4,
 "nbformat_minor": 4
}
