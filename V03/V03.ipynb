{
 "cells": [
  {
   "cell_type": "markdown",
   "source": [
    "# Python regularni izrazi II"
   ],
   "metadata": {
    "collapsed": false
   },
   "id": "18e0511b898c7ed0"
  },
  {
   "cell_type": "code",
   "execution_count": 1,
   "outputs": [],
   "source": [
    "# Regex\n",
    "import re"
   ],
   "metadata": {
    "collapsed": false,
    "ExecuteTime": {
     "end_time": "2023-10-24T11:21:47.232476774Z",
     "start_time": "2023-10-24T11:21:47.231346656Z"
    }
   },
   "id": "a59b5eaf54f2023a"
  },
  {
   "cell_type": "markdown",
   "source": [
    "## Razdvajanje i zamjena"
   ],
   "metadata": {
    "collapsed": false
   },
   "id": "f6ce632d314b315"
  },
  {
   "cell_type": "code",
   "execution_count": 4,
   "outputs": [
    {
     "data": {
      "text/plain": "['Bolestan bijah i u tamnici i ne pohodiste me',\n '!',\n ' Gospodine, a kada te to vidjesmo',\n '?',\n ' A ovi u muku odoše',\n '.',\n '']"
     },
     "execution_count": 4,
     "metadata": {},
     "output_type": "execute_result"
    }
   ],
   "source": [
    "# text\n",
    "verse1 = \"Bolestan bijah i u tamnici i ne pohodiste me! Gospodine, a kada te to vidjesmo? A ovi u muku odoše.\"\n",
    "\n",
    "re.split('\\.|!|\\?', verse1)\n",
    "\n",
    "# sacuvaj simbole razdvajanja\n",
    "re.split('(\\.|!|\\?)', verse1)"
   ],
   "metadata": {
    "collapsed": false,
    "ExecuteTime": {
     "end_time": "2023-10-24T11:27:34.489668592Z",
     "start_time": "2023-10-24T11:27:34.404381037Z"
    }
   },
   "id": "9b1c24e4acf5e87a"
  },
  {
   "cell_type": "code",
   "execution_count": 6,
   "outputs": [
    {
     "data": {
      "text/plain": "['Pohvatajte', 'lisice', 'male lisice što oštećuju vinograde']"
     },
     "execution_count": 6,
     "metadata": {},
     "output_type": "execute_result"
    }
   ],
   "source": [
    "verse2 = \"Pohvatajte lisice male lisice što oštećuju vinograde\"\n",
    "\n",
    "re.split('\\W+', verse2, 2)"
   ],
   "metadata": {
    "collapsed": false,
    "ExecuteTime": {
     "end_time": "2023-10-24T11:30:33.845638260Z",
     "start_time": "2023-10-24T11:30:33.803062116Z"
    }
   },
   "id": "f8b144a803669e5"
  },
  {
   "cell_type": "code",
   "execution_count": 14,
   "outputs": [
    {
     "data": {
      "text/plain": "'Marko &  Matej &  Luka &  Ivan'"
     },
     "execution_count": 14,
     "metadata": {},
     "output_type": "execute_result"
    }
   ],
   "source": [
    "# Zamjena\n",
    "\n",
    "verse3 = \"Marko10 Matej2 Luka3 Ivan\"\n",
    "\n",
    "re.sub('\\d+', ' & ', verse3) # subn() vrati broj zamjena"
   ],
   "metadata": {
    "collapsed": false,
    "ExecuteTime": {
     "end_time": "2023-10-24T11:36:18.687888736Z",
     "start_time": "2023-10-24T11:36:18.646530887Z"
    }
   },
   "id": "5737751c6837c63b"
  },
  {
   "cell_type": "markdown",
   "source": [
    "## Grupe dohvacanja"
   ],
   "metadata": {
    "collapsed": false
   },
   "id": "aa10a9ad8fdb10c"
  },
  {
   "cell_type": "code",
   "execution_count": 24,
   "outputs": [
    {
     "data": {
      "text/plain": "['Srpanj 24', 'Kolovoz 9', 'Prosinac 12']"
     },
     "execution_count": 24,
     "metadata": {},
     "output_type": "execute_result"
    }
   ],
   "source": [
    "tekst = \"Srpanj 24, Kolovoz 9, Prosinac 12, Travanj D\"\n",
    "regex = r\"\\w+ \\d+\"\n",
    "\n",
    "re.findall(regex, tekst)"
   ],
   "metadata": {
    "collapsed": false,
    "ExecuteTime": {
     "end_time": "2023-10-24T11:42:48.113581538Z",
     "start_time": "2023-10-24T11:42:48.072005679Z"
    }
   },
   "id": "c631934ffd7e71f4"
  },
  {
   "cell_type": "code",
   "execution_count": 26,
   "outputs": [
    {
     "data": {
      "text/plain": "[('Srpanj', '24'), ('Kolovoz', '9'), ('Prosinac', '12')]"
     },
     "execution_count": 26,
     "metadata": {},
     "output_type": "execute_result"
    }
   ],
   "source": [
    "regex = r\"([a-zA-Z]+) (\\d+)\"\n",
    "re.findall(regex, tekst)"
   ],
   "metadata": {
    "collapsed": false,
    "ExecuteTime": {
     "end_time": "2023-10-24T11:43:03.922448925Z",
     "start_time": "2023-10-24T11:43:03.919031426Z"
    }
   },
   "id": "e81dcdc0d107bb1d"
  },
  {
   "cell_type": "code",
   "execution_count": 32,
   "outputs": [
    {
     "data": {
      "text/plain": "'24'"
     },
     "execution_count": 32,
     "metadata": {},
     "output_type": "execute_result"
    }
   ],
   "source": [
    "mObj = re.search(regex, tekst)\n",
    "mObj.group()\n",
    "mObj.group(1)\n",
    "mObj.group(2)"
   ],
   "metadata": {
    "collapsed": false,
    "ExecuteTime": {
     "end_time": "2023-10-24T11:45:58.388403278Z",
     "start_time": "2023-10-24T11:45:58.384537725Z"
    }
   },
   "id": "9cc9154c778a5401"
  },
  {
   "cell_type": "markdown",
   "source": [
    "## Povratnost"
   ],
   "metadata": {
    "collapsed": false
   },
   "id": "1b31d54fa0d3676"
  },
  {
   "cell_type": "code",
   "execution_count": 37,
   "outputs": [
    {
     "data": {
      "text/plain": "'Python&Pails'"
     },
     "execution_count": 37,
     "metadata": {},
     "output_type": "execute_result"
    }
   ],
   "source": [
    "test = \"Python&Pails\"\n",
    "pattern = r'([Pp])ython&\\1ails' # r kao raw string\n",
    "\n",
    "re.match(pattern,test).group()"
   ],
   "metadata": {
    "collapsed": false,
    "ExecuteTime": {
     "end_time": "2023-10-24T11:48:01.964873630Z",
     "start_time": "2023-10-24T11:48:01.951466891Z"
    }
   },
   "id": "f9c1343a36b3a1b5"
  },
  {
   "cell_type": "code",
   "execution_count": 41,
   "outputs": [
    {
     "data": {
      "text/plain": "'zamislite bolju <b>Hrvatsku</b>, <b>čarobnu</b> Hrvatsku'"
     },
     "execution_count": 41,
     "metadata": {},
     "output_type": "execute_result"
    }
   ],
   "source": [
    "tekst = 'zamislite bolju *Hrvatsku*, *čarobnu* Hrvatsku'\n",
    "pattern = r'\\*(.*?)\\*'\n",
    "re.sub(pattern,r'<b>\\1</b>',tekst)"
   ],
   "metadata": {
    "collapsed": false,
    "ExecuteTime": {
     "end_time": "2023-10-24T11:57:40.709059624Z",
     "start_time": "2023-10-24T11:57:40.667824277Z"
    }
   },
   "id": "3d30bc68e9d13954"
  },
  {
   "cell_type": "code",
   "execution_count": 42,
   "outputs": [
    {
     "data": {
      "text/plain": "[('abb', 'bb', '', 'bb'), ('aa', 'a', 'a', '')]"
     },
     "execution_count": 42,
     "metadata": {},
     "output_type": "execute_result"
    }
   ],
   "source": [
    "# kako dohvacati vise grupa\n",
    "\n",
    "text = 'abbaabbba'\n",
    "re.findall('(a((a+)|(b+)))', text)"
   ],
   "metadata": {
    "collapsed": false,
    "ExecuteTime": {
     "end_time": "2023-10-24T12:00:20.179737896Z",
     "start_time": "2023-10-24T12:00:20.137897803Z"
    }
   },
   "id": "668da70db3c68e5c"
  },
  {
   "cell_type": "code",
   "execution_count": 44,
   "outputs": [
    {
     "name": "stdout",
     "output_type": "stream",
     "text": [
      "regex: ^(?P<prva_rijec>\\w+)\n",
      "    group: Ovo\n",
      "    imenaa grupa sa uzorkom: {'prva_rijec': 'Ovo'}\n",
      "regex: (?P<zadnja_rijec>\\w+)\\S*$\n",
      "    group: interpunkcije.\n",
      "    imenaa grupa sa uzorkom: {'zadnja_rijec': 'interpunkcije'}\n"
     ]
    }
   ],
   "source": [
    "# imenovanje grupa\n",
    "\n",
    "tekst = 'Ovo je neki tekst !?. sa znakovima interpunkcije.'\n",
    "\n",
    "regex = [\n",
    "    r'^(?P<prva_rijec>\\w+)',\n",
    "    r'(?P<zadnja_rijec>\\w+)\\S*$'\n",
    "]\n",
    "\n",
    "for pattern in regex:\n",
    "    mObj = re.search(pattern, tekst)\n",
    "    print(f'regex: {pattern}')\n",
    "    print(f'    group: {mObj.group()}')\n",
    "    print(f'    imenaa grupa sa uzorkom: {mObj.groupdict()}')\n",
    "    "
   ],
   "metadata": {
    "collapsed": false,
    "ExecuteTime": {
     "end_time": "2023-10-24T12:07:45.861626192Z",
     "start_time": "2023-10-24T12:07:45.856524574Z"
    }
   },
   "id": "49d4d9314f4db583"
  },
  {
   "cell_type": "markdown",
   "source": [
    "### Validne e-mail adrese"
   ],
   "metadata": {
    "collapsed": false
   },
   "id": "90430ab218950c13"
  },
  {
   "cell_type": "code",
   "execution_count": 67,
   "outputs": [
    {
     "name": "stdout",
     "output_type": "stream",
     "text": [
      "ime.prezime@abcd.edu:  OK\n",
      "ime.prezime+category@gmail.com:  NOT OK\n",
      "ispravna@adresa@mail.primjer.com:  NOT OK\n",
      "pitagora.mathos.hr:  NOT OK\n",
      "isiljic_sspzo@gmail.com:  OK\n"
     ]
    }
   ],
   "source": [
    "emails = \"\"\"\n",
    "ime.prezime@abcd.edu;\n",
    "ime.prezime+category@gmail.com;\n",
    "ispravna@adresa@mail.primjer.com;\n",
    "pitagora.mathos.hr;\n",
    "isiljic_sspzo@gmail.com\n",
    "\"\"\"\n",
    "regex = '^[a-zA-Z]\\w+[\\._]?\\w+@\\w+(\\.\\w{2,3})+$'\n",
    "\n",
    "for e in emails.strip().splitlines():\n",
    "    email = e.rstrip(';')\n",
    "    print(f'{email}: ', end=' ')\n",
    "    \n",
    "    if re.search(regex, email):\n",
    "        print('OK')\n",
    "    else:\n",
    "        print('NOT OK')"
   ],
   "metadata": {
    "collapsed": false,
    "ExecuteTime": {
     "end_time": "2023-10-24T12:34:33.956325920Z",
     "start_time": "2023-10-24T12:34:33.952603101Z"
    }
   },
   "id": "5cfe6c0bedd3509e"
  },
  {
   "cell_type": "code",
   "execution_count": null,
   "outputs": [],
   "source": [],
   "metadata": {
    "collapsed": false
   },
   "id": "451afb715d965309"
  }
 ],
 "metadata": {
  "kernelspec": {
   "display_name": "Python 3",
   "language": "python",
   "name": "python3"
  },
  "language_info": {
   "codemirror_mode": {
    "name": "ipython",
    "version": 2
   },
   "file_extension": ".py",
   "mimetype": "text/x-python",
   "name": "python",
   "nbconvert_exporter": "python",
   "pygments_lexer": "ipython2",
   "version": "2.7.6"
  }
 },
 "nbformat": 4,
 "nbformat_minor": 5
}
