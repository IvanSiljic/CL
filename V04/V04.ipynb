{
 "cells": [
  {
   "cell_type": "code",
   "execution_count": 1,
   "id": "initial_id",
   "metadata": {
    "collapsed": true,
    "ExecuteTime": {
     "end_time": "2023-10-31T13:00:07.554892623Z",
     "start_time": "2023-10-31T13:00:02.709702385Z"
    }
   },
   "outputs": [
    {
     "name": "stdout",
     "output_type": "stream",
     "text": [
      "Defaulting to user installation because normal site-packages is not writeable\r\n",
      "Collecting nltk\r\n",
      "  Using cached nltk-3.8.1-py3-none-any.whl (1.5 MB)\r\n",
      "Collecting click (from nltk)\r\n",
      "  Obtaining dependency information for click from https://files.pythonhosted.org/packages/00/2e/d53fa4befbf2cfa713304affc7ca780ce4fc1fd8710527771b58311a3229/click-8.1.7-py3-none-any.whl.metadata\r\n",
      "  Downloading click-8.1.7-py3-none-any.whl.metadata (3.0 kB)\r\n",
      "Collecting joblib (from nltk)\r\n",
      "  Obtaining dependency information for joblib from https://files.pythonhosted.org/packages/10/40/d551139c85db202f1f384ba8bcf96aca2f329440a844f924c8a0040b6d02/joblib-1.3.2-py3-none-any.whl.metadata\r\n",
      "  Using cached joblib-1.3.2-py3-none-any.whl.metadata (5.4 kB)\r\n",
      "Collecting regex>=2021.8.3 (from nltk)\r\n",
      "  Obtaining dependency information for regex>=2021.8.3 from https://files.pythonhosted.org/packages/8f/3e/4b8b40eb3c80aeaf360f0361d956d129bb3d23b2a3ecbe3a04a8f3bdd6d3/regex-2023.10.3-cp310-cp310-manylinux_2_17_x86_64.manylinux2014_x86_64.whl.metadata\r\n",
      "  Downloading regex-2023.10.3-cp310-cp310-manylinux_2_17_x86_64.manylinux2014_x86_64.whl.metadata (40 kB)\r\n",
      "\u001B[2K     \u001B[90m━━━━━━━━━━━━━━━━━━━━━━━━━━━━━━━━━━━━━━━\u001B[0m \u001B[32m40.9/40.9 kB\u001B[0m \u001B[31m608.0 kB/s\u001B[0m eta \u001B[36m0:00:00\u001B[0m \u001B[36m0:00:01\u001B[0m\r\n",
      "\u001B[?25hCollecting tqdm (from nltk)\r\n",
      "  Obtaining dependency information for tqdm from https://files.pythonhosted.org/packages/00/e5/f12a80907d0884e6dff9c16d0c0114d81b8cd07dc3ae54c5e962cc83037e/tqdm-4.66.1-py3-none-any.whl.metadata\r\n",
      "  Using cached tqdm-4.66.1-py3-none-any.whl.metadata (57 kB)\r\n",
      "Downloading regex-2023.10.3-cp310-cp310-manylinux_2_17_x86_64.manylinux2014_x86_64.whl (773 kB)\r\n",
      "\u001B[2K   \u001B[90m━━━━━━━━━━━━━━━━━━━━━━━━━━━━━━━━━━━━━━━━\u001B[0m \u001B[32m773.9/773.9 kB\u001B[0m \u001B[31m3.8 MB/s\u001B[0m eta \u001B[36m0:00:00\u001B[0ma \u001B[36m0:00:01\u001B[0m\r\n",
      "\u001B[?25hDownloading click-8.1.7-py3-none-any.whl (97 kB)\r\n",
      "\u001B[2K   \u001B[90m━━━━━━━━━━━━━━━━━━━━━━━━━━━━━━━━━━━━━━━━\u001B[0m \u001B[32m97.9/97.9 kB\u001B[0m \u001B[31m10.1 MB/s\u001B[0m eta \u001B[36m0:00:00\u001B[0m\r\n",
      "\u001B[?25hUsing cached joblib-1.3.2-py3-none-any.whl (302 kB)\r\n",
      "Using cached tqdm-4.66.1-py3-none-any.whl (78 kB)\r\n",
      "Installing collected packages: tqdm, regex, joblib, click, nltk\r\n",
      "Successfully installed click-8.1.7 joblib-1.3.2 nltk-3.8.1 regex-2023.10.3 tqdm-4.66.1\r\n",
      "\r\n",
      "\u001B[1m[\u001B[0m\u001B[34;49mnotice\u001B[0m\u001B[1;39;49m]\u001B[0m\u001B[39;49m A new release of pip is available: \u001B[0m\u001B[31;49m23.2.1\u001B[0m\u001B[39;49m -> \u001B[0m\u001B[32;49m23.3.1\u001B[0m\r\n",
      "\u001B[1m[\u001B[0m\u001B[34;49mnotice\u001B[0m\u001B[1;39;49m]\u001B[0m\u001B[39;49m To update, run: \u001B[0m\u001B[32;49mpython3.10 -m pip install --upgrade pip\u001B[0m\r\n",
      "Note: you may need to restart the kernel to use updated packages.\n"
     ]
    }
   ],
   "source": [
    "%pip install nltk"
   ]
  },
  {
   "cell_type": "code",
   "execution_count": 2,
   "outputs": [],
   "source": [
    "from nltk.corpus import brown"
   ],
   "metadata": {
    "collapsed": false,
    "ExecuteTime": {
     "end_time": "2023-10-31T13:01:42.022337527Z",
     "start_time": "2023-10-31T13:01:41.883556588Z"
    }
   },
   "id": "c842dfc514791ec4"
  },
  {
   "cell_type": "code",
   "execution_count": 39,
   "outputs": [],
   "source": [
    "from nltk.corpus import inaugural\n",
    "from IPython.core.interactiveshell import InteractiveShell\n",
    "InteractiveShell.ast_node_interactivity = 'all'\n",
    "\n",
    "inaugural.fileids()\n",
    "\n",
    "speech = \"1789-Washington.txt\"\n",
    "\n",
    "# print(inaugural.raw(speach))\n",
    "\n",
    "# inaugural.words(speech)\n",
    "\n",
    "# inaugural.sents(speech)\n",
    "\n",
    "# inaugural.paras(speech)"
   ],
   "metadata": {
    "collapsed": false,
    "ExecuteTime": {
     "end_time": "2023-10-31T13:26:31.063958739Z",
     "start_time": "2023-10-31T13:26:31.054350628Z"
    }
   },
   "id": "47fcbbd11464067b"
  },
  {
   "cell_type": "markdown",
   "source": [
    "## Tokenizacija"
   ],
   "metadata": {
    "collapsed": false
   },
   "id": "5b55eca63b29e173"
  },
  {
   "cell_type": "code",
   "execution_count": 40,
   "outputs": [
    {
     "data": {
      "text/plain": "['Hello World.', \"It's good to see you.\", 'Thanks for buying this book.']"
     },
     "execution_count": 40,
     "metadata": {},
     "output_type": "execute_result"
    },
    {
     "data": {
      "text/plain": "['Hola amigo.', 'Etoy bien.']"
     },
     "execution_count": 40,
     "metadata": {},
     "output_type": "execute_result"
    }
   ],
   "source": [
    "from nltk import sent_tokenize\n",
    "\n",
    "sent_en = \"Hello World. It's good to see you. Thanks for buying this book.\"\n",
    "sent_es = \"Hola amigo. Etoy bien.\"\n",
    "\n",
    "sent_tokenize(sent_en)\n",
    "sent_tokenize(sent_es)"
   ],
   "metadata": {
    "collapsed": false,
    "ExecuteTime": {
     "end_time": "2023-10-31T13:26:32.963253860Z",
     "start_time": "2023-10-31T13:26:32.920629342Z"
    }
   },
   "id": "7d12a2d261f2e603"
  },
  {
   "cell_type": "code",
   "execution_count": 41,
   "outputs": [
    {
     "data": {
      "text/plain": "['Hello',\n 'World',\n '.',\n 'It',\n \"'s\",\n 'good',\n 'to',\n 'see',\n 'you',\n '.',\n 'Thanks',\n 'for',\n 'buying',\n 'this',\n 'book',\n '.']"
     },
     "execution_count": 41,
     "metadata": {},
     "output_type": "execute_result"
    },
    {
     "data": {
      "text/plain": "['Hello',\n 'World',\n 'It',\n 's',\n 'good',\n 'to',\n 'see',\n 'you',\n 'Thanks',\n 'for',\n 'buying',\n 'this',\n 'book']"
     },
     "execution_count": 41,
     "metadata": {},
     "output_type": "execute_result"
    },
    {
     "data": {
      "text/plain": "['Ca', \"n't\", 'is', 'a', 'contraction']"
     },
     "execution_count": 41,
     "metadata": {},
     "output_type": "execute_result"
    },
    {
     "data": {
      "text/plain": "[\"Can't\", 'is', 'a', 'contraction']"
     },
     "execution_count": 41,
     "metadata": {},
     "output_type": "execute_result"
    }
   ],
   "source": [
    "# Tokenizacija na razinu riječi\n",
    "from nltk.tokenize import word_tokenize\n",
    "\n",
    "word_tokenize(sent_en)\n",
    "\n",
    "# Tokenizacija na razini regex-a\n",
    "from nltk.tokenize import regexp_tokenize\n",
    "\n",
    "regexp_tokenize(sent_en, '\\w+')\n",
    "\n",
    "word_tokenize(\"Can't is a contraction\")\n",
    "regexp_tokenize(\"Can't is a contraction\", \"[\\w|']+\")\n"
   ],
   "metadata": {
    "collapsed": false,
    "ExecuteTime": {
     "end_time": "2023-10-31T13:26:33.122225288Z",
     "start_time": "2023-10-31T13:26:33.112837060Z"
    }
   },
   "id": "15eca9bcacb88fa5"
  },
  {
   "cell_type": "markdown",
   "source": [
    "# Korjenovanje (eng. stemming)"
   ],
   "metadata": {
    "collapsed": false
   },
   "id": "e397df03f749704c"
  },
  {
   "cell_type": "code",
   "execution_count": 47,
   "outputs": [
    {
     "data": {
      "text/plain": "'cook'"
     },
     "execution_count": 47,
     "metadata": {},
     "output_type": "execute_result"
    },
    {
     "data": {
      "text/plain": "'cookeri'"
     },
     "execution_count": 47,
     "metadata": {},
     "output_type": "execute_result"
    },
    {
     "data": {
      "text/plain": "'cook'"
     },
     "execution_count": 47,
     "metadata": {},
     "output_type": "execute_result"
    },
    {
     "data": {
      "text/plain": "'cookery'"
     },
     "execution_count": 47,
     "metadata": {},
     "output_type": "execute_result"
    },
    {
     "data": {
      "text/plain": "'cook'"
     },
     "execution_count": 47,
     "metadata": {},
     "output_type": "execute_result"
    },
    {
     "data": {
      "text/plain": "'cookery'"
     },
     "execution_count": 47,
     "metadata": {},
     "output_type": "execute_result"
    },
    {
     "data": {
      "text/plain": "'ingleside'"
     },
     "execution_count": 47,
     "metadata": {},
     "output_type": "execute_result"
    }
   ],
   "source": [
    "# Porter stemmer (FST temeljen)\n",
    "from nltk.stem import PorterStemmer\n",
    "\n",
    "stemmer = PorterStemmer()\n",
    "stemmer.stem('cooking')\n",
    "stemmer.stem('cookery')\n",
    "\n",
    "# Lanceter stemmer\n",
    "from nltk.stem import LancasterStemmer\n",
    "\n",
    "stemmer = LancasterStemmer()\n",
    "stemmer.stem('cooking')\n",
    "stemmer.stem('cookery')\n",
    "\n",
    "# idemo napraviti svoj\n",
    "from nltk.stem import RegexpStemmer\n",
    "\n",
    "stemmer = RegexpStemmer('ing$')\n",
    "stemmer.stem('cooking')\n",
    "stemmer.stem('cookery')\n",
    "stemmer.stem('ingleside')"
   ],
   "metadata": {
    "collapsed": false,
    "ExecuteTime": {
     "end_time": "2023-10-31T13:29:31.643042621Z",
     "start_time": "2023-10-31T13:29:31.631249821Z"
    }
   },
   "id": "60ab66550142c9dd"
  },
  {
   "cell_type": "markdown",
   "source": [
    "## Lematizacija"
   ],
   "metadata": {
    "collapsed": false
   },
   "id": "b319ff9a785960be"
  },
  {
   "cell_type": "code",
   "execution_count": 52,
   "outputs": [
    {
     "data": {
      "text/plain": "'cooking'"
     },
     "execution_count": 52,
     "metadata": {},
     "output_type": "execute_result"
    },
    {
     "data": {
      "text/plain": "'cook'"
     },
     "execution_count": 52,
     "metadata": {},
     "output_type": "execute_result"
    },
    {
     "data": {
      "text/plain": "'coookbooks'"
     },
     "execution_count": 52,
     "metadata": {},
     "output_type": "execute_result"
    },
    {
     "data": {
      "text/plain": "'believes'"
     },
     "execution_count": 52,
     "metadata": {},
     "output_type": "execute_result"
    },
    {
     "data": {
      "text/plain": "'belief'"
     },
     "execution_count": 52,
     "metadata": {},
     "output_type": "execute_result"
    },
    {
     "data": {
      "text/plain": "'buses'"
     },
     "execution_count": 52,
     "metadata": {},
     "output_type": "execute_result"
    },
    {
     "data": {
      "text/plain": "'bus'"
     },
     "execution_count": 52,
     "metadata": {},
     "output_type": "execute_result"
    },
    {
     "data": {
      "text/plain": "'bus'"
     },
     "execution_count": 52,
     "metadata": {},
     "output_type": "execute_result"
    },
    {
     "data": {
      "text/plain": "'bus'"
     },
     "execution_count": 52,
     "metadata": {},
     "output_type": "execute_result"
    }
   ],
   "source": [
    "from nltk.stem import WordNetLemmatizer\n",
    "\n",
    "lemmatizer = WordNetLemmatizer()\n",
    "lemmatizer.lemmatize('cooking')\n",
    "lemmatizer.lemmatize('cooking', pos='v')\n",
    "lemmatizer.lemmatize('coookbooks')\n",
    "\n",
    "# koja je razlika s korjenovanjem\n",
    "stemmer.stem('believes')\n",
    "lemmatizer.lemmatize('believes')\n",
    "stemmer.stem('buses')\n",
    "lemmatizer.lemmatize('buses')\n",
    "stemmer.stem('bus')\n",
    "lemmatizer.lemmatize('bus')"
   ],
   "metadata": {
    "collapsed": false,
    "ExecuteTime": {
     "end_time": "2023-10-31T13:35:20.144360170Z",
     "start_time": "2023-10-31T13:35:20.094118423Z"
    }
   },
   "id": "eee83d660f9db4f5"
  },
  {
   "cell_type": "code",
   "execution_count": null,
   "outputs": [],
   "source": [],
   "metadata": {
    "collapsed": false
   },
   "id": "15657a38faa7e86b"
  }
 ],
 "metadata": {
  "kernelspec": {
   "display_name": "Python 3",
   "language": "python",
   "name": "python3"
  },
  "language_info": {
   "codemirror_mode": {
    "name": "ipython",
    "version": 2
   },
   "file_extension": ".py",
   "mimetype": "text/x-python",
   "name": "python",
   "nbconvert_exporter": "python",
   "pygments_lexer": "ipython2",
   "version": "2.7.6"
  }
 },
 "nbformat": 4,
 "nbformat_minor": 5
}
