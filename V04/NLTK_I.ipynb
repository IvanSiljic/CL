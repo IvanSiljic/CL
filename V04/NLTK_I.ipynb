{
 "cells": [
  {
   "cell_type": "code",
   "execution_count": 334,
   "metadata": {
    "slideshow": {
     "slide_type": "skip"
    }
   },
   "outputs": [],
   "source": [
    "# ovo pokrenuti ukoliko želite da se svi izrazi unutar ćelije ispišu\n",
    "from IPython.core.interactiveshell import InteractiveShell\n",
    "InteractiveShell.ast_node_interactivity = \"all\""
   ]
  },
  {
   "cell_type": "markdown",
   "metadata": {
    "slideshow": {
     "slide_type": "slide"
    }
   },
   "source": [
    "# NLTK - natural language Processing Kit za Python\n",
    "* Python alat za manipulaciju prirodnih jezika\n",
    "* *funkcionalnosti*: pristup korpusima, obradba stringova, označivanje, klasifikacija, komadanje, parsiranje, semantičke interpetacije, ...\n"
   ]
  },
  {
   "cell_type": "code",
   "execution_count": 335,
   "metadata": {},
   "outputs": [],
   "source": [
    "import nltk"
   ]
  },
  {
   "cell_type": "markdown",
   "metadata": {},
   "source": [
    "Potrebni resursi predstavljaju korpuse tekstova."
   ]
  },
  {
   "cell_type": "code",
   "execution_count": null,
   "metadata": {
    "tags": []
   },
   "outputs": [],
   "source": [
    "nltk.download('gutenberg')\n",
    "nltk.download('genesis')\n",
    "nltk.download('book')\n",
    "nltk.download('omw-1.4')"
   ]
  },
  {
   "cell_type": "code",
   "execution_count": 267,
   "metadata": {
    "slideshow": {
     "slide_type": "subslide"
    }
   },
   "outputs": [
    {
     "name": "stdout",
     "output_type": "stream",
     "text": [
      "*** Introductory Examples for the NLTK Book ***\n",
      "Loading text1, ..., text9 and sent1, ..., sent9\n",
      "Type the name of the text or sentence to view it.\n",
      "Type: 'texts()' or 'sents()' to list the materials.\n",
      "text1: Moby Dick by Herman Melville 1851\n",
      "text2: Sense and Sensibility by Jane Austen 1811\n",
      "text3: The Book of Genesis\n",
      "text4: Inaugural Address Corpus\n",
      "text5: Chat Corpus\n",
      "text6: Monty Python and the Holy Grail\n",
      "text7: Wall Street Journal\n",
      "text8: Personals Corpus\n",
      "text9: The Man Who Was Thursday by G . K . Chesterton 1908\n"
     ]
    }
   ],
   "source": [
    "# dohvatiti primjere koji se nalaze u knjizi: Bird et al.,NLTK with Python\n",
    "#!python3 -m nltk.downloader book \n",
    "%matplotlib inline\n",
    "from nltk import FreqDist\n",
    "from nltk.book import texts,text1,text2,text3,text4\n"
   ]
  },
  {
   "cell_type": "code",
   "execution_count": 337,
   "metadata": {
    "slideshow": {
     "slide_type": "subslide"
    }
   },
   "outputs": [
    {
     "name": "stdout",
     "output_type": "stream",
     "text": [
      "<Text: Moby Dick by Herman Melville 1851>\n",
      "*** konkordacija:\n",
      "Displaying 11 of 11 matches:\n",
      "ong the former , one was of a most monstrous size . ... This came towards us , \n",
      "ON OF THE PSALMS . \" Touching that monstrous bulk of the whale or ork we have r\n",
      "ll over with a heathenish array of monstrous clubs and spears . Some were thick\n",
      "d as you gazed , and wondered what monstrous cannibal and savage could ever hav\n",
      "that has survived the flood ; most monstrous and most mountainous ! That Himmal\n",
      "they might scout at Moby Dick as a monstrous fable , or still worse and more de\n",
      "th of Radney .'\" CHAPTER 55 Of the Monstrous Pictures of Whales . I shall ere l\n",
      "ing Scenes . In connexion with the monstrous pictures of whales , I am strongly\n",
      "ere to enter upon those still more monstrous stories of them which are to be fo\n",
      "ght have been rummaged out of this monstrous cabinet there is no telling . But \n",
      "of Whale - Bones ; for Whales of a monstrous size are oftentimes cast up dead u\n",
      "*** konkordacija sa sličnim pojmovima:\n",
      "true contemptible christian abundant few part mean careful puzzled\n",
      "mystifying passing curious loving wise doleful gamesome singular\n",
      "delightfully perilous fearless\n",
      "<Text: Sense and Sensibility by Jane Austen 1811>\n",
      "*** zajednički konteksti:\n",
      "am_glad a_pretty a_lucky is_pretty be_glad\n",
      "<Text: The Book of Genesis>\n",
      "*** položaj riječi u tekstu:\n"
     ]
    },
    {
     "data": {
      "image/png": "[encoded data removed]",
      "text/plain": [
       "<Figure size 432x288 with 1 Axes>"
      ]
     },
     "metadata": {
      "needs_background": "light"
     },
     "output_type": "display_data"
    },
    {
     "data": {
      "image/png": "[encoded data removed]",
      "text/plain": [
       "<Figure size 432x288 with 1 Axes>"
      ]
     },
     "metadata": {
      "needs_background": "light"
     },
     "output_type": "display_data"
    },
    {
     "data": {
      "text/plain": [
       "<AxesSubplot:xlabel='Samples', ylabel='Counts'>"
      ]
     },
     "execution_count": 337,
     "metadata": {},
     "output_type": "execute_result"
    }
   ],
   "source": [
    "# konkordancija\n",
    "print(text1)\n",
    "print('*** konkordacija:')\n",
    "text1.concordance('monstrous') # izlistaj kontekste s riječju 'monstrous'\n",
    "print('*** konkordacija sa sličnim pojmovima:')\n",
    "text1.similar('monstrous')  # pronađi slične kontekste riječju 'monstrous'\n",
    "\n",
    "\n",
    "print(text2)\n",
    "print(\"*** zajednički konteksti:\")\n",
    "text2.common_contexts([\"monstrous\", \"very\"]) # dijeljeni konteksti?\n",
    "\n",
    "\n",
    "print(text3)\n",
    "print(\"*** položaj riječi u tekstu:\")\n",
    "text3.dispersion_plot([\"God\", \"Adam\", \"LORD\", \"sin\", \"apple\"]) # kada se koja riječ pojavila\n",
    "fdist3 = FreqDist(text3) # izračunati frekvenciju riječi u tekstu\n",
    "fdist3.plot(10) # prikazati prvih 10 pojmova\n",
    "\n"
   ]
  },
  {
   "cell_type": "markdown",
   "metadata": {
    "slideshow": {
     "slide_type": "slide"
    }
   },
   "source": [
    "# NLTK korpusi \n",
    "Korpus predstavlja skup tekstova prirodnog govora popraćen lingvističkim metapodacima:\n",
    " * NLTK obuhvaća različit skup korpusa koji se mogu učitati koristeći `nltk.corpus` paket. Svakom korpusu se pristupa preko `corpus reader` objekta iz `nltk.corpus`. \n",
    " * Korpusi se sastoje od skupa datoteka (dokumenata) i njihovih identifikatora:\n",
    "     * `inaugural` - govori američkih predsjednika\n",
    "     * `Brown` - prvi korpus Brown sveučilišta od milijun riječi, 500 izvora (news, editorial, hobi, ...), označen i kategoriziran\n",
    "     * `Penn Treebank` korpus označen i parsiran\n",
    " * dohvaćanje podataka može biti preko riječi, rečenica, odlomaka, kategorija, ...\n",
    " \n"
   ]
  },
  {
   "cell_type": "code",
   "execution_count": 270,
   "metadata": {
    "collapsed": true,
    "jupyter": {
     "outputs_hidden": true
    },
    "slideshow": {
     "slide_type": "subslide"
    },
    "tags": []
   },
   "outputs": [
    {
     "data": {
      "text/plain": [
       "['adventure',\n",
       " 'belles_lettres',\n",
       " 'editorial',\n",
       " 'fiction',\n",
       " 'government',\n",
       " 'hobbies',\n",
       " 'humor',\n",
       " 'learned',\n",
       " 'lore',\n",
       " 'mystery',\n",
       " 'news',\n",
       " 'religion',\n",
       " 'reviews',\n",
       " 'romance',\n",
       " 'science_fiction']"
      ]
     },
     "execution_count": 270,
     "metadata": {},
     "output_type": "execute_result"
    },
    {
     "data": {
      "text/plain": [
       "['1789-Washington.txt',\n",
       " '1793-Washington.txt',\n",
       " '1797-Adams.txt',\n",
       " '1801-Jefferson.txt',\n",
       " '1805-Jefferson.txt',\n",
       " '1809-Madison.txt',\n",
       " '1813-Madison.txt',\n",
       " '1817-Monroe.txt',\n",
       " '1821-Monroe.txt',\n",
       " '1825-Adams.txt',\n",
       " '1829-Jackson.txt',\n",
       " '1833-Jackson.txt',\n",
       " '1837-VanBuren.txt',\n",
       " '1841-Harrison.txt',\n",
       " '1845-Polk.txt',\n",
       " '1849-Taylor.txt',\n",
       " '1853-Pierce.txt',\n",
       " '1857-Buchanan.txt',\n",
       " '1861-Lincoln.txt',\n",
       " '1865-Lincoln.txt',\n",
       " '1869-Grant.txt',\n",
       " '1873-Grant.txt',\n",
       " '1877-Hayes.txt',\n",
       " '1881-Garfield.txt',\n",
       " '1885-Cleveland.txt',\n",
       " '1889-Harrison.txt',\n",
       " '1893-Cleveland.txt',\n",
       " '1897-McKinley.txt',\n",
       " '1901-McKinley.txt',\n",
       " '1905-Roosevelt.txt',\n",
       " '1909-Taft.txt',\n",
       " '1913-Wilson.txt',\n",
       " '1917-Wilson.txt',\n",
       " '1921-Harding.txt',\n",
       " '1925-Coolidge.txt',\n",
       " '1929-Hoover.txt',\n",
       " '1933-Roosevelt.txt',\n",
       " '1937-Roosevelt.txt',\n",
       " '1941-Roosevelt.txt',\n",
       " '1945-Roosevelt.txt',\n",
       " '1949-Truman.txt',\n",
       " '1953-Eisenhower.txt',\n",
       " '1957-Eisenhower.txt',\n",
       " '1961-Kennedy.txt',\n",
       " '1965-Johnson.txt',\n",
       " '1969-Nixon.txt',\n",
       " '1973-Nixon.txt',\n",
       " '1977-Carter.txt',\n",
       " '1981-Reagan.txt',\n",
       " '1985-Reagan.txt',\n",
       " '1989-Bush.txt',\n",
       " '1993-Clinton.txt',\n",
       " '1997-Clinton.txt',\n",
       " '2001-Bush.txt',\n",
       " '2005-Bush.txt',\n",
       " '2009-Obama.txt',\n",
       " '2013-Obama.txt',\n",
       " '2017-Trump.txt',\n",
       " '2021-Biden.txt']"
      ]
     },
     "execution_count": 270,
     "metadata": {},
     "output_type": "execute_result"
    },
    {
     "data": {
      "text/plain": [
       "'Fellow-Citizens of the Senate and of the House of Representatives:\\n\\nAmong the vicissitudes incident to life no event could have filled me with greater anxieties than that of which the notification was transmitted by your order, and received on the 14th day of the present month. On the one hand, I was summoned by my Country, whose voice I can never hear but with veneration and love, from a retreat which I had chosen with the fondest predilection, and, in my flattering hopes, with an immutable decision, as the asylum of my declining years -- a retreat which was rendered every day more necessary as well as more dear to me by the addition of habit to inclination, and of frequent interruptions in my health to the gradual waste committed on it by time. On the other hand, the magnitude and difficulty of the trust to which the voice of my country called me, being sufficient to awaken in the wisest and most experienced of her citizens a distrustful scrutiny into his qualifications, could not but overwhelm with despondence one who (inheriting inferior endowments from nature and unpracticed in the duties of civil administration) ought to be peculiarly conscious of his own deficiencies. In this conflict of emotions all I dare aver is that it has been my faithful study to collect my duty from a just appreciation of every circumstance by which it might be affected. All I dare hope is that if, in executing this task, I have been too much swayed by a grateful remembrance of former instances, or by an affectionate sensibility to this transcendent proof of the confidence of my fellow citizens, and have thence too little consulted my incapacity as well as disinclination for the weighty and untried cares before me, my error will be palliated by the motives which mislead me, and its consequences be judged by my country with some share of the partiality in which they originated.\\n\\nSuch being the impressions under which I have, in obedience to the public summons, repaired to the present station, it would be peculiarly improper to omit in this first official act my fervent supplications to that Almighty Being who rules over the universe, who presides in the councils of nations, and whose providential aids can supply every human defect, that His benediction may consecrate to the liberties and happiness of the people of the United States a Government instituted by themselves for these essential purposes, and may enable every instrument employed in its administration to execute with success the functions allotted to his charge. In tendering this homage to the Great Author of every public and private good, I assure myself that it expresses your sentiments not less than my own, nor those of my fellow citizens at large less than either. No people can be bound to acknowledge and adore the Invisible Hand which conducts the affairs of men more than those of the United States. Every step by which they have advanced to the character of an independent nation seems to have been distinguished by some token of providential agency; and in the important revolution just accomplished in the system of their united government the tranquil deliberations and voluntary consent of so many distinct communities from which the event has resulted can not be compared with the means by which most governments have been established without some return of pious gratitude, along with an humble anticipation of the future blessings which the past seem to presage. These reflections, arising out of the present crisis, have forced themselves too strongly on my mind to be suppressed. You will join with me, I trust, in thinking that there are none under the influence of which the proceedings of a new and free government can more auspiciously commence.\\n\\nBy the article establishing the executive department it is made the duty of the President \"to recommend to your consideration such measures as he shall judge necessary and expedient.\" The circumstances under which I now meet you will acquit me from entering into that subject further than to refer to the great constitutional charter under which you are assembled, and which, in defining your powers, designates the objects to which your attention is to be given. It will be more consistent with those circumstances, and far more congenial with the feelings which actuate me, to substitute, in place of a recommendation of particular measures, the tribute that is due to the talents, the rectitude, and the patriotism which adorn the characters selected to devise and adopt them. In these honorable qualifications I behold the surest pledges that as on one side no local prejudices or attachments, no separate views nor party animosities, will misdirect the comprehensive and equal eye which ought to watch over this great assemblage of communities and interests, so, on another, that the foundation of our national policy will be laid in the pure and immutable principles of private morality, and the preeminence of free government be exemplified by all the attributes which can win the affections of its citizens and command the respect of the world. I dwell on this prospect with every satisfaction which an ardent love for my country can inspire, since there is no truth more thoroughly established than that there exists in the economy and course of nature an indissoluble union between virtue and happiness; between duty and advantage; between the genuine maxims of an honest and magnanimous policy and the solid rewards of public prosperity and felicity; since we ought to be no less persuaded that the propitious smiles of Heaven can never be expected on a nation that disregards the eternal rules of order and right which Heaven itself has ordained; and since the preservation of the sacred fire of liberty and the destiny of the republican model of government are justly considered, perhaps, as deeply, as finally, staked on the experiment entrusted to the hands of the American people.\\n\\nBesides the ordinary objects submitted to your care, it will remain with your judgment to decide how far an exercise of the occasional power delegated by the fifth article of the Constitution is rendered expedient at the present juncture by the nature of objections which have been urged against the system, or by the degree of inquietude which has given birth to them. Instead of undertaking particular recommendations on this subject, in which I could be guided by no lights derived from official opportunities, I shall again give way to my entire confidence in your discernment and pursuit of the public good; for I assure myself that whilst you carefully avoid every alteration which might endanger the benefits of an united and effective government, or which ought to await the future lessons of experience, a reverence for the characteristic rights of freemen and a regard for the public harmony will sufficiently influence your deliberations on the question how far the former can be impregnably fortified or the latter be safely and advantageously promoted.\\n\\nTo the foregoing observations I have one to add, which will be most properly addressed to the House of Representatives. It concerns myself, and will therefore be as brief as possible. When I was first honored with a call into the service of my country, then on the eve of an arduous struggle for its liberties, the light in which I contemplated my duty required that I should renounce every pecuniary compensation. From this resolution I have in no instance departed; and being still under the impressions which produced it, I must decline as inapplicable to myself any share in the personal emoluments which may be indispensably included in a permanent provision for the executive department, and must accordingly pray that the pecuniary estimates for the station in which I am placed may during my continuance in it be limited to such actual expenditures as the public good may be thought to require.\\n\\nHaving thus imparted to you my sentiments as they have been awakened by the occasion which brings us together, I shall take my present leave; but not without resorting once more to the benign Parent of the Human Race in humble supplication that, since He has been pleased to favor the American people with opportunities for deliberating in perfect tranquillity, and dispositions for deciding with unparalleled unanimity on a form of government for the security of their union and the advancement of their happiness, so His divine blessing may be equally conspicuous in the enlarged views, the temperate consultations, and the wise measures on which the success of this Government must depend. \\n'"
      ]
     },
     "execution_count": 270,
     "metadata": {},
     "output_type": "execute_result"
    },
    {
     "data": {
      "text/plain": [
       "['Fellow', '-', 'Citizens', 'of', 'the', 'Senate', ...]"
      ]
     },
     "execution_count": 270,
     "metadata": {},
     "output_type": "execute_result"
    },
    {
     "data": {
      "text/plain": [
       "[['Fellow', '-', 'Citizens', 'of', 'the', 'Senate', 'and', 'of', 'the', 'House', 'of', 'Representatives', ':'], ['Among', 'the', 'vicissitudes', 'incident', 'to', 'life', 'no', 'event', 'could', 'have', 'filled', 'me', 'with', 'greater', 'anxieties', 'than', 'that', 'of', 'which', 'the', 'notification', 'was', 'transmitted', 'by', 'your', 'order', ',', 'and', 'received', 'on', 'the', '14th', 'day', 'of', 'the', 'present', 'month', '.'], ...]"
      ]
     },
     "execution_count": 270,
     "metadata": {},
     "output_type": "execute_result"
    },
    {
     "data": {
      "text/plain": [
       "[[['Fellow', '-', 'Citizens', 'of', 'the', 'Senate', 'and', 'of', 'the', 'House', 'of', 'Representatives', ':']], [['Among', 'the', 'vicissitudes', 'incident', 'to', 'life', 'no', 'event', 'could', 'have', 'filled', 'me', 'with', 'greater', 'anxieties', 'than', 'that', 'of', 'which', 'the', 'notification', 'was', 'transmitted', 'by', 'your', 'order', ',', 'and', 'received', 'on', 'the', '14th', 'day', 'of', 'the', 'present', 'month', '.'], ['On', 'the', 'one', 'hand', ',', 'I', 'was', 'summoned', 'by', 'my', 'Country', ',', 'whose', 'voice', 'I', 'can', 'never', 'hear', 'but', 'with', 'veneration', 'and', 'love', ',', 'from', 'a', 'retreat', 'which', 'I', 'had', 'chosen', 'with', 'the', 'fondest', 'predilection', ',', 'and', ',', 'in', 'my', 'flattering', 'hopes', ',', 'with', 'an', 'immutable', 'decision', ',', 'as', 'the', 'asylum', 'of', 'my', 'declining', 'years', '--', 'a', 'retreat', 'which', 'was', 'rendered', 'every', 'day', 'more', 'necessary', 'as', 'well', 'as', 'more', 'dear', 'to', 'me', 'by', 'the', 'addition', 'of', 'habit', 'to', 'inclination', ',', 'and', 'of', 'frequent', 'interruptions', 'in', 'my', 'health', 'to', 'the', 'gradual', 'waste', 'committed', 'on', 'it', 'by', 'time', '.'], ['On', 'the', 'other', 'hand', ',', 'the', 'magnitude', 'and', 'difficulty', 'of', 'the', 'trust', 'to', 'which', 'the', 'voice', 'of', 'my', 'country', 'called', 'me', ',', 'being', 'sufficient', 'to', 'awaken', 'in', 'the', 'wisest', 'and', 'most', 'experienced', 'of', 'her', 'citizens', 'a', 'distrustful', 'scrutiny', 'into', 'his', 'qualifications', ',', 'could', 'not', 'but', 'overwhelm', 'with', 'despondence', 'one', 'who', '(', 'inheriting', 'inferior', 'endowments', 'from', 'nature', 'and', 'unpracticed', 'in', 'the', 'duties', 'of', 'civil', 'administration', ')', 'ought', 'to', 'be', 'peculiarly', 'conscious', 'of', 'his', 'own', 'deficiencies', '.'], ['In', 'this', 'conflict', 'of', 'emotions', 'all', 'I', 'dare', 'aver', 'is', 'that', 'it', 'has', 'been', 'my', 'faithful', 'study', 'to', 'collect', 'my', 'duty', 'from', 'a', 'just', 'appreciation', 'of', 'every', 'circumstance', 'by', 'which', 'it', 'might', 'be', 'affected', '.'], ['All', 'I', 'dare', 'hope', 'is', 'that', 'if', ',', 'in', 'executing', 'this', 'task', ',', 'I', 'have', 'been', 'too', 'much', 'swayed', 'by', 'a', 'grateful', 'remembrance', 'of', 'former', 'instances', ',', 'or', 'by', 'an', 'affectionate', 'sensibility', 'to', 'this', 'transcendent', 'proof', 'of', 'the', 'confidence', 'of', 'my', 'fellow', 'citizens', ',', 'and', 'have', 'thence', 'too', 'little', 'consulted', 'my', 'incapacity', 'as', 'well', 'as', 'disinclination', 'for', 'the', 'weighty', 'and', 'untried', 'cares', 'before', 'me', ',', 'my', 'error', 'will', 'be', 'palliated', 'by', 'the', 'motives', 'which', 'mislead', 'me', ',', 'and', 'its', 'consequences', 'be', 'judged', 'by', 'my', 'country', 'with', 'some', 'share', 'of', 'the', 'partiality', 'in', 'which', 'they', 'originated', '.']], ...]"
      ]
     },
     "execution_count": 270,
     "metadata": {},
     "output_type": "execute_result"
    }
   ],
   "source": [
    "from nltk.corpus import brown\n",
    "brown.categories()\n",
    "\n",
    "from nltk.corpus import inaugural\n",
    "# popis datoteka\n",
    "inaugural.fileids()\n",
    "\n",
    "# jedan od tekstova\n",
    "WashSpeach = '1789-Washington.txt' \n",
    "inaugural.raw(WashSpeach)\n",
    "# tokenzizacija po rijecima\n",
    "inaugural.words(WashSpeach) # lista\n",
    "# tokenizacija po recenicima (+rijeci)\n",
    "inaugural.sents(WashSpeach) # lisra listi\n",
    "# tokenizacija po odjeljcima (+rijeci)\n",
    "inaugural.paras(WashSpeach)\n",
    "\n"
   ]
  },
  {
   "cell_type": "markdown",
   "metadata": {
    "slideshow": {
     "slide_type": "slide"
    }
   },
   "source": [
    "# NLTK fokus?\n",
    "Danas obrađujemo:\n",
    " 1. raščlamba odlomaka u rečenice\n",
    " 2. proces dijeljenja niza riječi i znakova interpunkcije u listu dijelova -- engl. _tokenization_ \n",
    " 3. Pridruživanje oznake riječima -- engl. tagging\n",
    " \n",
    "\n",
    "![Koraci sintaksne obrade](NLTK.png \"Koraci sintaksne obrade\")"
   ]
  },
  {
   "cell_type": "markdown",
   "metadata": {
    "slideshow": {
     "slide_type": "slide"
    }
   },
   "source": [
    "# Raščlambe (engl. tokenization)\n",
    "* različite vrste tokenizacije koje mogu ovisiti o jeziku\n",
    "* rečenične, riječne i regex raščlambe \n",
    "* funkcionalnosti dostupne u paketu `nltk.tokenize`"
   ]
  },
  {
   "cell_type": "code",
   "execution_count": 271,
   "metadata": {
    "slideshow": {
     "slide_type": "subslide"
    }
   },
   "outputs": [
    {
     "data": {
      "text/plain": [
       "['Hello World.', \"It's good to see you.\", 'Thanks for buying this book.']"
      ]
     },
     "execution_count": 271,
     "metadata": {},
     "output_type": "execute_result"
    },
    {
     "data": {
      "text/plain": [
       "['Hola amigo.', 'Estoy bien.']"
      ]
     },
     "execution_count": 271,
     "metadata": {},
     "output_type": "execute_result"
    },
    {
     "data": {
      "text/plain": [
       "['Hello World.', \"It's good to see you.\", 'Thanks for buying this book.']"
      ]
     },
     "execution_count": 271,
     "metadata": {},
     "output_type": "execute_result"
    },
    {
     "data": {
      "text/plain": [
       "['Hola amigo.', 'Estoy bien.']"
      ]
     },
     "execution_count": 271,
     "metadata": {},
     "output_type": "execute_result"
    },
    {
     "data": {
      "text/plain": [
       "['Hello',\n",
       " 'World',\n",
       " '.',\n",
       " 'It',\n",
       " \"'s\",\n",
       " 'good',\n",
       " 'to',\n",
       " 'see',\n",
       " 'you',\n",
       " '.',\n",
       " 'Thanks',\n",
       " 'for',\n",
       " 'buying',\n",
       " 'this',\n",
       " 'book',\n",
       " '.']"
      ]
     },
     "execution_count": 271,
     "metadata": {},
     "output_type": "execute_result"
    },
    {
     "data": {
      "text/plain": [
       "['Can', \"'\", 't', 'is', 'a', 'contraction', '.']"
      ]
     },
     "execution_count": 271,
     "metadata": {},
     "output_type": "execute_result"
    },
    {
     "data": {
      "text/plain": [
       "['Ca', \"n't\", 'is', 'a', 'contraction', '.']"
      ]
     },
     "execution_count": 271,
     "metadata": {},
     "output_type": "execute_result"
    },
    {
     "data": {
      "text/plain": [
       "[\"Can't\", 'is', 'a', 'contraction']"
      ]
     },
     "execution_count": 271,
     "metadata": {},
     "output_type": "execute_result"
    },
    {
     "data": {
      "text/plain": [
       "[\"Can't\", 'is', 'a', 'contraction']"
      ]
     },
     "execution_count": 271,
     "metadata": {},
     "output_type": "execute_result"
    }
   ],
   "source": [
    "# neki specificni dijelovi NLTK se moraju preuzeti naknadno ...\n",
    "# python3 -m mltk.downloader punkt \n",
    "import nltk\n",
    "# prije toga u terminalu povuci korpus za tokenizaciju imenom 'punkt'\n",
    "# nltk.download()  # upisati 'punkt'\n",
    "sentenceEN = \"Hello World. It's good to see you. Thanks for buying this book.\"\n",
    "sentenceSP = \"Hola amigo. Estoy bien.\"\n",
    "\n",
    "# recenicna tokenizacija\n",
    "from nltk.tokenize import sent_tokenize\n",
    "sent_tokenize(sentenceEN);\n",
    "sent_tokenize(sentenceSP);\n",
    "\n",
    "# sto je ekvivalentno s ...\n",
    "# tokenizacija za ENG jezik\n",
    "english_tokenizer = nltk.data.load('tokenizers/punkt/english.pickle')\n",
    "english_tokenizer.tokenize(sentenceEN);\n",
    "\n",
    "\n",
    "# tokenizacija za SPA jezik\n",
    "spanish_tokenizer = nltk.data.load('tokenizers/punkt/spanish.pickle')\n",
    "spanish_tokenizer.tokenize(sentenceSP);\n",
    "\n",
    "# rijecna tokenizacija\n",
    "from nltk.tokenize import word_tokenize\n",
    "word_tokenize(sentenceEN);\n",
    "\n",
    "# mogu li se koristiti razliciti rastavljaci?\n",
    "# WordPunctTokenizer\n",
    "from nltk.tokenize import WordPunctTokenizer\n",
    "tokenizer = WordPunctTokenizer()\n",
    "tokenizer.tokenize(\"Can't is a contraction.\")\n",
    "\n",
    "# TreeBank\n",
    "from nltk.tokenize import TreebankWordTokenizer\n",
    "tokenizer = TreebankWordTokenizer()\n",
    "tokenizer.tokenize(\"Can't is a contraction.\")\n",
    "\n",
    "# RegexTokenizer \n",
    "from nltk.tokenize import RegexpTokenizer\n",
    "tokenizer = RegexpTokenizer(\"[\\w']+\")\n",
    "tokenizer.tokenize(\"Can't is a contraction.\")                                     \n",
    "\n",
    "# ili skraceno:\n",
    "from nltk.tokenize import regexp_tokenize\n",
    "regexp_tokenize(\"Can't is a contraction.\",\"[\\w']+\")\n",
    "\n",
    "\n"
   ]
  },
  {
   "cell_type": "code",
   "execution_count": 275,
   "metadata": {
    "slideshow": {
     "slide_type": "subslide"
    }
   },
   "outputs": [
    {
     "data": {
      "text/plain": [
       "[\"Can't\", 'contraction.']"
      ]
     },
     "execution_count": 275,
     "metadata": {},
     "output_type": "execute_result"
    },
    {
     "name": "stdout",
     "output_type": "stream",
     "text": [
      "sent1 = \n",
      " Girl: But you already have a Big Mac...\n",
      "sent2 = \n",
      " Girl: But you already have a Big Mac...\n",
      "Hobo: Oh, this is all theatrical.\n"
     ]
    }
   ],
   "source": [
    "# stopwords - otkrivanje uobicajenih rijeci (rijeci koje ne pridonose značenju rečenice)\n",
    "from nltk.tokenize import word_tokenize\n",
    "from nltk.corpus import stopwords\n",
    "english_stops = set(stopwords.words('english')) # stopwords in eng. jezika\n",
    "words = \"Can't is a contraction.\".split(' ')\n",
    "non_english_stops = [word for word in words if word not in english_stops]\n",
    "non_english_stops\n",
    "\n",
    "# izvlacenje specificne recenice\n",
    "from nltk.tokenize import PunktSentenceTokenizer\n",
    "from nltk.corpus import webtext\n",
    "text = webtext.raw('overheard.txt')\n",
    "# ML temeljen algoritam za prepoznavanje završetaka recenica: prepoznaje trotocje kao zavrsetak recenice\n",
    "sent_tokenizer = PunktSentenceTokenizer(text)\n",
    "sents1 = sent_tokenizer.tokenize(text)\n",
    "# standardni pristup\n",
    "from nltk.tokenize import sent_tokenize\n",
    "sents2 = sent_tokenize(text)\n",
    "\n",
    "print('sent1 = \\n\\r', sents1[678])\n",
    "print('sent2 = \\n\\r', sents2[678])"
   ]
  },
  {
   "cell_type": "markdown",
   "metadata": {
    "slideshow": {
     "slide_type": "slide"
    }
   },
   "source": [
    "# Korjenovanje  (engl. stemming )\n",
    "Tehnika odstranjivanja afiksa iz riječi, tako da ostane samo korijen. Nekoliko _stemming_ algoritama podržano u NLTK paketu `nltk.stem`:\n",
    "* _Porter Stemmer algoritam_ - uklanja sufikse i određuje korjene engleskih riječi\n",
    "* _Lancaster stemming algoritam_ - Lancester University korjenovatelj algoritam\n",
    "* _Snowball stemmer_  - korjenovatelj s primjenom na druge jezike \n",
    "* vlastito defininirani regex temeljeni korjenovatelj\n",
    "\n"
   ]
  },
  {
   "cell_type": "code",
   "execution_count": 276,
   "metadata": {
    "slideshow": {
     "slide_type": "slide"
    }
   },
   "outputs": [
    {
     "data": {
      "text/plain": [
       "'cook'"
      ]
     },
     "execution_count": 276,
     "metadata": {},
     "output_type": "execute_result"
    },
    {
     "data": {
      "text/plain": [
       "'cookeri'"
      ]
     },
     "execution_count": 276,
     "metadata": {},
     "output_type": "execute_result"
    },
    {
     "data": {
      "text/plain": [
       "'cook'"
      ]
     },
     "execution_count": 276,
     "metadata": {},
     "output_type": "execute_result"
    },
    {
     "data": {
      "text/plain": [
       "'cookery'"
      ]
     },
     "execution_count": 276,
     "metadata": {},
     "output_type": "execute_result"
    },
    {
     "data": {
      "text/plain": [
       "'cook'"
      ]
     },
     "execution_count": 276,
     "metadata": {},
     "output_type": "execute_result"
    },
    {
     "data": {
      "text/plain": [
       "'cookery'"
      ]
     },
     "execution_count": 276,
     "metadata": {},
     "output_type": "execute_result"
    },
    {
     "data": {
      "text/plain": [
       "'leside'"
      ]
     },
     "execution_count": 276,
     "metadata": {},
     "output_type": "execute_result"
    },
    {
     "data": {
      "text/plain": [
       "('arabic',\n",
       " 'danish',\n",
       " 'dutch',\n",
       " 'english',\n",
       " 'finnish',\n",
       " 'french',\n",
       " 'german',\n",
       " 'hungarian',\n",
       " 'italian',\n",
       " 'norwegian',\n",
       " 'porter',\n",
       " 'portuguese',\n",
       " 'romanian',\n",
       " 'russian',\n",
       " 'spanish',\n",
       " 'swedish')"
      ]
     },
     "execution_count": 276,
     "metadata": {},
     "output_type": "execute_result"
    }
   ],
   "source": [
    "# Porter stemmer\n",
    "from nltk.stem import PorterStemmer\n",
    "stemmer = PorterStemmer()\n",
    "stemmer.stem('cooking')\n",
    "stemmer.stem('cookery')\n",
    "# Lancaster stemmer\n",
    "from nltk.stem import LancasterStemmer\n",
    "stemmer = LancasterStemmer()\n",
    "stemmer.stem('cooking')\n",
    "stemmer.stem('cookery')\n",
    "# regex stemmer\n",
    "from nltk.stem import RegexpStemmer\n",
    "stemmer = RegexpStemmer('ing') # zamjeniti s 'ing$'\n",
    "stemmer.stem('cooking')\n",
    "stemmer.stem('cookery')\n",
    "stemmer.stem('ingleside') # kako ovo ispraviti?\n",
    "from nltk.stem import SnowballStemmer\n",
    "# podrzani jezici u SnowvallStemmer\n",
    "SnowballStemmer.languages\n"
   ]
  },
  {
   "cell_type": "markdown",
   "metadata": {
    "slideshow": {
     "slide_type": "slide"
    }
   },
   "source": [
    "# Lematizacija (engl. lemmatization)\n",
    "* _lema_ ili _leksem_ = kanonski oblik riječi\n",
    "* _morf_ = korijen riječi\n",
    "* Postupak sličan korjenovanju, teži utvrđivanju leme riječi"
   ]
  },
  {
   "cell_type": "code",
   "execution_count": 277,
   "metadata": {
    "slideshow": {
     "slide_type": "subslide"
    }
   },
   "outputs": [
    {
     "data": {
      "text/plain": [
       "'cooking'"
      ]
     },
     "execution_count": 277,
     "metadata": {},
     "output_type": "execute_result"
    },
    {
     "data": {
      "text/plain": [
       "'cook'"
      ]
     },
     "execution_count": 277,
     "metadata": {},
     "output_type": "execute_result"
    },
    {
     "data": {
      "text/plain": [
       "'cookbook'"
      ]
     },
     "execution_count": 277,
     "metadata": {},
     "output_type": "execute_result"
    },
    {
     "data": {
      "text/plain": [
       "'believ'"
      ]
     },
     "execution_count": 277,
     "metadata": {},
     "output_type": "execute_result"
    },
    {
     "data": {
      "text/plain": [
       "'belief'"
      ]
     },
     "execution_count": 277,
     "metadata": {},
     "output_type": "execute_result"
    },
    {
     "data": {
      "text/plain": [
       "'buse'"
      ]
     },
     "execution_count": 277,
     "metadata": {},
     "output_type": "execute_result"
    },
    {
     "data": {
      "text/plain": [
       "'bus'"
      ]
     },
     "execution_count": 277,
     "metadata": {},
     "output_type": "execute_result"
    },
    {
     "data": {
      "text/plain": [
       "'bu'"
      ]
     },
     "execution_count": 277,
     "metadata": {},
     "output_type": "execute_result"
    },
    {
     "data": {
      "text/plain": [
       "'bus'"
      ]
     },
     "execution_count": 277,
     "metadata": {},
     "output_type": "execute_result"
    }
   ],
   "source": [
    "from nltk.stem import WordNetLemmatizer\n",
    "lemmatizer = WordNetLemmatizer()\n",
    "lemmatizer.lemmatize('cooking')  # glagolska imenica\n",
    "lemmatizer.lemmatize('cooking',pos='v') # naglasavamo da je rijec 'verb'=glagol\n",
    "lemmatizer.lemmatize('cookbooks') # lema od množine 'kuharice' \n",
    "\n",
    "# usporedimo korjenovatelj s lematizatorom\n",
    "from nltk.stem import PorterStemmer\n",
    "stemmer = PorterStemmer()\n",
    "stemmer.stem('believes')\n",
    "lemmatizer.lemmatize('believes')\n",
    "stemmer.stem('buses')\n",
    "lemmatizer.lemmatize('buses')\n",
    "stemmer.stem('bus')\n",
    "lemmatizer.lemmatize('bus')"
   ]
  },
  {
   "cell_type": "markdown",
   "metadata": {
    "slideshow": {
     "slide_type": "slide"
    }
   },
   "source": [
    "Za HR jezik: [Agić et al.: Morphosyntactic tagging and lemmatization](http://nlp.ffzg.hr/resources/models/tagging/) trenirani model na CST lematizatoru prema  \n",
    " > Jongejan, Bart and Dalianis, Hercules: Automatic training of lemmatization rules that handle morphological changes in pre-, in- and suffixes alike. In Proceedings of the Joint Conference of the 47th Annual Meeting of the ACL and the 4th International Joint Conference on Natural Language Processing of the AFNLP. Suntec, Singapore : Association for Computational Linguistics, 2009. s. 145-153.\n",
    "    \n",
    "CST lematizator je C++ kojeg eksterno pozivamo:"
   ]
  },
  {
   "cell_type": "code",
   "execution_count": 278,
   "metadata": {},
   "outputs": [
    {
     "name": "stdout",
     "output_type": "stream",
     "text": [
      "Overwriting test.txt\n"
     ]
    }
   ],
   "source": [
    "%%writefile test.txt\n",
    "vjerujemo u iste stvari"
   ]
  },
  {
   "cell_type": "code",
   "execution_count": 279,
   "metadata": {},
   "outputs": [
    {
     "name": "stdout",
     "output_type": "stream",
     "text": [
      "vjerujemo\tvjerovati\n",
      "u\tok\n",
      "iste\tisti\n",
      "stvari\tstvarin\n",
      "\n"
     ]
    }
   ],
   "source": [
    "import subprocess\n",
    "\n",
    "model = 'lemmatizer/models/setimes.hr.v1.2.manual.cstpats'\n",
    "input = 'test.txt'\n",
    "\n",
    "  \n",
    "args = ['lemmatizer/cstlemma', '-f',model,'-i',input]\n",
    "proc = subprocess.run(args,encoding='utf-8', stdout=subprocess.PIPE)\n",
    "for line in proc.stdout.split('\\n'):\n",
    "    print(line)\n"
   ]
  },
  {
   "cell_type": "markdown",
   "metadata": {
    "slideshow": {
     "slide_type": "slide"
    }
   },
   "source": [
    "# N-gramski jezični model"
   ]
  },
  {
   "cell_type": "code",
   "execution_count": 338,
   "metadata": {
    "slideshow": {
     "slide_type": "subslide"
    }
   },
   "outputs": [],
   "source": [
    "import nltk\n",
    "from nltk.corpus import PlaintextCorpusReader\n",
    "from nltk.tokenize import sent_tokenize\n",
    "from nltk.lm.preprocessing import pad_both_ends, flatten, padded_everygram_pipeline\n",
    "from nltk.util import bigrams, ngrams\n",
    "from nltk.lm import MLE, Laplace, Vocabulary\n",
    "import nltk.lm as lm\n",
    "import random\n",
    "import re"
   ]
  },
  {
   "cell_type": "code",
   "execution_count": 339,
   "metadata": {
    "slideshow": {
     "slide_type": "subslide"
    }
   },
   "outputs": [],
   "source": [
    "text =  [['a', 'b', 'c'], ['a', 'c', 'd', 'c', 'e', 'f']]"
   ]
  },
  {
   "cell_type": "code",
   "execution_count": 340,
   "metadata": {
    "slideshow": {
     "slide_type": "fragment"
    },
    "tags": []
   },
   "outputs": [
    {
     "data": {
      "text/plain": [
       "[('a', 'b'), ('b', 'c')]"
      ]
     },
     "execution_count": 340,
     "metadata": {},
     "output_type": "execute_result"
    },
    {
     "data": {
      "text/plain": [
       "[[('a', 'b', 'c')],\n",
       " [('a', 'c', 'd'), ('c', 'd', 'c'), ('d', 'c', 'e'), ('c', 'e', 'f')]]"
      ]
     },
     "execution_count": 340,
     "metadata": {},
     "output_type": "execute_result"
    }
   ],
   "source": [
    "from nltk.util import bigrams, ngrams\n",
    "list(bigrams(text[0]))\n",
    "[list(ngrams(sent,n=3)) for sent in text]"
   ]
  },
  {
   "cell_type": "code",
   "execution_count": 341,
   "metadata": {
    "slideshow": {
     "slide_type": "subslide"
    }
   },
   "outputs": [
    {
     "data": {
      "text/plain": [
       "['<s>', 'a', 'b', 'c', '</s>']"
      ]
     },
     "execution_count": 341,
     "metadata": {},
     "output_type": "execute_result"
    }
   ],
   "source": [
    "from nltk.util import pad_sequence\n",
    "list(pad_sequence(text[0],\n",
    "    pad_left=True,\n",
    "    left_pad_symbol=\"<s>\",\n",
    "    pad_right=True,\n",
    "    right_pad_symbol=\"</s>\",\n",
    "n=2))"
   ]
  },
  {
   "cell_type": "code",
   "execution_count": 342,
   "metadata": {
    "slideshow": {
     "slide_type": "subslide"
    }
   },
   "outputs": [
    {
     "data": {
      "text/plain": [
       "[('<s>', 'a'), ('a', 'b'), ('b', 'c'), ('c', '</s>')]"
      ]
     },
     "execution_count": 342,
     "metadata": {},
     "output_type": "execute_result"
    }
   ],
   "source": [
    " list(bigrams(pad_both_ends(text[0], n=2)))"
   ]
  },
  {
   "cell_type": "markdown",
   "metadata": {
    "slideshow": {
     "slide_type": "subslide"
    }
   },
   "source": [
    "Za model nam  je potreban skup svih tokena kao vokabular."
   ]
  },
  {
   "cell_type": "code",
   "execution_count": 343,
   "metadata": {
    "slideshow": {
     "slide_type": "fragment"
    }
   },
   "outputs": [
    {
     "data": {
      "text/plain": [
       "['<s>', 'a', 'b', 'c', '</s>', '<s>', 'a', 'c', 'd', 'c', 'e', 'f', '</s>']"
      ]
     },
     "execution_count": 343,
     "metadata": {},
     "output_type": "execute_result"
    }
   ],
   "source": [
    "from nltk.lm.preprocessing import flatten\n",
    "vocab = list(flatten(pad_both_ends(sent, n=2) for sent in text))\n",
    "vocab"
   ]
  },
  {
   "cell_type": "code",
   "execution_count": 344,
   "metadata": {
    "slideshow": {
     "slide_type": "subslide"
    }
   },
   "outputs": [
    {
     "name": "stdout",
     "output_type": "stream",
     "text": [
      "text [['a', 'b', 'c'], ['a', 'c', 'd', 'c', 'e', 'f']]\n",
      "train [('<s>',), ('<s>', 'a'), ('a',), ('a', 'b'), ('b',), ('b', 'c'), ('c',), ('c', '</s>'), ('</s>',)]\n",
      "vocab ['<s>', 'a', 'b', 'c', '</s>', '<s>', 'a', 'c', 'd', 'c', 'e', 'f', '</s>']\n"
     ]
    }
   ],
   "source": [
    "from nltk.lm.preprocessing import padded_everygram_pipeline\n",
    "\n",
    "\n",
    "train, vocab = padded_everygram_pipeline(2, text)\n",
    "#train = [list(ngrams(pad_both_ends(sent, n=2),2)) for sent in text]\n",
    "#vocab = list(flatten(pad_both_ends(sent, n=2) for sent in text))\n",
    "\n",
    "print('text',text)\n",
    "# koristimo pipeline u kojem su train i vocab generatori\n",
    "print('train',list(list(train)[0]))\n",
    "print('vocab',list(vocab))\n",
    "\n",
    "\n",
    "\n"
   ]
  },
  {
   "cell_type": "code",
   "execution_count": 345,
   "metadata": {
    "slideshow": {
     "slide_type": "subslide"
    }
   },
   "outputs": [
    {
     "data": {
      "text/plain": [
       "0"
      ]
     },
     "execution_count": 345,
     "metadata": {},
     "output_type": "execute_result"
    },
    {
     "data": {
      "text/plain": [
       "9"
      ]
     },
     "execution_count": 345,
     "metadata": {},
     "output_type": "execute_result"
    },
    {
     "data": {
      "text/plain": [
       "('a', 'b', 'c')"
      ]
     },
     "execution_count": 345,
     "metadata": {},
     "output_type": "execute_result"
    },
    {
     "name": "stdout",
     "output_type": "stream",
     "text": [
      "<NgramCounter with 2 ngram orders and 33 ngrams>\n"
     ]
    },
    {
     "data": {
      "text/plain": [
       "3"
      ]
     },
     "execution_count": 345,
     "metadata": {},
     "output_type": "execute_result"
    },
    {
     "data": {
      "text/plain": [
       "1"
      ]
     },
     "execution_count": 345,
     "metadata": {},
     "output_type": "execute_result"
    },
    {
     "data": {
      "text/plain": [
       "0.16666666666666666"
      ]
     },
     "execution_count": 345,
     "metadata": {},
     "output_type": "execute_result"
    },
    {
     "data": {
      "text/plain": [
       "0.3333333333333333"
      ]
     },
     "execution_count": 345,
     "metadata": {},
     "output_type": "execute_result"
    },
    {
     "data": {
      "text/plain": [
       "1.5849625007211563"
      ]
     },
     "execution_count": 345,
     "metadata": {},
     "output_type": "execute_result"
    },
    {
     "data": {
      "text/plain": [
       "3.0000000000000004"
      ]
     },
     "execution_count": 345,
     "metadata": {},
     "output_type": "execute_result"
    }
   ],
   "source": [
    "text = [['a', 'b', 'c'], ['a', 'c', 'd', 'c', 'e', 'f'],['a','f','e']]\n",
    "test = [('a', 'b'), ('c', 'd')]\n",
    "\n",
    "from nltk.lm.preprocessing import padded_everygram_pipeline\n",
    "train, vocab = padded_everygram_pipeline(2, text)\n",
    "\n",
    "\n",
    "from nltk.lm import MLE\n",
    "lm = MLE(2)\n",
    "len(lm.vocab)\n",
    "\n",
    "lm.fit(train, vocab)\n",
    "len(lm.vocab)\n",
    "\n",
    "lm.vocab.lookup(text[0])\n",
    "print(lm.counts)\n",
    "\n",
    "# koliko puta se pojavilo 'a'\n",
    "lm.counts['a']\n",
    "\n",
    "# koliko se pouta pojavilo 'a b' kao bigram\n",
    "lm.counts[['a']]['b']\n",
    "\n",
    "# vjerojatnost pridružena modelom \n",
    "lm.score('a')\n",
    "\n",
    "# koliko puta se pojavio 'b' nakon 'a' kao bigram\n",
    "lm.score(\"b\", [\"a\"])\n",
    "\n",
    "lm.entropy(test)\n",
    "lm.perplexity(test)"
   ]
  },
  {
   "cell_type": "markdown",
   "metadata": {
    "slideshow": {
     "slide_type": "slide"
    }
   },
   "source": [
    "## Primjer s korpusom teksta"
   ]
  },
  {
   "cell_type": "code",
   "execution_count": 318,
   "metadata": {
    "slideshow": {
     "slide_type": "subslide"
    }
   },
   "outputs": [],
   "source": [
    "def prepare(corpora,split=0.7):    \n",
    "    dataset = open(corpora,'r').read()\n",
    "    #dataset = re.sub('\\n',dataset,'.')\n",
    "    sents = nltk.tokenize.sent_tokenize(dataset)\n",
    "    #pdb.set_trace()\n",
    "    random.shuffle(sents)\n",
    "    index = random.randint(0, int(split*len(sents)))\n",
    "    trainset, testset = sents[index:], sents[:index]\n",
    "    \n",
    "    # store training set\n",
    "    with open('data/train.txt','w') as train:\n",
    "        for sent in trainset:\n",
    "            train.write(sent)\n",
    "            train.write('\\n')\n",
    "        \n",
    "    # store test set\n",
    "    with open('data/test.txt','w') as test:\n",
    "        for sent in testset: \n",
    "            test.write(sent)\n",
    "            test.write('\\n')"
   ]
  },
  {
   "cell_type": "code",
   "execution_count": 319,
   "metadata": {
    "slideshow": {
     "slide_type": "subslide"
    }
   },
   "outputs": [],
   "source": [
    "prepare('data/lektira/werther.txt')"
   ]
  },
  {
   "cell_type": "code",
   "execution_count": 346,
   "metadata": {
    "slideshow": {
     "slide_type": "fragment"
    }
   },
   "outputs": [
    {
     "data": {
      "text/plain": [
       "[['Rado', 'ti', 'priznajem', '(', 'jer', 'znam', 'što', 'bi', 'mi', 'rekao', 'na', 'to', ')', 'da', 'su', 'najsretniji', 'oni', 'koji', ',', 'kao', 'djeca', ',', 'žive', 'od', 'dana', 'u', 'dan', ',', 'vuku', 'sa', 'sobom', 'svoje', 'lutke', ',', 'svlače', 'ih', 'i', 'oblače', 'i', 's', 'velikim', 'se', 'respektom', 'kradu', 'oko', 'ladice', 'u', 'koju', 'je', 'mamica', 'zaključala', 'slatkiš', ',', 'a', 'kad', 'napokon', 'ujagme', 'ono', 'što', 'žele', ',', 'gutaju', 'punim', 'ustima', 'i', 'viču', ':', 'Još', '!'], ['*'], ...]"
      ]
     },
     "execution_count": 346,
     "metadata": {},
     "output_type": "execute_result"
    }
   ],
   "source": [
    "PlaintextCorpusReader('data/','train.txt').sents()\n"
   ]
  },
  {
   "cell_type": "code",
   "execution_count": 347,
   "metadata": {
    "slideshow": {
     "slide_type": "fragment"
    }
   },
   "outputs": [
    {
     "data": {
      "text/plain": [
       "[['Povučem', 'ih', 'nazad', 'kao', 'od', 'vatre', ',', 'a', 'neka', 'tajna', 'sila', 'vuče', 'me', 'opet', 'naprijed', '—', 'nesvjestica', 'me', 'spopada', 'u', 'svim', 'ćutilima', '.'], ['A', 'zašto', 'ne', 'bi', '?'], ...]"
      ]
     },
     "execution_count": 347,
     "metadata": {},
     "output_type": "execute_result"
    }
   ],
   "source": [
    "PlaintextCorpusReader('data/','test.txt').sents()\n"
   ]
  },
  {
   "cell_type": "code",
   "execution_count": 352,
   "metadata": {
    "slideshow": {
     "slide_type": "subslide"
    }
   },
   "outputs": [],
   "source": [
    "train_set = PlaintextCorpusReader('data/','train.txt').sents()\n",
    "test_set  = PlaintextCorpusReader('data/','test.txt').sents()\n",
    "\n",
    "# ngrams\n",
    "nn = 2\n",
    "       \n",
    "# normaliziraj tokene\n",
    "train_set = [[token.lower() for token in sent] for sent in train_set ]\n",
    "test_set  =  [[token.lower() for token in sent] for sent in test_set ]\n",
    "\n",
    "test = [list(ngrams(sent,nn)) for sent in test_set][0]\n",
    "\n",
    "\n",
    "from nltk.lm.preprocessing import padded_everygram_pipeline\n",
    "train, vocab = padded_everygram_pipeline(nn, train_set)\n",
    "\n",
    "\n"
   ]
  },
  {
   "cell_type": "code",
   "execution_count": 349,
   "metadata": {
    "slideshow": {
     "slide_type": "subslide"
    },
    "tags": []
   },
   "outputs": [
    {
     "data": {
      "text/plain": [
       "['rado',\n",
       " 'ti',\n",
       " 'priznajem',\n",
       " '(',\n",
       " 'jer',\n",
       " 'znam',\n",
       " 'što',\n",
       " 'bi',\n",
       " 'mi',\n",
       " 'rekao',\n",
       " 'na',\n",
       " 'to',\n",
       " ')',\n",
       " 'da',\n",
       " 'su',\n",
       " 'najsretniji',\n",
       " 'oni',\n",
       " 'koji',\n",
       " ',',\n",
       " 'kao',\n",
       " 'djeca',\n",
       " ',',\n",
       " 'žive',\n",
       " 'od',\n",
       " 'dana',\n",
       " 'u',\n",
       " 'dan',\n",
       " ',',\n",
       " 'vuku',\n",
       " 'sa',\n",
       " 'sobom',\n",
       " 'svoje',\n",
       " 'lutke',\n",
       " ',',\n",
       " 'svlače',\n",
       " 'ih',\n",
       " 'i',\n",
       " 'oblače',\n",
       " 'i',\n",
       " 's',\n",
       " 'velikim',\n",
       " 'se',\n",
       " 'respektom',\n",
       " 'kradu',\n",
       " 'oko',\n",
       " 'ladice',\n",
       " 'u',\n",
       " 'koju',\n",
       " 'je',\n",
       " 'mamica',\n",
       " 'zaključala',\n",
       " 'slatkiš',\n",
       " ',',\n",
       " 'a',\n",
       " 'kad',\n",
       " 'napokon',\n",
       " 'ujagme',\n",
       " 'ono',\n",
       " 'što',\n",
       " 'žele',\n",
       " ',',\n",
       " 'gutaju',\n",
       " 'punim',\n",
       " 'ustima',\n",
       " 'i',\n",
       " 'viču',\n",
       " ':',\n",
       " 'još',\n",
       " '!']"
      ]
     },
     "execution_count": 349,
     "metadata": {},
     "output_type": "execute_result"
    },
    {
     "data": {
      "text/plain": [
       "['povučem',\n",
       " 'ih',\n",
       " 'nazad',\n",
       " 'kao',\n",
       " 'od',\n",
       " 'vatre',\n",
       " ',',\n",
       " 'a',\n",
       " 'neka',\n",
       " 'tajna',\n",
       " 'sila',\n",
       " 'vuče',\n",
       " 'me',\n",
       " 'opet',\n",
       " 'naprijed',\n",
       " '—',\n",
       " 'nesvjestica',\n",
       " 'me',\n",
       " 'spopada',\n",
       " 'u',\n",
       " 'svim',\n",
       " 'ćutilima',\n",
       " '.']"
      ]
     },
     "execution_count": 349,
     "metadata": {},
     "output_type": "execute_result"
    }
   ],
   "source": [
    "train_set[0]\n",
    "test_set[0]"
   ]
  },
  {
   "cell_type": "markdown",
   "metadata": {
    "slideshow": {
     "slide_type": "subslide"
    }
   },
   "source": [
    "Treniranje primjera iz vlastitog korpusa."
   ]
  },
  {
   "cell_type": "code",
   "execution_count": 353,
   "metadata": {
    "slideshow": {
     "slide_type": "subslide"
    }
   },
   "outputs": [
    {
     "data": {
      "text/plain": [
       "<nltk.lm.vocabulary.Vocabulary at 0x7fba05671fa0>"
      ]
     },
     "execution_count": 353,
     "metadata": {},
     "output_type": "execute_result"
    },
    {
     "name": "stdout",
     "output_type": "stream",
     "text": [
      "2\n"
     ]
    },
    {
     "data": {
      "text/plain": [
       "10091"
      ]
     },
     "execution_count": 353,
     "metadata": {},
     "output_type": "execute_result"
    },
    {
     "name": "stdout",
     "output_type": "stream",
     "text": [
      "<NgramCounter with 2 ngram orders and 100968 ngrams>\n"
     ]
    },
    {
     "data": {
      "text/plain": [
       "('bio',)"
      ]
     },
     "execution_count": 353,
     "metadata": {},
     "output_type": "execute_result"
    },
    {
     "data": {
      "text/plain": [
       "18"
      ]
     },
     "execution_count": 353,
     "metadata": {},
     "output_type": "execute_result"
    },
    {
     "data": {
      "text/plain": [
       "12.833666754980955"
      ]
     },
     "execution_count": 353,
     "metadata": {},
     "output_type": "execute_result"
    },
    {
     "data": {
      "text/plain": [
       "7299.929192712028"
      ]
     },
     "execution_count": 353,
     "metadata": {},
     "output_type": "execute_result"
    },
    {
     "data": {
      "text/plain": [
       "['sila',\n",
       " ':',\n",
       " 'prisegao',\n",
       " 'sam',\n",
       " 'portret',\n",
       " 'započeo',\n",
       " 'triput',\n",
       " 'sam',\n",
       " 'već',\n",
       " 'se']"
      ]
     },
     "execution_count": 353,
     "metadata": {},
     "output_type": "execute_result"
    }
   ],
   "source": [
    "\n",
    "from nltk.lm import MLE, Laplace\n",
    "lm = MLE(nn)\n",
    "#lm = Laplace(nn)\n",
    "lm.vocab\n",
    "\n",
    "# velicina n-grama u modelu\n",
    "print(lm.order)\n",
    "# treniraj model\n",
    "lm.fit(train, vocab)\n",
    "# nova velicina vokabulara\n",
    "len(lm.vocab)\n",
    "# velicine\n",
    "print(lm.counts)\n",
    "\n",
    "lm.vocab.lookup('bio'), \n",
    "lm.counts[['bio']]['je']\n",
    "\n",
    "\n",
    "lm.entropy(test)\n",
    "lm.perplexity(test)\n",
    "lm.generate(10)"
   ]
  },
  {
   "cell_type": "code",
   "execution_count": null,
   "metadata": {},
   "outputs": [],
   "source": []
  }
 ],
 "metadata": {
  "celltoolbar": "Slideshow",
  "kernelspec": {
   "display_name": "Python 3",
   "language": "python",
   "name": "python3"
  },
  "language_info": {
   "codemirror_mode": {
    "name": "ipython",
    "version": 3
   },
   "file_extension": ".py",
   "mimetype": "text/x-python",
   "name": "python",
   "nbconvert_exporter": "python",
   "pygments_lexer": "ipython3",
   "version": "3.9.16"
  },
  "livereveal": {
   "scroll": true,
   "start_slideshow_at": "selected",
   "transition": "zoom"
  }
 },
 "nbformat": 4,
 "nbformat_minor": 4
}
