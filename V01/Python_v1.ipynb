{
 "cells": [
  {
   "cell_type": "markdown",
   "metadata": {
    "slideshow": {
     "slide_type": "slide"
    }
   },
   "source": [
    "# V1: Python string parsiranje\n",
    "\n",
    "\n",
    "Za danas:\n",
    " * pisati Jupyter bilježnice uz Python i MarkDown\n",
    " * ponoviti osnovne strukture podataka iz Pythona\n",
    " * manipulacije sa stringovima u Pythonu\n",
    " * dolaženje do tekstualnih informacija scrapping (struganjem :-) )  weba "
   ]
  },
  {
   "cell_type": "markdown",
   "metadata": {
    "slideshow": {
     "slide_type": "slide"
    }
   },
   "source": [
    "# Pripreme\n",
    "Što je potrebno za rad s Jupyterom za početak?\n",
    "1. Python [TutorialPoint's Python 3 tutorial](https://www.tutorialspoint.com/python3/)\n",
    "2. Markdown [Markdown cheatsheet](https://github.com/adam-p/markdown-here/wiki/Markdown-Cheatsheet#links)\n",
    "3. NLTK ?"
   ]
  },
  {
   "cell_type": "markdown",
   "metadata": {
    "nbpresent": {
     "id": "01ebf7ce-7765-4c70-aae3-a652de2c3873"
    },
    "slideshow": {
     "slide_type": "slide"
    }
   },
   "source": [
    "## 1.1 Tipovi podataka\n",
    "\n",
    "Ponovimo ukratko na primjeru različite tipove podataka koje Python podržava!\n"
   ]
  },
  {
   "cell_type": "code",
   "execution_count": 1,
   "metadata": {
    "nbpresent": {
     "id": "5daa8aa5-2465-491a-88e5-dc63965bb3f6"
    },
    "slideshow": {
     "slide_type": "notes"
    }
   },
   "outputs": [
    {
     "name": "stdout",
     "output_type": "stream",
     "text": [
      "<class 'complex'>\n",
      "<class 'str'>\n",
      "<class 'int'>\n",
      "<class 'complex'>\n",
      "<class 'dict'>\n",
      "<class 'float'>\n",
      "<class 'str'>\n",
      "<class 'list'>\n",
      "<class 'list'>\n",
      "<class 'tuple'>\n"
     ]
    },
    {
     "data": {
      "text/plain": [
       "2"
      ]
     },
     "execution_count": 1,
     "metadata": {},
     "output_type": "execute_result"
    }
   ],
   "source": [
    "# tipovi podataka\n",
    "x=[3+4j,'3+4j', 3, 4j, {4:3j}, 4.3, \"3+4j\", [3,5], [4j],(1,2)]\n",
    "\n",
    "for i in x:\n",
    "    print(type(i))\n",
    "\n",
    "# ekplicitno pretvaranje tipova\n",
    "int('2018')+1 # ?\n",
    "str(2017)+'1' # ?\n",
    "list('mathos osijek zagreb') # ?\n",
    "'mathos osijek'.count('s') # ?\n",
    "\n"
   ]
  },
  {
   "cell_type": "markdown",
   "metadata": {
    "nbpresent": {
     "id": "7247cc1f-626a-453a-bdcc-3798bcd9c8f5"
    },
    "slideshow": {
     "slide_type": "fragment"
    }
   },
   "source": [
    "Niz znakova (od sada ćemo najčešće koristiti engleski naziv: string) je niz __Unicode__ znakova kojima je tip podatka `str`."
   ]
  },
  {
   "cell_type": "markdown",
   "metadata": {
    "slideshow": {
     "slide_type": "slide"
    }
   },
   "source": [
    "## Složene strukture podataka\n",
    "Strukture podataka u Pythonu: lista, nterac, rječnik, stringovi\n",
    "\n",
    "**Primjer**: Dušične baze u DNK (guanin - citozin (G-C), adenin - timin (A - C))\n"
   ]
  },
  {
   "cell_type": "code",
   "execution_count": 2,
   "metadata": {
    "slideshow": {
     "slide_type": "subslide"
    }
   },
   "outputs": [
    {
     "data": {
      "text/plain": [
       "{'A': 'adenin', 'C': 'citozin', 'G': 'gvanin', 'T': 'timin'}"
      ]
     },
     "execution_count": 2,
     "metadata": {},
     "output_type": "execute_result"
    }
   ],
   "source": [
    "list('TCAGTTAT')\n",
    "set('TCAGTTAT')\n",
    "tuple('TCAG')\n",
    "dict((('A', 'adenin'), ('C', 'citozin'), ('G', 'gvanin'), ('T','timin')))"
   ]
  },
  {
   "cell_type": "markdown",
   "metadata": {
    "slideshow": {
     "slide_type": "slide"
    }
   },
   "source": [
    "## Python funkcije\n",
    "\n",
    "Prikazati u Pythonu funkciju $$ f(t)=A\\cdot e^{-\\alpha t} \\cdot \\sin{\\omega t} $$ koja za $A=1,\\alpha = 1, \\omega=2\\pi$ u intervalu $0\\leq t \\leq 7$.\n"
   ]
  },
  {
   "cell_type": "code",
   "execution_count": 3,
   "metadata": {
    "slideshow": {
     "slide_type": "subslide"
    }
   },
   "outputs": [
    {
     "name": "stdout",
     "output_type": "stream",
     "text": [
      "v1= 0.778659217806053\n",
      "v2= 0.16265669081533915\n",
      "v3= 3.167131721310066e-20\n",
      "v4= 0.00490099254970159\n",
      "v5= 0.08132834540766957\n",
      "------------------------------\n"
     ]
    }
   ],
   "source": [
    "from math import pi, exp, sin\n",
    "\n",
    "# definicija funkcije s više pozicijskih parametara\n",
    "def f(t,A=1,a=1,omega=2*pi):\n",
    "    return A*exp(-a*t)*sin(omega*t)\n",
    "\n",
    "# poziv funkcije s jednim ili više argumenata\n",
    "v1 = f(0.2)\n",
    "v2 = f(0.2, omega=1)\n",
    "v3 = f(1, A=5, omega=pi, a=pi**2)\n",
    "v4 = f(A=5, a=2, t=0.01, omega=0.1)\n",
    "v5 = f(0.2, 0.5, 1, 1)\n",
    "\n",
    "print('v1=',v1)\n",
    "print('v2=',v2)\n",
    "print('v3=',v3)\n",
    "print('v4=',v4)\n",
    "print('v5=',v5)\n",
    "\n",
    "print('-'*30)\n"
   ]
  },
  {
   "cell_type": "code",
   "execution_count": 4,
   "metadata": {
    "slideshow": {
     "slide_type": "subslide"
    }
   },
   "outputs": [
    {
     "data": {
      "image/png": "[encoded data removed]",
      "text/plain": [
       "<Figure size 432x288 with 1 Axes>"
      ]
     },
     "metadata": {
      "needs_background": "light"
     },
     "output_type": "display_data"
    }
   ],
   "source": [
    "# crtanje grafa funkcije f\n",
    "import matplotlib.pyplot as plt\n",
    "import numpy as np\n",
    "%matplotlib inline\n",
    "\n",
    "# tocke za crtanje\n",
    "x = np.linspace(0,7,num=1000)\n",
    "_f = np.vectorize(f)\n",
    "# crtanje funkcije\n",
    "plt.plot(x,_f(x))\n",
    "plt.show();\n"
   ]
  },
  {
   "cell_type": "markdown",
   "metadata": {
    "slideshow": {
     "slide_type": "slide"
    }
   },
   "source": [
    "# Riječ - niz slova/znakova u rečenici\n",
    "## Temeljna operacija: spajanje\n",
    "\n"
   ]
  },
  {
   "cell_type": "code",
   "execution_count": 5,
   "metadata": {
    "slideshow": {
     "slide_type": "fragment"
    }
   },
   "outputs": [
    {
     "name": "stdout",
     "output_type": "stream",
     "text": [
      "Ivan voli Ivanu Ivanu voli Ivan\n"
     ]
    },
    {
     "data": {
      "text/plain": [
       "'Ivan voli Ivanu'"
      ]
     },
     "execution_count": 5,
     "metadata": {},
     "output_type": "execute_result"
    }
   ],
   "source": [
    "s = \"abcdefg\"\n",
    "s[1]\n",
    "# s[1]=\"m\"\n",
    "w1 = \"Ivan\"\n",
    "w2 = \"Ivanu\"\n",
    "w3 = \"voli\"\n",
    "lista = [\"Ivan\",\"voli\",\"Ivanu\"]\n",
    "s1 = w1+\" \"+w3+\" \"+w2\n",
    "s2 = w2+\" \"+w3+\" \"+w1\n",
    "print(s1,s2)\n",
    "\" \".join(lista)"
   ]
  },
  {
   "cell_type": "markdown",
   "metadata": {
    "slideshow": {
     "slide_type": "slide"
    }
   },
   "source": [
    "## Temeljna operacija: razdvajanje (split)\n",
    "_Pomoću kojih funkcija se razdvajaju stringovi i koje argumente mogu imati?_"
   ]
  },
  {
   "cell_type": "code",
   "execution_count": 6,
   "metadata": {
    "slideshow": {
     "slide_type": "fragment"
    }
   },
   "outputs": [
    {
     "name": "stdout",
     "output_type": "stream",
     "text": [
      "['Ovo', 'je', 'jednostavna', 'recenica']\n",
      "['A', 'ovo', 'je', 'jednostavan', 'odlomak', '6', 'koji', 'ima', '3', 'linije,', 'tj.', 'dva', 'NewLine', 'znaka', 'pa', 'se', '£ita', '7', 'kao', 'tri', 'redka', 'teksta.']\n",
      "['A ovo je jednostavan odlomak', '6 koji ima 3 linije, tj. dva NewLine znaka pa se £ita', '7 kao tri redka teksta. ']\n",
      "['Ime', 'Mario; Zvanje', 'profesor; Rodjen', 'da ', '-)']\n",
      "['Ime:Mario', ' Zvanje:profesor', ' Rodjen:da :-)']\n"
     ]
    }
   ],
   "source": [
    "# Rastavljanje stringova\n",
    "# string.split(separator)\n",
    "# string.splitlines()\n",
    "recenica = 'Ovo je jednostavna recenica'\n",
    "odlomak = u'''A ovo je jednostavan odlomak\n",
    "6 koji ima 3 linije, tj. dva NewLine znaka pa se £ita\n",
    "7 kao tri redka teksta. '''\n",
    "tablica = \"Ime:Mario; Zvanje:profesor; Rodjen:da :-)\"\n",
    "print(recenica.split())\n",
    "print(odlomak.split())\n",
    "print(odlomak.splitlines())\n",
    "print(tablica.split(\":\"))\n",
    "print(tablica.split(\";\"))"
   ]
  },
  {
   "cell_type": "markdown",
   "metadata": {
    "slideshow": {
     "slide_type": "slide"
    }
   },
   "source": [
    "## Temeljna operacija: potraga/zamjena (find/replace)\n",
    "_Pomoću kojih funkcija se traže (pod)stringovi u nekom tekstu i koje argumente\n",
    "mogu imati?_"
   ]
  },
  {
   "cell_type": "code",
   "execution_count": 7,
   "metadata": {
    "slideshow": {
     "slide_type": "fragment"
    }
   },
   "outputs": [
    {
     "name": "stdout",
     "output_type": "stream",
     "text": [
      "find: 0\n",
      "rfind: 17\n",
      "find: 10\n",
      "index: 0\n",
      "rindex: 10\n",
      "startswith: True\n",
      "endswith: False\n",
      "replace: Ivan ne voli Ivanu, Ivan ne voli Mariju takodjer.\n",
      "replaced: Ivan nevoli Ivanu, Ivan nevoli Mariju takodjer.\n"
     ]
    }
   ],
   "source": [
    "\n",
    "s = \"Ivan voli Ivanu, Ivan voli Mariju takodjer.\"\n",
    "print('find:', s.find('Ivan'))\n",
    "print('rfind:', s.rfind('Ivan'))\n",
    "print('find:', s.find('Ivan',3))\n",
    "print('index:', s.index('Ivan'))\n",
    "print('rindex:', s.rindex('Ivan',2,15))\n",
    "print('startswith:', s.startswith('Iv'))\n",
    "print('endswith:', s.endswith('jer'))\n",
    "print('replace:', s.replace(\"voli\",\"ne voli\"))\n",
    "print('replaced:', s.replace(\"voli\",\"nevoli\",2))"
   ]
  },
  {
   "cell_type": "markdown",
   "metadata": {
    "slideshow": {
     "slide_type": "slide"
    }
   },
   "source": [
    "# DEMO: Struganje web stranica\n",
    "\n",
    "U ovom primjeru dohvatit ćemo leksičke informacije o imenicama iz mrežnog leksikona **hjp.znanje.hr**. Pretpostavit ćemo da je string imenica i želimo ispisati kojeg je roda i koju ima deklinaciju."
   ]
  },
  {
   "cell_type": "markdown",
   "metadata": {},
   "source": [
    "### Uvodni primjer"
   ]
  },
  {
   "cell_type": "code",
   "execution_count": 7,
   "metadata": {
    "slideshow": {
     "slide_type": "subslide"
    }
   },
   "outputs": [
    {
     "name": "stdout",
     "output_type": "stream",
     "text": [
      "\n",
      "\n",
      "\n",
      "\n",
      "\n",
      "\n",
      "\n",
      "\n",
      "\n",
      "\n",
      "\n",
      "\n",
      "\n",
      "\n",
      "\n",
      "\n",
      "\n",
      "\n",
      "\n",
      "\n",
      "\n",
      "\n",
      "\n",
      "\n",
      "\n",
      "\n",
      "\n",
      "\n",
      "\n",
      "\n",
      "Izbornik\n",
      "\n",
      "\n",
      "\n",
      "\n",
      "\n",
      "\n",
      "\n",
      "Početna\n",
      "O nama\n",
      "Upute o čitanju rječničke baze\n",
      "Povijest hrvatskoga jezika\n",
      "Kontakt\n",
      "\n",
      "\n",
      "\n",
      "\n",
      "\n",
      "\n",
      "\n",
      "\n",
      "\n",
      "Hrvatski jezični portal\n",
      "\n",
      "\n",
      "\n",
      "\n",
      "\n",
      "\n",
      "\n",
      "\n",
      "\n",
      "\n",
      "\n",
      "Pronađeno je više natuknica koje odgovaraju zadanom uvjetu:\n",
      "\n",
      "\n",
      "\n",
      "\n",
      "pȁtka ž 〈G mn -tākā/-ī〉  detaljnije\n",
      "\n",
      "\n",
      "\n",
      "\n",
      "ptȉca ž 〈G mn ptȋcā〉  detaljnije\n",
      "\n",
      "\n",
      "\n",
      "\n",
      "\n",
      "\n",
      "\n",
      "\n",
      "\n",
      "\n",
      "\n",
      "\n",
      "\n",
      "\n",
      "\n",
      "\n",
      "\n",
      "\n",
      "\n",
      "\n",
      "\n",
      "\n",
      "\n",
      "\n",
      "\n",
      "\n",
      "\n",
      "\n",
      "\n",
      "\n",
      "\n",
      "\n",
      "\n",
      "\n",
      "\n",
      "\n",
      "\n",
      "Pomoć\n",
      "\n",
      "\n",
      "Kratice i odrednice\n",
      "\n",
      "\n",
      "Kratice i jezici\n",
      "\n",
      "\n",
      "Znakovi\n",
      "\n",
      "\n",
      "Kontakt\n",
      "\n",
      "\n",
      "nakladni@znanje.hr\n",
      "\n",
      "\n",
      "her@srce.hr\n",
      "\n",
      "\n",
      "\n",
      "\n",
      "Libersina font\n",
      "*Da biste ispravno vidjeli sadržaj rječnika, na svom računalu morate imati instaliran font Libersina©.\n",
      "\n",
      "\n",
      "Preuzimanje\n",
      "\n",
      "\n",
      "\n",
      "\n",
      "\n",
      "\n",
      "\n",
      "\n",
      "\n",
      "\n",
      "\n",
      "\n",
      "\n",
      "pȁtka :  ž 〈G mn -tākā/-ī〉  detaljnije\n",
      "ptȉca :  ž 〈G mn ptȋcā〉  detaljnije\n"
     ]
    }
   ],
   "source": [
    "from bs4 import BeautifulSoup\n",
    "import requests\n",
    "import json \n",
    "\n",
    "# upit\n",
    "word = 'ptica'\n",
    "\n",
    "# HTTP interface \n",
    "url = 'https://hjp.znanje.hr/'\n",
    "payload = {'word':word,'search':'Pretraga'}\n",
    "result = requests.post(url+'index.php?show=search',data=payload)\n",
    "content = result.content\n",
    "\n",
    "# HTML code\n",
    "#print(content)\n",
    "\n",
    "# BS4 wrapper\n",
    "soup = BeautifulSoup(content)\n",
    "\n",
    "# kako izgleda tekst bez HTML oznaka\n",
    "print(soup.body.get_text())\n",
    "\n",
    "# pronadji gdje se nalazi upit uz pomoć dveloper alata u chrome-z\n",
    "entries = soup.find_all('p',{\"class\":\"libersina md\"})\n",
    "\n",
    "data = {}\n",
    "for s in entries:\n",
    "    word,_, data = s.text.strip().partition(' ') # no HTML tags\n",
    "    print(word, ': ', data)\n",
    "    #data[title] = url+s.find(\"a\").attrs['href']\n",
    "        \n"
   ]
  },
  {
   "cell_type": "markdown",
   "metadata": {},
   "source": [
    "### HJP parser imenica"
   ]
  },
  {
   "cell_type": "code",
   "execution_count": 107,
   "metadata": {},
   "outputs": [],
   "source": [
    "class HJP_parser:\n",
    "    def __init__(self):\n",
    "        # HTTP interface \n",
    "        self.url = 'https://hjp.znanje.hr/'    \n",
    "                    \n",
    "            \n",
    "    def parse(self,word):\n",
    "        payload = {'word':word,'search':'Pretraga'}\n",
    "        result = requests.post(self.url+'index.php?show=search',data=payload)\n",
    "        content = result.content \n",
    "        \n",
    "        # BS4 wrapper\n",
    "        soup = BeautifulSoup(content,'lxml')\n",
    "\n",
    "        entries = soup.find_all('p',{\"class\":\"libersina md\"})\n",
    "        \n",
    "        lexicon = {}\n",
    "        declination = {}\n",
    "        \n",
    "        tekst = entries[0].text.strip()\n",
    "        imenica,_,line = tekst.partition(' ')\n",
    "        rod,_,attr     = line.partition(' ')\n",
    "        attr = attr.lstrip('〈').rstrip('〉').split(',')\n",
    "        \n",
    "        \n",
    "        for a in attr:\n",
    "            a = a.strip()\n",
    "            if a.startswith('G mn '):\n",
    "                gen_pl = a.split(' ')[2]\n",
    "                declination['genitive plural'] = gen_pl\n",
    "            elif a.startswith('G '):\n",
    "                gen = a.split(' ')[1]\n",
    "                declination['genitive'] = gen\n",
    "            elif a.startswith('V '):\n",
    "                voc = a.split(' ')[1]\n",
    "                declination['vocative'] = voc\n",
    "            elif a.startswith('N mn '):\n",
    "                nom_pl = a.split(' ')[1]\n",
    "                declination['nominative plural'] = nom_pl\n",
    "            \n",
    "                \n",
    "                \n",
    "        lexicon[imenica] = { \n",
    "            'lemma': imenica, \n",
    "            'type' : 'noun', \n",
    "            'gender' : rod, \n",
    "            'declination' : declination  \n",
    "        }\n",
    "        \n",
    "        from pprint import pprint\n",
    "        pprint(lexicon,sort_dicts=False)"
   ]
  },
  {
   "cell_type": "code",
   "execution_count": 105,
   "metadata": {},
   "outputs": [
    {
     "name": "stdout",
     "output_type": "stream",
     "text": [
      "{'pȁtka': {'lemma': 'pȁtka',\n",
      "           'type': 'noun',\n",
      "           'gender': 'ž',\n",
      "           'declination': {'genitive plural': '-tākā/-ī'}}}\n"
     ]
    }
   ],
   "source": [
    "import os\n",
    "word = 'patka'\n",
    "parser = HJP_parser()\n",
    "parser.parse(word)\n"
   ]
  },
  {
   "cell_type": "code",
   "execution_count": null,
   "metadata": {},
   "outputs": [],
   "source": []
  }
 ],
 "metadata": {
  "celltoolbar": "Slideshow",
  "kernelspec": {
   "display_name": "Python 3",
   "language": "python",
   "name": "python3"
  },
  "language_info": {
   "codemirror_mode": {
    "name": "ipython",
    "version": 3
   },
   "file_extension": ".py",
   "mimetype": "text/x-python",
   "name": "python",
   "nbconvert_exporter": "python",
   "pygments_lexer": "ipython3",
   "version": "3.9.16"
  },
  "livereveal": {
   "scroll": true
  },
  "nbpresent": {
   "slides": {
    "4b67176f-85e3-42e5-b00d-d1dff6a34354": {
     "id": "4b67176f-85e3-42e5-b00d-d1dff6a34354",
     "prev": null,
     "regions": {
      "9b4ba38d-ec51-4c1a-9656-38d087c3d93c": {
       "attrs": {
        "height": 0.8,
        "width": 0.8,
        "x": 0.1,
        "y": 0.1
       },
       "content": {
        "cell": "01ebf7ce-7765-4c70-aae3-a652de2c3873",
        "part": "whole"
       },
       "id": "9b4ba38d-ec51-4c1a-9656-38d087c3d93c"
      }
     }
    },
    "83a3dc51-d3f4-45f7-9437-d7710e9dbf2e": {
     "id": "83a3dc51-d3f4-45f7-9437-d7710e9dbf2e",
     "prev": "921e5600-61d7-484e-a5b3-f28ab7dc5e69",
     "regions": {
      "691b8f5b-f4d4-4309-87a6-29d667d42035": {
       "attrs": {
        "height": 0.4,
        "width": 0.8,
        "x": 0.1,
        "y": 0.5
       },
       "content": {
        "cell": "2f7a6139-5747-45e7-966c-b25c93d1d7dc",
        "part": "whole"
       },
       "id": "691b8f5b-f4d4-4309-87a6-29d667d42035"
      },
      "d036b0f5-ac7f-4d06-ba7c-aed66b741cf1": {
       "attrs": {
        "height": 0.8,
        "width": 0.8,
        "x": 0.1,
        "y": 0.1
       },
       "content": {
        "cell": "7247cc1f-626a-453a-bdcc-3798bcd9c8f5",
        "part": "whole"
       },
       "id": "d036b0f5-ac7f-4d06-ba7c-aed66b741cf1"
      }
     }
    },
    "921e5600-61d7-484e-a5b3-f28ab7dc5e69": {
     "id": "921e5600-61d7-484e-a5b3-f28ab7dc5e69",
     "prev": "4b67176f-85e3-42e5-b00d-d1dff6a34354",
     "regions": {
      "6e913ea8-0796-4b23-9342-a695a2a829df": {
       "attrs": {
        "height": 0.8,
        "width": 0.8,
        "x": 0.1,
        "y": 0.1
       },
       "content": {
        "cell": "5daa8aa5-2465-491a-88e5-dc63965bb3f6",
        "part": "whole"
       },
       "id": "6e913ea8-0796-4b23-9342-a695a2a829df"
      }
     }
    }
   },
   "themes": {
    "default": "d06abdac-280c-4423-831a-ffdacd4f2085",
    "theme": {
     "d06abdac-280c-4423-831a-ffdacd4f2085": {
      "id": "d06abdac-280c-4423-831a-ffdacd4f2085",
      "palette": {
       "19cc588f-0593-49c9-9f4b-e4d7cc113b1c": {
        "id": "19cc588f-0593-49c9-9f4b-e4d7cc113b1c",
        "rgb": [
         252,
         252,
         252
        ]
       },
       "31af15d2-7e15-44c5-ab5e-e04b16a89eff": {
        "id": "31af15d2-7e15-44c5-ab5e-e04b16a89eff",
        "rgb": [
         68,
         68,
         68
        ]
       },
       "50f92c45-a630-455b-aec3-788680ec7410": {
        "id": "50f92c45-a630-455b-aec3-788680ec7410",
        "rgb": [
         155,
         177,
         192
        ]
       },
       "c5cc3653-2ee1-402a-aba2-7caae1da4f6c": {
        "id": "c5cc3653-2ee1-402a-aba2-7caae1da4f6c",
        "rgb": [
         43,
         126,
         184
        ]
       },
       "efa7f048-9acb-414c-8b04-a26811511a21": {
        "id": "efa7f048-9acb-414c-8b04-a26811511a21",
        "rgb": [
         25.118061674008803,
         73.60176211453744,
         107.4819383259912
        ]
       }
      },
      "rules": {
       "blockquote": {
        "color": "50f92c45-a630-455b-aec3-788680ec7410"
       },
       "code": {
        "font-family": "Anonymous Pro"
       },
       "h1": {
        "color": "c5cc3653-2ee1-402a-aba2-7caae1da4f6c",
        "font-family": "Lato",
        "font-size": 8
       },
       "h2": {
        "color": "c5cc3653-2ee1-402a-aba2-7caae1da4f6c",
        "font-family": "Lato",
        "font-size": 6
       },
       "h3": {
        "color": "50f92c45-a630-455b-aec3-788680ec7410",
        "font-family": "Lato",
        "font-size": 5.5
       },
       "h4": {
        "color": "c5cc3653-2ee1-402a-aba2-7caae1da4f6c",
        "font-family": "Lato",
        "font-size": 5
       },
       "h5": {
        "font-family": "Lato"
       },
       "h6": {
        "font-family": "Lato"
       },
       "h7": {
        "font-family": "Lato"
       },
       "pre": {
        "font-family": "Anonymous Pro",
        "font-size": 4
       }
      },
      "text-base": {
       "font-family": "Merriweather",
       "font-size": 4
      }
     }
    }
   }
  }
 },
 "nbformat": 4,
 "nbformat_minor": 4
}
