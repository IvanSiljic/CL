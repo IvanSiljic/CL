{
 "cells": [
  {
   "cell_type": "markdown",
   "metadata": {
    "slideshow": {
     "slide_type": "slide"
    }
   },
   "source": [
    "# NLTK - natural language Processing Kit za Python\n",
    "* Python alat za obradu teksta prirodnih jezika\n",
    "* NLTK označavatelji (engl. taggers)"
   ]
  },
  {
   "cell_type": "code",
   "execution_count": 1,
   "metadata": {},
   "outputs": [],
   "source": [
    "import nltk"
   ]
  },
  {
   "cell_type": "code",
   "execution_count": 9,
   "metadata": {},
   "outputs": [
    {
     "name": "stderr",
     "output_type": "stream",
     "text": [
      "[nltk_data] Downloading package tagsets to\n",
      "[nltk_data]     C:\\Users\\Domagoj\\AppData\\Roaming\\nltk_data...\n",
      "[nltk_data]   Package tagsets is already up-to-date!\n",
      "[nltk_data] Downloading package punkt to\n",
      "[nltk_data]     C:\\Users\\Domagoj\\AppData\\Roaming\\nltk_data...\n",
      "[nltk_data]   Package punkt is already up-to-date!\n",
      "[nltk_data] Downloading package averaged_perceptron_tagger to\n",
      "[nltk_data]     C:\\Users\\Domagoj\\AppData\\Roaming\\nltk_data...\n",
      "[nltk_data]   Unzipping taggers\\averaged_perceptron_tagger.zip.\n"
     ]
    },
    {
     "data": {
      "text/plain": [
       "True"
      ]
     },
     "execution_count": 9,
     "metadata": {},
     "output_type": "execute_result"
    }
   ],
   "source": [
    "# potrebni dodatni NLTK paketi, pokrenuti ćeliju ako bude trebalo\n",
    "nltk.download('tagsets')\n",
    "nltk.download('punkt')\n",
    "nltk.download('averaged_perceptron_tagger')\n",
    "nltk.download('brown')"
   ]
  },
  {
   "cell_type": "markdown",
   "metadata": {
    "slideshow": {
     "slide_type": "slide"
    }
   },
   "source": [
    "# Označivanje riječi (engl. tagging)\n",
    "_part-of-speech tagging_ *(POS)* - označivanje riječi s njihovim vrstama  [U-Penn POS oznake](https://www.ling.upenn.edu/courses/Fall_2003/ling001/penn_treebank_pos.html)\n",
    "* liste riječi razložiti na dvojce `(riječ,vrsta_riječi)`\n",
    "* vrste riječi imaju oznaku prema `PenTreebank` tablici\n",
    "* NLTK nudi programe koji uče označavanja (engl. taggers) \n",
    "* NLTK korpusi sadrži označene korpuse\n",
    "\n",
    "\n"
   ]
  },
  {
   "cell_type": "code",
   "execution_count": 2,
   "metadata": {
    "slideshow": {
     "slide_type": "subslide"
    },
    "tags": []
   },
   "outputs": [
    {
     "name": "stdout",
     "output_type": "stream",
     "text": [
      "NN: noun, common, singular or mass\n",
      "    common-carrier cabbage knuckle-duster Casino afghan shed thermostat\n",
      "    investment slide humour falloff slick wind hyena override subhumanity\n",
      "    machinist ...\n",
      "NNP: noun, proper, singular\n",
      "    Motown Venneboerger Czestochwa Ranzer Conchita Trumplane Christos\n",
      "    Oceanside Escobar Kreisler Sawyer Cougar Yvette Ervin ODI Darryl CTCA\n",
      "    Shannon A.K.C. Meltex Liverpool ...\n",
      "NNPS: noun, proper, plural\n",
      "    Americans Americas Amharas Amityvilles Amusements Anarcho-Syndicalists\n",
      "    Andalusians Andes Andruses Angels Animals Anthony Antilles Antiques\n",
      "    Apache Apaches Apocrypha ...\n",
      "NNS: noun, common, plural\n",
      "    undergraduates scotches bric-a-brac products bodyguards facets coasts\n",
      "    divestitures storehouses designs clubs fragrances averages\n",
      "    subjectivists apprehensions muses factory-jobs ...\n"
     ]
    }
   ],
   "source": [
    "# POS oznake\n",
    "#nltk.help.upenn_tagset()\n",
    "# ili specificne?\n",
    "#nltk.help.upenn_tagset('CC')\n",
    "nltk.help.upenn_tagset('NN*')\n"
   ]
  },
  {
   "cell_type": "code",
   "execution_count": 3,
   "metadata": {
    "scrolled": true,
    "slideshow": {
     "slide_type": "subslide"
    }
   },
   "outputs": [
    {
     "data": {
      "text/plain": [
       "[('And', 'CC'),\n",
       " ('now', 'RB'),\n",
       " ('for', 'IN'),\n",
       " ('something', 'NN'),\n",
       " ('completely', 'RB'),\n",
       " ('different', 'JJ')]"
      ]
     },
     "execution_count": 3,
     "metadata": {},
     "output_type": "execute_result"
    }
   ],
   "source": [
    "\n",
    "# testiranje\n",
    "from nltk.tokenize import word_tokenize\n",
    "text = word_tokenize('And now for something completely different')\n",
    "nltk.pos_tag(text)\n",
    "#nltk.help.upenn_tagset('RB')"
   ]
  },
  {
   "cell_type": "code",
   "execution_count": 4,
   "metadata": {
    "slideshow": {
     "slide_type": "subslide"
    }
   },
   "outputs": [
    {
     "name": "stdout",
     "output_type": "stream",
     "text": [
      "NN: noun, common, singular or mass\n",
      "    common-carrier cabbage knuckle-duster Casino afghan shed thermostat\n",
      "    investment slide humour falloff slick wind hyena override subhumanity\n",
      "    machinist ...\n"
     ]
    }
   ],
   "source": [
    "nltk.help.upenn_tagset('NN')"
   ]
  },
  {
   "cell_type": "code",
   "execution_count": 5,
   "metadata": {
    "slideshow": {
     "slide_type": "subslide"
    }
   },
   "outputs": [
    {
     "name": "stdout",
     "output_type": "stream",
     "text": [
      "[('Ivan', 'NNP'), ('rado', 'ADV'), ('pliva/VB.', '')]\n"
     ]
    }
   ],
   "source": [
    "# hrvatski jezik?\n",
    "recenica = '''Ivan/NNP rado/ADV pliva/VB./'''\n",
    "hr_token_tags = [nltk.tag.str2tuple(t) for t in recenica.split()]\n",
    "print(hr_token_tags)"
   ]
  },
  {
   "cell_type": "markdown",
   "metadata": {
    "slideshow": {
     "slide_type": "subslide"
    }
   },
   "source": [
    "## Korištenje označenih korpusa."
   ]
  },
  {
   "cell_type": "code",
   "execution_count": 6,
   "metadata": {
    "slideshow": {
     "slide_type": "subslide"
    }
   },
   "outputs": [
    {
     "data": {
      "text/plain": [
       "[('Confidence', 'NN'),\n",
       " ('in', 'IN'),\n",
       " ('the', 'DT'),\n",
       " ('pound', 'NN'),\n",
       " ('is', 'VBZ')]"
      ]
     },
     "execution_count": 6,
     "metadata": {},
     "output_type": "execute_result"
    }
   ],
   "source": [
    "# Brownov korpus\n",
    "nltk.corpus.brown.tagged_words()[:5]\n",
    "# conll2000 korpus\n",
    "nltk.corpus.conll2000.tagged_words()[:5]\n",
    "# treebank korpus s universal POS\n",
    "#nltk.corpus.treebank.tagged_words(tagset='universal')[:5]"
   ]
  },
  {
   "cell_type": "markdown",
   "metadata": {
    "slideshow": {
     "slide_type": "slide"
    }
   },
   "source": [
    "Najučestalije oznake za EN jezik?"
   ]
  },
  {
   "cell_type": "code",
   "execution_count": 7,
   "metadata": {
    "slideshow": {
     "slide_type": "subslide"
    }
   },
   "outputs": [
    {
     "data": {
      "image/png": "[encoded data removed]",
      "text/plain": [
       "<Figure size 640x480 with 1 Axes>"
      ]
     },
     "metadata": {},
     "output_type": "display_data"
    }
   ],
   "source": [
    "from nltk.corpus import brown\n",
    "brown_news_tagged = brown.tagged_words(categories='news', tagset='universal')\n",
    "tag_fd = nltk.FreqDist(tag for (word, tag) in brown_news_tagged)\n",
    "\n",
    "fd = nltk.FreqDist(tag_fd)\n",
    "fd.plot(10);"
   ]
  },
  {
   "cell_type": "markdown",
   "metadata": {
    "slideshow": {
     "slide_type": "subslide"
    }
   },
   "source": [
    "Ali uz malo dodatne NLTK dokumentacije i (slabo) dostupnih HR resursa ..."
   ]
  },
  {
   "cell_type": "code",
   "execution_count": 8,
   "metadata": {
    "slideshow": {
     "slide_type": "subslide"
    }
   },
   "outputs": [],
   "source": [
    "from nltk.corpus.reader.conll import ConllCorpusReader\n",
    "sethr = ConllCorpusReader(\n",
    "    'data/',\n",
    "    'web.hr.conll',\n",
    "    ('ignore','words','ignore','ignore','pos','tree')    \n",
    ")"
   ]
  },
  {
   "cell_type": "code",
   "execution_count": 9,
   "metadata": {
    "slideshow": {
     "slide_type": "subslide"
    }
   },
   "outputs": [
    {
     "data": {
      "text/plain": [
       "[('Čula', 'Vmp-pn'), ('su', 'Var3p'), ('se', 'Px--sa'), ...]"
      ]
     },
     "execution_count": 9,
     "metadata": {},
     "output_type": "execute_result"
    }
   ],
   "source": [
    "sethr.words()\n",
    "sethr.tagged_words()"
   ]
  },
  {
   "cell_type": "code",
   "execution_count": 10,
   "metadata": {
    "slideshow": {
     "slide_type": "subslide"
    }
   },
   "outputs": [
    {
     "data": {
      "text/plain": [
       "[('Čula', 'VERB'), ('su', 'VERB'), ('se', 'PRON'), ('objašnjenja', 'NOUN')]"
      ]
     },
     "execution_count": 10,
     "metadata": {},
     "output_type": "execute_result"
    }
   ],
   "source": [
    "from nltk.corpus.reader.mte import MTETagConverter\n",
    "\n",
    "set_hr_upos = [(word,MTETagConverter.msd_to_universal(tag)) for (word,tag) in sethr.tagged_words()]\n",
    "set_hr_upos[:4]"
   ]
  },
  {
   "cell_type": "markdown",
   "metadata": {
    "slideshow": {
     "slide_type": "slide"
    }
   },
   "source": [
    "## Koje vrste riječi su u HR učestale?"
   ]
  },
  {
   "cell_type": "code",
   "execution_count": 11,
   "metadata": {
    "slideshow": {
     "slide_type": "subslide"
    }
   },
   "outputs": [
    {
     "data": {
      "image/png": "[encoded data removed]",
      "text/plain": [
       "<Figure size 640x480 with 1 Axes>"
      ]
     },
     "metadata": {},
     "output_type": "display_data"
    },
    {
     "data": {
      "text/plain": [
       "<Axes: xlabel='Samples', ylabel='Counts'>"
      ]
     },
     "execution_count": 11,
     "metadata": {},
     "output_type": "execute_result"
    }
   ],
   "source": [
    "tag_fd = nltk.FreqDist(tag for (word, tag) in set_hr_upos)\n",
    "tag_fd.plot(10)"
   ]
  },
  {
   "cell_type": "markdown",
   "metadata": {
    "slideshow": {
     "slide_type": "subslide"
    }
   },
   "source": [
    "Koje su najčešće riječi po razredima riječi?"
   ]
  },
  {
   "cell_type": "code",
   "execution_count": 12,
   "metadata": {
    "slideshow": {
     "slide_type": "subslide"
    }
   },
   "outputs": [
    {
     "name": "stdout",
     "output_type": "stream",
     "text": [
      "NN [('year', 137), ('time', 97), ('state', 88), ('week', 85), ('man', 72)]\n",
      "NN$ [(\"year's\", 13), (\"world's\", 8), (\"state's\", 7), (\"nation's\", 6), (\"city's\", 6)]\n",
      "NN$-HL [(\"Golf's\", 1), (\"Navy's\", 1)]\n",
      "NN$-TL [(\"President's\", 11), (\"Administration's\", 3), (\"Army's\", 3), (\"League's\", 3), (\"University's\", 3)]\n",
      "NN-HL [('sp.', 2), ('problem', 2), ('Question', 2), ('cut', 2), ('party', 2)]\n",
      "NN-NC [('ova', 1), ('eva', 1), ('aya', 1)]\n",
      "NN-TL [('President', 88), ('House', 68), ('State', 59), ('University', 42), ('City', 41)]\n",
      "NN-TL-HL [('Fort', 2), ('Mayor', 1), ('Commissioner', 1), ('City', 1), ('Oak', 1)]\n",
      "NNS [('years', 101), ('members', 69), ('people', 52), ('sales', 51), ('men', 46)]\n",
      "NNS$ [(\"children's\", 7), (\"women's\", 5), (\"men's\", 3), (\"janitors'\", 3), (\"taxpayers'\", 2)]\n",
      "NNS$-HL [(\"Dealers'\", 1), (\"Idols'\", 1)]\n",
      "NNS$-TL [(\"Women's\", 4), (\"States'\", 3), (\"Giants'\", 2), (\"Princes'\", 1), (\"Bombers'\", 1)]\n",
      "NNS-HL [('Wards', 1), ('deputies', 1), ('bonds', 1), ('aspects', 1), ('Decisions', 1)]\n",
      "NNS-TL [('States', 38), ('Nations', 11), ('Masters', 10), ('Communists', 9), ('Rules', 9)]\n",
      "NNS-TL-HL [('Nations', 1)]\n"
     ]
    }
   ],
   "source": [
    "def findtags(tag_prefix, tagged_text):\n",
    "    cfd = nltk.ConditionalFreqDist((tag, word) for (word, tag) in tagged_text\n",
    "                                  if tag.startswith(tag_prefix))\n",
    "    return dict((tag, cfd[tag].most_common(5)) for tag in cfd.conditions())\n",
    "\n",
    "tagdict = findtags('NN', nltk.corpus.brown.tagged_words(categories='news'))\n",
    "for tag in sorted(tagdict):\n",
    "    print(tag, tagdict[tag])\n"
   ]
  },
  {
   "cell_type": "code",
   "execution_count": 13,
   "metadata": {
    "slideshow": {
     "slide_type": "subslide"
    }
   },
   "outputs": [
    {
     "name": "stdout",
     "output_type": "stream",
     "text": [
      "NOUN [('godine', 93), ('vrijeme', 46), ('ljudi', 40), ('način', 39), ('godina', 39)]\n"
     ]
    }
   ],
   "source": [
    "tagdict = findtags('NOUN', set_hr_upos)\n",
    "for tag in sorted(tagdict):\n",
    "    print(tag, tagdict[tag])"
   ]
  },
  {
   "cell_type": "markdown",
   "metadata": {
    "slideshow": {
     "slide_type": "slide"
    }
   },
   "source": [
    "## Izgradnja označavatelja"
   ]
  },
  {
   "cell_type": "code",
   "execution_count": 13,
   "metadata": {},
   "outputs": [],
   "source": [
    "# skup za treniranje i testiranje\n",
    "\n",
    "import nltk\n",
    "import random\n",
    "\n",
    "from nltk.corpus import brown\n",
    "brown_sents = brown.sents(categories='news') # dohvati tekstove 'vijesti'\n",
    "brown_tagged_sents = [sentence for sentence in nltk.corpus.brown.tagged_sents(categories='news',tagset='universal')]\n",
    "\n",
    "# podjela 9 : 1\n",
    "size = int(0.9 * len(brown_tagged_sents))\n",
    "\n",
    "# permutiraj skup rečenica\n",
    "random.shuffle(brown_tagged_sents)\n",
    "\n",
    "train_sents = brown_tagged_sents[:size]\n",
    "test_sents  = brown_tagged_sents[size:]\n",
    "\n"
   ]
  },
  {
   "cell_type": "markdown",
   "metadata": {
    "slideshow": {
     "slide_type": "subslide"
    }
   },
   "source": [
    "### Regex označavatelj"
   ]
  },
  {
   "cell_type": "code",
   "execution_count": 14,
   "metadata": {
    "slideshow": {
     "slide_type": "subslide"
    }
   },
   "outputs": [
    {
     "name": "stdout",
     "output_type": "stream",
     "text": [
      "It NOUN\n",
      "recommended VERB\n",
      "that NOUN\n",
      "Fulton NOUN\n",
      "legislators NOUN\n",
      "act NOUN\n",
      "`` NOUN\n",
      "to NOUN\n",
      "have NOUN\n",
      "these NOUN\n",
      "laws NOUN\n",
      "studied VERB\n",
      "and NOUN\n",
      "revised VERB\n",
      "to NOUN\n",
      "the NOUN\n",
      "end NOUN\n",
      "of NOUN\n",
      "modernizing VERB\n",
      "and NOUN\n",
      "improving VERB\n",
      "them NOUN\n",
      "'' NOUN\n",
      ". NOUN\n",
      "Preciznost: 0.35926564560300234\n"
     ]
    }
   ],
   "source": [
    "\n",
    "\n",
    "# označivanje na temelju regexa\n",
    "patterns = [\n",
    "    (r'.*ing$', 'VERB'), # gerunds\n",
    "    (r'.*ed$', 'VERB'), # simple past\n",
    "    (r'.*es$', 'VERB'), # 3rd singular present\n",
    "    (r'.*ould$', 'VERB'), # modals\n",
    "    (r'.*\\'s$', 'NOUN'), # possessive nouns\n",
    "    (r'.*s$', 'NOUN'), # plural nouns\n",
    "    (r'^-?[0-9]+(.[0-9]+)?$', 'NUM'), # cardinal numbers\n",
    "   (r'.*', 'NOUN') # nouns (default)\n",
    "]\n",
    "\n",
    "regexp_tagger = nltk.RegexpTagger(patterns)\n",
    "\n",
    "test_sent = brown_sents[5]\n",
    "\n",
    "tagged_sent = regexp_tagger.tag(test_sent)\n",
    "\n",
    "# ispisi primjere\n",
    "for tok, tag in tagged_sent:\n",
    "    print(tok,tag)\n",
    "\n",
    "\n",
    "\n",
    "print(f'Preciznost: {regexp_tagger.accuracy(test_sents)}') # udio podudarajućih vlastitih oznaka sa standardnim \n",
    "\n"
   ]
  },
  {
   "cell_type": "markdown",
   "metadata": {
    "slideshow": {
     "slide_type": "slide"
    }
   },
   "source": [
    "## N-gram označavatelji"
   ]
  },
  {
   "cell_type": "markdown",
   "metadata": {
    "slideshow": {
     "slide_type": "subslide"
    }
   },
   "source": [
    "### Unigram označavanje"
   ]
  },
  {
   "cell_type": "code",
   "execution_count": 15,
   "metadata": {},
   "outputs": [
    {
     "name": "stdout",
     "output_type": "stream",
     "text": [
      "It PRON\n",
      "recommended VERB\n",
      "that ADP\n",
      "Fulton NOUN\n",
      "legislators NOUN\n",
      "act NOUN\n",
      "`` .\n",
      "to PRT\n",
      "have VERB\n",
      "these DET\n",
      "laws NOUN\n",
      "studied VERB\n",
      "and CONJ\n",
      "revised VERB\n",
      "to PRT\n",
      "the DET\n",
      "end NOUN\n",
      "of ADP\n",
      "modernizing VERB\n",
      "and CONJ\n",
      "improving VERB\n",
      "them PRON\n",
      "'' .\n",
      ". .\n",
      "Preciznost: 0.9404604929506035\n"
     ]
    }
   ],
   "source": [
    "\n",
    "# unigram označavatelj\n",
    "unigram_tagger = nltk.UnigramTagger(train_sents,backoff=regexp_tagger)\n",
    "\n",
    "# oznaci skup za treniranje\n",
    "tagged_sent = unigram_tagger.tag(test_sent)\n",
    "\n",
    "# ispisi primjere\n",
    "for tok, tag in tagged_sent:\n",
    "    print(tok,tag)\n",
    "    \n",
    "print(f'Preciznost: {unigram_tagger.accuracy(test_sents)}') # udio podudarajućih vlastitih oznaka sa standardnim "
   ]
  },
  {
   "cell_type": "markdown",
   "metadata": {
    "slideshow": {
     "slide_type": "subslide"
    }
   },
   "source": [
    "Treniranje i testiranje modela."
   ]
  },
  {
   "cell_type": "code",
   "execution_count": 16,
   "metadata": {},
   "outputs": [
    {
     "name": "stdout",
     "output_type": "stream",
     "text": [
      "     |              C     N     P     V |\n",
      "     |     A  A  A  O  D  O  N  R  P  E |\n",
      "     |     D  D  D  N  E  U  U  O  R  R |\n",
      "     |  .  J  P  V  J  T  N  M  N  T  B |\n",
      "-----+----------------------------------+\n",
      "   . |<38> .  .  .  .  .  .  .  .  .  . |\n",
      " ADJ |  .<17> .  .  .  .  2  .  .  .  . |\n",
      " ADP |  .  .<30> .  .  .  .  .  .  2  . |\n",
      " ADV |  .  1  . <5> .  .  .  .  .  .  . |\n",
      "CONJ |  .  .  .  .<10> .  .  .  .  .  . |\n",
      " DET |  .  .  .  .  .<39> .  .  .  .  . |\n",
      "NOUN |  .  .  .  .  .  .<81> .  .  .  . |\n",
      " NUM |  .  .  .  .  .  .  . <1> .  .  . |\n",
      "PRON |  .  .  .  .  .  .  .  . <6> .  . |\n",
      " PRT |  .  .  .  .  .  .  .  .  . <3> . |\n",
      "VERB |  .  .  .  .  .  .  1  .  .  .<48>|\n",
      "-----+----------------------------------+\n",
      "(row = reference; col = test)\n",
      "\n"
     ]
    }
   ],
   "source": [
    "# matrica zbunjenosti\n",
    "test_tags = [tag for sent in brown.sents(categories='news')[:10] for (word, tag) in unigram_tagger.tag(sent)]\n",
    "\n",
    "gold_tags = [tag for sent in brown.tagged_sents(categories='news',tagset='universal')[:10] for (word, tag) in sent]\n",
    "\n",
    "\n",
    "cm = nltk.ConfusionMatrix(gold_tags, test_tags)\n",
    "print(cm)\n"
   ]
  },
  {
   "cell_type": "markdown",
   "metadata": {
    "slideshow": {
     "slide_type": "slide"
    }
   },
   "source": [
    "### N-gram označavanje"
   ]
  },
  {
   "cell_type": "markdown",
   "metadata": {
    "slideshow": {
     "slide_type": "slide"
    }
   },
   "source": [
    "NLTK nudi mogućnost izgrađivanja HMM modela označavatelja."
   ]
  },
  {
   "cell_type": "code",
   "execution_count": 17,
   "metadata": {
    "slideshow": {
     "slide_type": "subslide"
    }
   },
   "outputs": [
    {
     "name": "stdout",
     "output_type": "stream",
     "text": [
      "It PRON\n",
      "recommended VERB\n",
      "that ADP\n",
      "Fulton NOUN\n",
      "legislators NOUN\n",
      "act VERB\n",
      "`` .\n",
      "to PRT\n",
      "have VERB\n",
      "these DET\n",
      "laws NOUN\n",
      "studied VERB\n",
      "and CONJ\n",
      "revised VERB\n",
      "to PRT\n",
      "the DET\n",
      "end NOUN\n",
      "of ADP\n",
      "modernizing VERB\n",
      "and CONJ\n",
      "improving VERB\n",
      "them PRON\n",
      "'' .\n",
      ". .\n",
      "Preciznost: 0.19099300131859215\n"
     ]
    }
   ],
   "source": [
    "# trenrianje bigramskog HMM\n",
    "bigram_tagger = nltk.BigramTagger(train_sents) \n",
    "\n",
    "\n",
    "# oznaci skup za treniranje\n",
    "tagged_sent = bigram_tagger.tag(test_sent)\n",
    "\n",
    "# ispisi primjere\n",
    "for tok, tag in tagged_sent:\n",
    "    print(tok,tag)\n",
    "    \n",
    "print(f'Preciznost: {bigram_tagger.accuracy(test_sents)}') # udio podudarajućih vlastitih oznaka sa standardnim "
   ]
  },
  {
   "cell_type": "code",
   "execution_count": 18,
   "metadata": {
    "slideshow": {
     "slide_type": "subslide"
    }
   },
   "outputs": [
    {
     "name": "stdout",
     "output_type": "stream",
     "text": [
      "It PRON\n",
      "recommended VERB\n",
      "that ADP\n",
      "Fulton NOUN\n",
      "legislators NOUN\n",
      "act VERB\n",
      "`` .\n",
      "to ADP\n",
      "have None\n",
      "these None\n",
      "laws None\n",
      "studied None\n",
      "and None\n",
      "revised None\n",
      "to None\n",
      "the None\n",
      "end None\n",
      "of None\n",
      "modernizing None\n",
      "and None\n",
      "improving None\n",
      "them None\n",
      "'' None\n",
      ". None\n",
      "Preciznost: 0.09463434425398114\n"
     ]
    }
   ],
   "source": [
    "# trenrianje bigramskog HMM\n",
    "trigram_tagger = nltk.TrigramTagger(train_sents) \n",
    "\n",
    "\n",
    "# oznaci skup za treniranje\n",
    "tagged_sent = trigram_tagger.tag(test_sent)\n",
    "\n",
    "# ispisi primjere\n",
    "for tok, tag in tagged_sent:\n",
    "    print(tok,tag)\n",
    "    \n",
    "print(f'Preciznost: {trigram_tagger.accuracy(test_sents)}') # udio podudarajućih vlastitih oznaka sa standardnim "
   ]
  },
  {
   "cell_type": "markdown",
   "metadata": {
    "slideshow": {
     "slide_type": "subslide"
    }
   },
   "source": [
    "**Problem inherentne rijetkosti**: Uočavamo značajan pad u preciznosti 2,3-gramskom modelu u uspredbi s unigram modelom zbog rijetkom 2,3-grama u skupu za treniranje. \n",
    "\n",
    "Kako ovo rješiti?\n",
    "  * zaglađivanje\n",
    "  * povećavanje korpusa za  treniranje\n",
    "  * kombinirati unigram, bigram i trigram model"
   ]
  },
  {
   "cell_type": "markdown",
   "metadata": {
    "slideshow": {
     "slide_type": "slide"
    }
   },
   "source": [
    "### Kombinacija označavatelja"
   ]
  },
  {
   "cell_type": "markdown",
   "metadata": {
    "slideshow": {
     "slide_type": "subslide"
    }
   },
   "source": [
    "N-grami višeg reda imaju bolje *pokrivanje* (recall/coverage) nego *preciznost* (accuracy). Neka je dan skup podataka $x_i$ i razred $y_i\\in\\{0,1\\}$ kojem pripadaju $\\{x_1,y_i\\}, \\{x_2,y_2\\},\\ldots,\\{x_n,y_n\\}$. Neka je $f$ klasifikator podataka $x_i$ i neka je $$TP=|\\{x_i:y_i = f(x_i) = 1\\}|, FP=|\\{x_i:f(x_i) = 1, y_i=0\\}|, FN=|\\{x_i:f(x_i) = 0, y_i=1\\}|$$."
   ]
  },
  {
   "cell_type": "markdown",
   "metadata": {
    "slideshow": {
     "slide_type": "fragment"
    }
   },
   "source": [
    "$$precision = \\frac{TP}{TP+FP}, recall = \\frac{TP}{TP+FN}$$"
   ]
  },
  {
   "cell_type": "code",
   "execution_count": 19,
   "metadata": {
    "slideshow": {
     "slide_type": "subslide"
    }
   },
   "outputs": [
    {
     "name": "stdout",
     "output_type": "stream",
     "text": [
      "It PRON\n",
      "recommended VERB\n",
      "that ADP\n",
      "Fulton NOUN\n",
      "legislators NOUN\n",
      "act VERB\n",
      "`` .\n",
      "to ADP\n",
      "have None\n",
      "these None\n",
      "laws None\n",
      "studied None\n",
      "and None\n",
      "revised None\n",
      "to None\n",
      "the None\n",
      "end None\n",
      "of None\n",
      "modernizing None\n",
      "and None\n",
      "improving None\n",
      "them None\n",
      "'' None\n",
      ". None\n",
      "Preciznost: 0.945532001217162\n"
     ]
    }
   ],
   "source": [
    "t0 = regexp_tagger # osnovni regexp parser\n",
    "t1 = nltk.UnigramTagger(train_sents, backoff=t0)\n",
    "t2 = nltk.BigramTagger(train_sents, backoff=t1)\n",
    "t3 = nltk.TrigramTagger(train_sents,backoff=t2)\n",
    "\n",
    "\n",
    "# ispisi primjere\n",
    "for tok, tag in tagged_sent:\n",
    "    print(tok,tag)\n",
    "    \n",
    "print(f'Preciznost: {t3.accuracy(test_sents)}') # udio podudarajućih vlastitih oznaka sa standardnim \n",
    "\n",
    "\n"
   ]
  },
  {
   "cell_type": "code",
   "execution_count": 20,
   "metadata": {},
   "outputs": [
    {
     "name": "stdout",
     "output_type": "stream",
     "text": [
      "     |              C     N     P     V |\n",
      "     |     A  A  A  O  D  O  N  R  P  E |\n",
      "     |     D  D  D  N  E  U  U  O  R  R |\n",
      "     |  .  J  P  V  J  T  N  M  N  T  B |\n",
      "-----+----------------------------------+\n",
      "   . |<38> .  .  .  .  .  .  .  .  .  . |\n",
      " ADJ |  .<18> .  .  .  .  1  .  .  .  . |\n",
      " ADP |  .  .<30> .  .  .  .  .  .  2  . |\n",
      " ADV |  .  .  . <6> .  .  .  .  .  .  . |\n",
      "CONJ |  .  .  .  .<10> .  .  .  .  .  . |\n",
      " DET |  .  .  .  .  .<39> .  .  .  .  . |\n",
      "NOUN |  .  .  .  .  .  .<81> .  .  .  . |\n",
      " NUM |  .  .  .  .  .  .  . <1> .  .  . |\n",
      "PRON |  .  .  .  .  .  .  .  . <6> .  . |\n",
      " PRT |  .  .  1  .  .  .  .  .  . <2> . |\n",
      "VERB |  .  .  .  .  .  .  .  .  .  .<49>|\n",
      "-----+----------------------------------+\n",
      "(row = reference; col = test)\n",
      "\n"
     ]
    }
   ],
   "source": [
    "# matrica zbunjenosti\n",
    "test_tags = [tag for sent in brown.sents(categories='news')[:10] for (word, tag) in t3.tag(sent)]\n",
    "gold_tags = [tag for sent in brown.tagged_sents(categories='news',tagset='universal')[:10] for (word, tag) in sent]\n",
    "\n",
    "cm = nltk.ConfusionMatrix(gold_tags, test_tags)\n",
    "print(cm)"
   ]
  }
 ],
 "metadata": {
  "celltoolbar": "Slideshow",
  "kernelspec": {
   "display_name": "Python 3 (ipykernel)",
   "language": "python",
   "name": "python3"
  },
  "language_info": {
   "codemirror_mode": {
    "name": "ipython",
    "version": 3
   },
   "file_extension": ".py",
   "mimetype": "text/x-python",
   "name": "python",
   "nbconvert_exporter": "python",
   "pygments_lexer": "ipython3",
   "version": "3.11.6"
  },
  "livereveal": {
   "scroll": true,
   "start_slideshow_at": "selected",
   "transition": "zoom"
  }
 },
 "nbformat": 4,
 "nbformat_minor": 4
}
