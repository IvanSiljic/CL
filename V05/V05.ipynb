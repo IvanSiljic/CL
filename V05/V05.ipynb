{
 "cells": [
  {
   "cell_type": "markdown",
   "source": [
    "# N-gramski jezični model"
   ],
   "metadata": {
    "collapsed": false
   },
   "id": "855f9136267757e7"
  },
  {
   "cell_type": "code",
   "execution_count": 2,
   "outputs": [],
   "source": [
    "import re\n",
    "\n",
    "import nltk"
   ],
   "metadata": {
    "collapsed": false,
    "ExecuteTime": {
     "end_time": "2023-11-07T12:39:06.792759550Z",
     "start_time": "2023-11-07T12:39:06.626477494Z"
    }
   },
   "id": "4d5c05e52be032f8"
  },
  {
   "cell_type": "code",
   "execution_count": 21,
   "outputs": [],
   "source": [
    "# Tekst kao lista rečenica, segmentirana na riječi\n",
    "text = [['a', 'b', 'c'], ['a', 'c', 'd', 'c', 'f']]"
   ],
   "metadata": {
    "collapsed": false,
    "ExecuteTime": {
     "end_time": "2023-11-07T12:57:54.665670556Z",
     "start_time": "2023-11-07T12:57:54.624058464Z"
    }
   },
   "id": "c6ed520d24bcec43"
  },
  {
   "cell_type": "code",
   "execution_count": 22,
   "outputs": [
    {
     "data": {
      "text/plain": "[('a', 'c', 'd'), ('c', 'd', 'c'), ('d', 'c', 'f')]"
     },
     "execution_count": 22,
     "metadata": {},
     "output_type": "execute_result"
    }
   ],
   "source": [
    "from nltk.util import bigrams, ngrams\n",
    "\n",
    "list(bigrams(text[0]))\n",
    "list(ngrams(text[0], n = 3))\n",
    "list(ngrams(text[1], n = 3))"
   ],
   "metadata": {
    "collapsed": false,
    "ExecuteTime": {
     "end_time": "2023-11-07T12:57:55.617261362Z",
     "start_time": "2023-11-07T12:57:55.613637855Z"
    }
   },
   "id": "91893cad55ec5adc"
  },
  {
   "cell_type": "code",
   "execution_count": 23,
   "outputs": [
    {
     "data": {
      "text/plain": "['<s>', 'a', 'b', 'c', '</s>']"
     },
     "execution_count": 23,
     "metadata": {},
     "output_type": "execute_result"
    }
   ],
   "source": [
    "from nltk.util import pad_sequence\n",
    "list(\n",
    "    pad_sequence(\n",
    "        text[0],\n",
    "        pad_left = True,\n",
    "        left_pad_symbol = \"<s>\",\n",
    "        pad_right = True,\n",
    "        right_pad_symbol = \"</s>\",\n",
    "        n = 2\n",
    "    )\n",
    ")"
   ],
   "metadata": {
    "collapsed": false,
    "ExecuteTime": {
     "end_time": "2023-11-07T12:57:55.874559491Z",
     "start_time": "2023-11-07T12:57:55.870169940Z"
    }
   },
   "id": "8c8838d08cb8ae8e"
  },
  {
   "cell_type": "code",
   "execution_count": 24,
   "outputs": [
    {
     "data": {
      "text/plain": "[('<s>', 'a'), ('a', 'b'), ('b', 'c'), ('c', '</s>')]"
     },
     "execution_count": 24,
     "metadata": {},
     "output_type": "execute_result"
    }
   ],
   "source": [
    "from nltk.lm.preprocessing import pad_both_ends\n",
    "\n",
    "list(\n",
    "    bigrams(pad_both_ends(text[0], n = 2))\n",
    ")"
   ],
   "metadata": {
    "collapsed": false,
    "ExecuteTime": {
     "end_time": "2023-11-07T12:57:56.049444103Z",
     "start_time": "2023-11-07T12:57:56.044966447Z"
    }
   },
   "id": "4cb99e88047d6a7a"
  },
  {
   "cell_type": "code",
   "execution_count": 33,
   "outputs": [
    {
     "name": "stdout",
     "output_type": "stream",
     "text": [
      "text: [['a', 'b', 'c'], ['a', 'c', 'd', 'c', 'f']]\n",
      "train: [('<s>',), ('<s>', 'a'), ('a',), ('a', 'b'), ('b',), ('b', 'c'), ('c',), ('c', '</s>'), ('</s>',)]\n",
      "vocab: ['<s>', 'a', 'b', 'c', '</s>', '<s>', 'a', 'c', 'd', 'c', 'f', '</s>']\n"
     ]
    }
   ],
   "source": [
    "from nltk.lm.preprocessing import padded_everygram_pipeline # Alat koji proizvodi engrame\n",
    "\n",
    "train, vocab = padded_everygram_pipeline(2, text)\n",
    "\n",
    "train_data = list(list(train)[0])\n",
    "vocab_data = list(vocab)\n",
    "\n",
    "print(f'text: {text}')\n",
    "print(f'train: {train_data}')\n",
    "print(f'vocab: {vocab_data}')\n"
   ],
   "metadata": {
    "collapsed": false,
    "ExecuteTime": {
     "end_time": "2023-11-07T13:00:03.264972511Z",
     "start_time": "2023-11-07T13:00:03.222778112Z"
    }
   },
   "id": "31f6301e63cb12fc"
  },
  {
   "cell_type": "code",
   "execution_count": 51,
   "outputs": [
    {
     "data": {
      "text/plain": "2.449489742783178"
     },
     "execution_count": 51,
     "metadata": {},
     "output_type": "execute_result"
    }
   ],
   "source": [
    "# Složimo sada N-gram model za neki primjer\n",
    "text = [['a', 'b', 'c'], ['b', 'c', 'd', 'c', 'e', 'f'],['a','f','e']]\n",
    "test = [('a', 'b'), ('c', 'd')]\n",
    "\n",
    "from nltk.lm.preprocessing import padded_everygram_pipeline\n",
    "train, vocab = padded_everygram_pipeline(2, text)\n",
    "\n",
    "# definiramo modele\n",
    "from nltk.lm import MLE\n",
    "lm = MLE(2)\n",
    "# izracunaj vrijednosti\n",
    "lm.fit(train, vocab)\n",
    "\n",
    "# koliko puta se pojavila rijec 'e'\n",
    "lm.counts['e']\n",
    "\n",
    "# koliko se puta pojavio bigram 'a b'\n",
    "lm.counts[['a']]['b']\n",
    "\n",
    "# kolika je vjerojatnost riječi 'a'\n",
    "lm.score('a')\n",
    "\n",
    "# kolika je vjerojatnost da na početku rečenice imamo 'b'\n",
    "lm.score('b', ['<s>'])\n",
    "\n",
    "lm.perplexity(test)"
   ],
   "metadata": {
    "collapsed": false,
    "ExecuteTime": {
     "end_time": "2023-11-07T13:14:50.145806087Z",
     "start_time": "2023-11-07T13:14:50.141947808Z"
    }
   },
   "id": "3482ead297be400b"
  },
  {
   "cell_type": "markdown",
   "source": [
    "# N-gram model za patnje mladog Werthera"
   ],
   "metadata": {
    "collapsed": false
   },
   "id": "bcc43560425dbbf"
  },
  {
   "cell_type": "code",
   "execution_count": 107,
   "outputs": [],
   "source": [
    "from nltk.tokenize import sent_tokenize\n",
    "import re\n",
    "import random\n",
    "\n",
    "def prepare(corpora, split = 0.7):\n",
    "    \"\"\"\n",
    "    funkcija učitava tekst i priprema za definiranje modela\n",
    "    \"\"\"\n",
    "    # čitanje iz datoteke\n",
    "    dataset = open(corpora, 'r', encoding='utf8').read()\n",
    "    # izbacimo gluposti\n",
    "    dataset = re.sub('\\n+', ' ', dataset)\n",
    "        \n",
    "    # rečenice iz teksta\n",
    "    sents = sent_tokenize(dataset)\n",
    "    random.shuffle(sents)\n",
    "    \n",
    "    # podjela\n",
    "    index = int(split * len(sents))\n",
    "    trainset, testset = sents[:index], sents[index:]\n",
    "    \n",
    "    with open('/home/isiljic/Desktop/CL/V05/data/train.txt', 'w', encoding='utf8') as train:\n",
    "        for sent in trainset:\n",
    "            train.write(sent)\n",
    "            train.write('\\n')\n",
    "    \n",
    "    with open('/home/isiljic/Desktop/CL/V05/data/test.txt', 'w', encoding='utf8') as test:\n",
    "        for sent in testset:\n",
    "            test.write(sent)\n",
    "            test.write('\\n')\n"
   ],
   "metadata": {
    "collapsed": false,
    "ExecuteTime": {
     "end_time": "2023-11-07T13:43:09.068255660Z",
     "start_time": "2023-11-07T13:43:09.021991173Z"
    }
   },
   "id": "b7d456f4e3970391"
  },
  {
   "cell_type": "code",
   "execution_count": 108,
   "outputs": [
    {
     "name": "stdout",
     "output_type": "stream",
     "text": [
      "1708 733\n"
     ]
    }
   ],
   "source": [
    "prepare('/home/isiljic/Desktop/CL/V05/data/werther.txt')"
   ],
   "metadata": {
    "collapsed": false,
    "ExecuteTime": {
     "end_time": "2023-11-07T13:43:09.501920064Z",
     "start_time": "2023-11-07T13:43:09.457637921Z"
    }
   },
   "id": "948bc87645501d94"
  },
  {
   "cell_type": "code",
   "execution_count": 109,
   "outputs": [
    {
     "data": {
      "text/plain": "[['Da', ',', 'imaš', 'pravo', ':', 'bilo', 'bi', 'mi', 'bolje', 'da', 'odem', '.'], ['Pogledao', 'sam', 'u', 'Lotu', 'i', 'osjetio', 'sve', 'što', 'je', 'ona', 'meni', '.'], ...]"
     },
     "execution_count": 109,
     "metadata": {},
     "output_type": "execute_result"
    }
   ],
   "source": [
    "# uciraj mo ga kao nltk corpus\n",
    "from nltk.corpus import PlaintextCorpusReader\n",
    "\n",
    "werther_train = PlaintextCorpusReader('/home/isiljic/Desktop/CL/V05/data/', 'train.txt')\n",
    "\n",
    "werther_train.sents()"
   ],
   "metadata": {
    "collapsed": false,
    "ExecuteTime": {
     "end_time": "2023-11-07T13:45:37.945169334Z",
     "start_time": "2023-11-07T13:45:37.888637341Z"
    }
   },
   "id": "5a2f6c67fd080caa"
  },
  {
   "cell_type": "code",
   "execution_count": null,
   "outputs": [],
   "source": [],
   "metadata": {
    "collapsed": false
   },
   "id": "ba339f7aee8a63e"
  }
 ],
 "metadata": {
  "kernelspec": {
   "display_name": "Python 3",
   "language": "python",
   "name": "python3"
  },
  "language_info": {
   "codemirror_mode": {
    "name": "ipython",
    "version": 2
   },
   "file_extension": ".py",
   "mimetype": "text/x-python",
   "name": "python",
   "nbconvert_exporter": "python",
   "pygments_lexer": "ipython2",
   "version": "2.7.6"
  }
 },
 "nbformat": 4,
 "nbformat_minor": 5
}
